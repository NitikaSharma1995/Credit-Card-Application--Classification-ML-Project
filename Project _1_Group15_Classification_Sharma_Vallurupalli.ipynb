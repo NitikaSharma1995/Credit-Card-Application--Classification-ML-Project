{
 "cells": [
  {
   "cell_type": "markdown",
   "id": "182b4713",
   "metadata": {},
   "source": [
    "# This is a Classification notebook"
   ]
  },
  {
   "cell_type": "markdown",
   "id": "aa5a5805",
   "metadata": {},
   "source": [
    "### Importing the required Modules"
   ]
  },
  {
   "cell_type": "code",
   "execution_count": 1,
   "id": "bfa65236",
   "metadata": {},
   "outputs": [],
   "source": [
    "import numpy as np\n",
    "import pandas as pd\n",
    "import matplotlib.pyplot as plt\n",
    "import seaborn as sns\n",
    "import scipy\n",
    "import sklearn\n",
    "import os \n",
    "import graphviz\n",
    "from sklearn.model_selection import train_test_split\n",
    "from pandas.plotting import scatter_matrix\n",
    "from sklearn.preprocessing import MinMaxScaler\n",
    "from sklearn.metrics import accuracy_score\n",
    "from sklearn.model_selection import GridSearchCV\n",
    "from sklearn.neighbors import KNeighborsClassifier\n",
    "from sklearn.linear_model import LogisticRegression\n",
    "from sklearn.preprocessing import StandardScaler\n",
    "from mlxtend.plotting import plot_decision_regions\n",
    "from sklearn.svm import LinearSVC\n",
    "from sklearn.metrics import confusion_matrix,classification_report\n",
    "from sklearn.tree import DecisionTreeClassifier"
   ]
  },
  {
   "cell_type": "markdown",
   "id": "25822c8f",
   "metadata": {},
   "source": [
    "### Loding the classification data"
   ]
  },
  {
   "cell_type": "code",
   "execution_count": 2,
   "id": "7dbe47b1",
   "metadata": {},
   "outputs": [
    {
     "data": {
      "text/html": [
       "<div>\n",
       "<style scoped>\n",
       "    .dataframe tbody tr th:only-of-type {\n",
       "        vertical-align: middle;\n",
       "    }\n",
       "\n",
       "    .dataframe tbody tr th {\n",
       "        vertical-align: top;\n",
       "    }\n",
       "\n",
       "    .dataframe thead th {\n",
       "        text-align: right;\n",
       "    }\n",
       "</style>\n",
       "<table border=\"1\" class=\"dataframe\">\n",
       "  <thead>\n",
       "    <tr style=\"text-align: right;\">\n",
       "      <th></th>\n",
       "      <th>ID</th>\n",
       "      <th>CODE_GENDER</th>\n",
       "      <th>FLAG_OWN_CAR</th>\n",
       "      <th>FLAG_OWN_REALTY</th>\n",
       "      <th>CNT_CHILDREN</th>\n",
       "      <th>AMT_INCOME_TOTAL</th>\n",
       "      <th>NAME_INCOME_TYPE</th>\n",
       "      <th>NAME_EDUCATION_TYPE</th>\n",
       "      <th>NAME_FAMILY_STATUS</th>\n",
       "      <th>NAME_HOUSING_TYPE</th>\n",
       "      <th>DAYS_BIRTH</th>\n",
       "      <th>DAYS_EMPLOYED</th>\n",
       "      <th>FLAG_MOBIL</th>\n",
       "      <th>FLAG_WORK_PHONE</th>\n",
       "      <th>FLAG_PHONE</th>\n",
       "      <th>FLAG_EMAIL</th>\n",
       "      <th>OCCUPATION_TYPE</th>\n",
       "      <th>CNT_FAM_MEMBERS</th>\n",
       "    </tr>\n",
       "  </thead>\n",
       "  <tbody>\n",
       "    <tr>\n",
       "      <th>0</th>\n",
       "      <td>5008804</td>\n",
       "      <td>M</td>\n",
       "      <td>Y</td>\n",
       "      <td>Y</td>\n",
       "      <td>0.0</td>\n",
       "      <td>427500.0</td>\n",
       "      <td>Working</td>\n",
       "      <td>Higher education</td>\n",
       "      <td>Civil marriage</td>\n",
       "      <td>Rented apartment</td>\n",
       "      <td>-12005.0</td>\n",
       "      <td>-4542.0</td>\n",
       "      <td>1.0</td>\n",
       "      <td>1.0</td>\n",
       "      <td>0.0</td>\n",
       "      <td>0.0</td>\n",
       "      <td>NaN</td>\n",
       "      <td>2</td>\n",
       "    </tr>\n",
       "    <tr>\n",
       "      <th>1</th>\n",
       "      <td>5008805</td>\n",
       "      <td>M</td>\n",
       "      <td>Y</td>\n",
       "      <td>Y</td>\n",
       "      <td>0.0</td>\n",
       "      <td>427500.0</td>\n",
       "      <td>Working</td>\n",
       "      <td>Higher education</td>\n",
       "      <td>Civil marriage</td>\n",
       "      <td>Rented apartment</td>\n",
       "      <td>-12005.0</td>\n",
       "      <td>-4542.0</td>\n",
       "      <td>1.0</td>\n",
       "      <td>1.0</td>\n",
       "      <td>0.0</td>\n",
       "      <td>0.0</td>\n",
       "      <td>NaN</td>\n",
       "      <td>2</td>\n",
       "    </tr>\n",
       "    <tr>\n",
       "      <th>2</th>\n",
       "      <td>5008806</td>\n",
       "      <td>M</td>\n",
       "      <td>Y</td>\n",
       "      <td>Y</td>\n",
       "      <td>0.0</td>\n",
       "      <td>112500.0</td>\n",
       "      <td>Working</td>\n",
       "      <td>Secondary / secondary special</td>\n",
       "      <td>Married</td>\n",
       "      <td>House / apartment</td>\n",
       "      <td>-21474.0</td>\n",
       "      <td>-1134.0</td>\n",
       "      <td>1.0</td>\n",
       "      <td>0.0</td>\n",
       "      <td>0.0</td>\n",
       "      <td>0.0</td>\n",
       "      <td>Security staff</td>\n",
       "      <td>2</td>\n",
       "    </tr>\n",
       "    <tr>\n",
       "      <th>3</th>\n",
       "      <td>5008808</td>\n",
       "      <td>F</td>\n",
       "      <td>N</td>\n",
       "      <td>Y</td>\n",
       "      <td>0.0</td>\n",
       "      <td>270000.0</td>\n",
       "      <td>Commercial associate</td>\n",
       "      <td>Secondary / secondary special</td>\n",
       "      <td>Single / not married</td>\n",
       "      <td>House / apartment</td>\n",
       "      <td>-19110.0</td>\n",
       "      <td>-3051.0</td>\n",
       "      <td>1.0</td>\n",
       "      <td>0.0</td>\n",
       "      <td>1.0</td>\n",
       "      <td>1.0</td>\n",
       "      <td>Sales staff</td>\n",
       "      <td>1</td>\n",
       "    </tr>\n",
       "    <tr>\n",
       "      <th>4</th>\n",
       "      <td>5008809</td>\n",
       "      <td>F</td>\n",
       "      <td>N</td>\n",
       "      <td>Y</td>\n",
       "      <td>0.0</td>\n",
       "      <td>270000.0</td>\n",
       "      <td>Commercial associate</td>\n",
       "      <td>Secondary / secondary special</td>\n",
       "      <td>Single / not married</td>\n",
       "      <td>House / apartment</td>\n",
       "      <td>-19110.0</td>\n",
       "      <td>-3051.0</td>\n",
       "      <td>1.0</td>\n",
       "      <td>0.0</td>\n",
       "      <td>1.0</td>\n",
       "      <td>1.0</td>\n",
       "      <td>Sales staff</td>\n",
       "      <td>1</td>\n",
       "    </tr>\n",
       "  </tbody>\n",
       "</table>\n",
       "</div>"
      ],
      "text/plain": [
       "        ID CODE_GENDER FLAG_OWN_CAR FLAG_OWN_REALTY  CNT_CHILDREN  \\\n",
       "0  5008804           M            Y               Y           0.0   \n",
       "1  5008805           M            Y               Y           0.0   \n",
       "2  5008806           M            Y               Y           0.0   \n",
       "3  5008808           F            N               Y           0.0   \n",
       "4  5008809           F            N               Y           0.0   \n",
       "\n",
       "   AMT_INCOME_TOTAL      NAME_INCOME_TYPE            NAME_EDUCATION_TYPE  \\\n",
       "0          427500.0               Working               Higher education   \n",
       "1          427500.0               Working               Higher education   \n",
       "2          112500.0               Working  Secondary / secondary special   \n",
       "3          270000.0  Commercial associate  Secondary / secondary special   \n",
       "4          270000.0  Commercial associate  Secondary / secondary special   \n",
       "\n",
       "     NAME_FAMILY_STATUS  NAME_HOUSING_TYPE  DAYS_BIRTH  DAYS_EMPLOYED  \\\n",
       "0        Civil marriage   Rented apartment    -12005.0        -4542.0   \n",
       "1        Civil marriage   Rented apartment    -12005.0        -4542.0   \n",
       "2               Married  House / apartment    -21474.0        -1134.0   \n",
       "3  Single / not married  House / apartment    -19110.0        -3051.0   \n",
       "4  Single / not married  House / apartment    -19110.0        -3051.0   \n",
       "\n",
       "   FLAG_MOBIL  FLAG_WORK_PHONE  FLAG_PHONE  FLAG_EMAIL OCCUPATION_TYPE  \\\n",
       "0         1.0              1.0         0.0         0.0             NaN   \n",
       "1         1.0              1.0         0.0         0.0             NaN   \n",
       "2         1.0              0.0         0.0         0.0  Security staff   \n",
       "3         1.0              0.0         1.0         1.0     Sales staff   \n",
       "4         1.0              0.0         1.0         1.0     Sales staff   \n",
       "\n",
       "   CNT_FAM_MEMBERS  \n",
       "0                2  \n",
       "1                2  \n",
       "2                2  \n",
       "3                1  \n",
       "4                1  "
      ]
     },
     "execution_count": 2,
     "metadata": {},
     "output_type": "execute_result"
    }
   ],
   "source": [
    "df_creditcard= pd.read_csv(\"Credit_card_application.csv\")\n",
    "df_creditcard.head()"
   ]
  },
  {
   "cell_type": "markdown",
   "id": "7844e739",
   "metadata": {},
   "source": [
    "### Reading Data from credit_record csv file."
   ]
  },
  {
   "cell_type": "code",
   "execution_count": 3,
   "id": "7bf0a940",
   "metadata": {},
   "outputs": [
    {
     "data": {
      "text/html": [
       "<div>\n",
       "<style scoped>\n",
       "    .dataframe tbody tr th:only-of-type {\n",
       "        vertical-align: middle;\n",
       "    }\n",
       "\n",
       "    .dataframe tbody tr th {\n",
       "        vertical-align: top;\n",
       "    }\n",
       "\n",
       "    .dataframe thead th {\n",
       "        text-align: right;\n",
       "    }\n",
       "</style>\n",
       "<table border=\"1\" class=\"dataframe\">\n",
       "  <thead>\n",
       "    <tr style=\"text-align: right;\">\n",
       "      <th></th>\n",
       "      <th>ID</th>\n",
       "      <th>MONTHS_BALANCE</th>\n",
       "      <th>STATUS</th>\n",
       "    </tr>\n",
       "  </thead>\n",
       "  <tbody>\n",
       "    <tr>\n",
       "      <th>0</th>\n",
       "      <td>5001711</td>\n",
       "      <td>0</td>\n",
       "      <td>X</td>\n",
       "    </tr>\n",
       "    <tr>\n",
       "      <th>1</th>\n",
       "      <td>5001711</td>\n",
       "      <td>-1</td>\n",
       "      <td>0</td>\n",
       "    </tr>\n",
       "    <tr>\n",
       "      <th>2</th>\n",
       "      <td>5001711</td>\n",
       "      <td>-2</td>\n",
       "      <td>0</td>\n",
       "    </tr>\n",
       "    <tr>\n",
       "      <th>3</th>\n",
       "      <td>5001711</td>\n",
       "      <td>-3</td>\n",
       "      <td>0</td>\n",
       "    </tr>\n",
       "    <tr>\n",
       "      <th>4</th>\n",
       "      <td>5001712</td>\n",
       "      <td>0</td>\n",
       "      <td>C</td>\n",
       "    </tr>\n",
       "  </tbody>\n",
       "</table>\n",
       "</div>"
      ],
      "text/plain": [
       "        ID  MONTHS_BALANCE STATUS\n",
       "0  5001711               0      X\n",
       "1  5001711              -1      0\n",
       "2  5001711              -2      0\n",
       "3  5001711              -3      0\n",
       "4  5001712               0      C"
      ]
     },
     "execution_count": 3,
     "metadata": {},
     "output_type": "execute_result"
    }
   ],
   "source": [
    "df_cardrecord= pd.read_csv(\"credit_record.csv\")\n",
    "df_cardrecord.head()"
   ]
  },
  {
   "cell_type": "markdown",
   "id": "15d56fde",
   "metadata": {},
   "source": [
    "### Reading Data from credit_record csv file."
   ]
  },
  {
   "cell_type": "code",
   "execution_count": 4,
   "id": "cc95ab39",
   "metadata": {},
   "outputs": [
    {
     "data": {
      "text/plain": [
       "(438557, 18)"
      ]
     },
     "execution_count": 4,
     "metadata": {},
     "output_type": "execute_result"
    }
   ],
   "source": [
    "#Checking the shape of the data\n",
    "df_creditcard.shape"
   ]
  },
  {
   "cell_type": "markdown",
   "id": "112ec028",
   "metadata": {},
   "source": [
    "### Checking info of creditcard dataframe"
   ]
  },
  {
   "cell_type": "code",
   "execution_count": 5,
   "id": "e9b8bf1f",
   "metadata": {},
   "outputs": [
    {
     "name": "stdout",
     "output_type": "stream",
     "text": [
      "<class 'pandas.core.frame.DataFrame'>\n",
      "RangeIndex: 438557 entries, 0 to 438556\n",
      "Data columns (total 18 columns):\n",
      " #   Column               Non-Null Count   Dtype  \n",
      "---  ------               --------------   -----  \n",
      " 0   ID                   438557 non-null  int64  \n",
      " 1   CODE_GENDER          422958 non-null  object \n",
      " 2   FLAG_OWN_CAR         416886 non-null  object \n",
      " 3   FLAG_OWN_REALTY      416818 non-null  object \n",
      " 4   CNT_CHILDREN         416976 non-null  float64\n",
      " 5   AMT_INCOME_TOTAL     417203 non-null  float64\n",
      " 6   NAME_INCOME_TYPE     416524 non-null  object \n",
      " 7   NAME_EDUCATION_TYPE  415537 non-null  object \n",
      " 8   NAME_FAMILY_STATUS   416543 non-null  object \n",
      " 9   NAME_HOUSING_TYPE    415359 non-null  object \n",
      " 10  DAYS_BIRTH           416558 non-null  float64\n",
      " 11  DAYS_EMPLOYED        416921 non-null  float64\n",
      " 12  FLAG_MOBIL           416527 non-null  float64\n",
      " 13  FLAG_WORK_PHONE      417023 non-null  float64\n",
      " 14  FLAG_PHONE           417737 non-null  float64\n",
      " 15  FLAG_EMAIL           417903 non-null  float64\n",
      " 16  OCCUPATION_TYPE      303832 non-null  object \n",
      " 17  CNT_FAM_MEMBERS      438557 non-null  int64  \n",
      "dtypes: float64(8), int64(2), object(8)\n",
      "memory usage: 60.2+ MB\n"
     ]
    }
   ],
   "source": [
    "df_creditcard.info()"
   ]
  },
  {
   "cell_type": "markdown",
   "id": "9ec1cbe2",
   "metadata": {},
   "source": [
    "### Checking shape of creditcard dataframe"
   ]
  },
  {
   "cell_type": "code",
   "execution_count": 6,
   "id": "a40dd9a2",
   "metadata": {},
   "outputs": [
    {
     "data": {
      "text/plain": [
       "(1048575, 3)"
      ]
     },
     "execution_count": 6,
     "metadata": {},
     "output_type": "execute_result"
    }
   ],
   "source": [
    "df_cardrecord.shape"
   ]
  },
  {
   "cell_type": "markdown",
   "id": "261fd5e6",
   "metadata": {},
   "source": [
    "### Checking info of cardrecord dataframe"
   ]
  },
  {
   "cell_type": "code",
   "execution_count": 7,
   "id": "19b14100",
   "metadata": {},
   "outputs": [
    {
     "name": "stdout",
     "output_type": "stream",
     "text": [
      "<class 'pandas.core.frame.DataFrame'>\n",
      "RangeIndex: 1048575 entries, 0 to 1048574\n",
      "Data columns (total 3 columns):\n",
      " #   Column          Non-Null Count    Dtype \n",
      "---  ------          --------------    ----- \n",
      " 0   ID              1048575 non-null  int64 \n",
      " 1   MONTHS_BALANCE  1048575 non-null  int64 \n",
      " 2   STATUS          1048575 non-null  object\n",
      "dtypes: int64(2), object(1)\n",
      "memory usage: 24.0+ MB\n"
     ]
    }
   ],
   "source": [
    "df_cardrecord.info()"
   ]
  },
  {
   "cell_type": "code",
   "execution_count": 8,
   "id": "a1535f91",
   "metadata": {},
   "outputs": [
    {
     "data": {
      "text/plain": [
       "Index(['ID', 'CODE_GENDER', 'FLAG_OWN_CAR', 'FLAG_OWN_REALTY', 'CNT_CHILDREN',\n",
       "       'AMT_INCOME_TOTAL', 'NAME_INCOME_TYPE', 'NAME_EDUCATION_TYPE',\n",
       "       'NAME_FAMILY_STATUS', 'NAME_HOUSING_TYPE', 'DAYS_BIRTH',\n",
       "       'DAYS_EMPLOYED', 'FLAG_MOBIL', 'FLAG_WORK_PHONE', 'FLAG_PHONE',\n",
       "       'FLAG_EMAIL', 'OCCUPATION_TYPE', 'CNT_FAM_MEMBERS'],\n",
       "      dtype='object')"
      ]
     },
     "execution_count": 8,
     "metadata": {},
     "output_type": "execute_result"
    }
   ],
   "source": [
    "#Checking columns creditcard\n",
    "df_creditcard.columns"
   ]
  },
  {
   "cell_type": "markdown",
   "id": "e00ce45b",
   "metadata": {},
   "source": [
    "## Cleaning the dataset and imputing the values after checking the visualization on different charts"
   ]
  },
  {
   "cell_type": "code",
   "execution_count": 9,
   "id": "58aea1d8",
   "metadata": {},
   "outputs": [
    {
     "data": {
      "text/plain": [
       "Index(['ID', 'MONTHS_BALANCE', 'STATUS'], dtype='object')"
      ]
     },
     "execution_count": 9,
     "metadata": {},
     "output_type": "execute_result"
    }
   ],
   "source": [
    "#Checking columns cardrecord\n",
    "df_cardrecord.columns"
   ]
  },
  {
   "cell_type": "code",
   "execution_count": 10,
   "id": "11c9a6a2",
   "metadata": {},
   "outputs": [
    {
     "data": {
      "text/plain": [
       "ID                          0\n",
       "CODE_GENDER             15599\n",
       "FLAG_OWN_CAR            21671\n",
       "FLAG_OWN_REALTY         21739\n",
       "CNT_CHILDREN            21581\n",
       "AMT_INCOME_TOTAL        21354\n",
       "NAME_INCOME_TYPE        22033\n",
       "NAME_EDUCATION_TYPE     23020\n",
       "NAME_FAMILY_STATUS      22014\n",
       "NAME_HOUSING_TYPE       23198\n",
       "DAYS_BIRTH              21999\n",
       "DAYS_EMPLOYED           21636\n",
       "FLAG_MOBIL              22030\n",
       "FLAG_WORK_PHONE         21534\n",
       "FLAG_PHONE              20820\n",
       "FLAG_EMAIL              20654\n",
       "OCCUPATION_TYPE        134725\n",
       "CNT_FAM_MEMBERS             0\n",
       "dtype: int64"
      ]
     },
     "execution_count": 10,
     "metadata": {},
     "output_type": "execute_result"
    }
   ],
   "source": [
    "#Checking null values in df_creditcard\n",
    "df_creditcard.isna().sum()"
   ]
  },
  {
   "cell_type": "markdown",
   "id": "f0183c71",
   "metadata": {},
   "source": [
    "### Checking null values"
   ]
  },
  {
   "cell_type": "code",
   "execution_count": 11,
   "id": "54373fbe",
   "metadata": {},
   "outputs": [
    {
     "data": {
      "text/plain": [
       "ID                0\n",
       "MONTHS_BALANCE    0\n",
       "STATUS            0\n",
       "dtype: int64"
      ]
     },
     "execution_count": 11,
     "metadata": {},
     "output_type": "execute_result"
    }
   ],
   "source": [
    "df_cardrecord.isna().sum()"
   ]
  },
  {
   "cell_type": "markdown",
   "id": "bf7cfd8b",
   "metadata": {},
   "source": [
    "## We see that nearly 5-10% data is missing in df_creditcard dataframe. We will be analysing each column in df_creditcard and substituting with appropriate values df_creditcard['CODE_GENDER']"
   ]
  },
  {
   "cell_type": "code",
   "execution_count": 12,
   "id": "9cf0ed9e",
   "metadata": {},
   "outputs": [
    {
     "name": "stdout",
     "output_type": "stream",
     "text": [
      "F    284011\n",
      "M    138947\n",
      "Name: CODE_GENDER, dtype: int64\n",
      "\n",
      "Number of null values are 15599\n"
     ]
    }
   ],
   "source": [
    "print(df_creditcard['CODE_GENDER'].value_counts())\n",
    "print(\"\\nNumber of null values are\",df_creditcard['CODE_GENDER'].isna().sum())\n",
    "# substituting nulls with maximum value that is F\n",
    "df_creditcard['CODE_GENDER'].replace(to_replace=np.NaN,value='F',inplace=True)"
   ]
  },
  {
   "cell_type": "markdown",
   "id": "292e53f3",
   "metadata": {},
   "source": [
    "### df_creditcard['CODE_GENDER'] decription"
   ]
  },
  {
   "cell_type": "code",
   "execution_count": 13,
   "id": "9cdd7d0c",
   "metadata": {},
   "outputs": [
    {
     "data": {
      "text/plain": [
       "count     438557\n",
       "unique         2\n",
       "top            F\n",
       "freq      299610\n",
       "Name: CODE_GENDER, dtype: object"
      ]
     },
     "execution_count": 13,
     "metadata": {},
     "output_type": "execute_result"
    }
   ],
   "source": [
    "#df_creditcard['CODE_GENDER'] decription\n",
    "df_creditcard['CODE_GENDER'].describe()"
   ]
  },
  {
   "cell_type": "markdown",
   "id": "ee02e16b",
   "metadata": {},
   "source": [
    "### Graph of Percentage of Applications based on Gender"
   ]
  },
  {
   "cell_type": "code",
   "execution_count": 14,
   "id": "780fe7f8",
   "metadata": {},
   "outputs": [
    {
     "data": {
      "image/png": "[encoded data removed]",
      "text/plain": [
       "<Figure size 432x288 with 1 Axes>"
      ]
     },
     "metadata": {},
     "output_type": "display_data"
    }
   ],
   "source": [
    "explode =[0.0, 0.15]\n",
    "plt.pie(df_creditcard['CODE_GENDER'].value_counts(), labels=['Female', 'Male'], explode=explode, shadow= 0.2,autopct='%1.2f%%')\n",
    "plt.title('Percentage of Applications submitted based on Gender')\n",
    "plt.show()"
   ]
  },
  {
   "cell_type": "code",
   "execution_count": 15,
   "id": "e991fc5a",
   "metadata": {},
   "outputs": [
    {
     "data": {
      "text/plain": [
       "0"
      ]
     },
     "execution_count": 15,
     "metadata": {},
     "output_type": "execute_result"
    }
   ],
   "source": [
    "df_creditcard['CODE_GENDER'].isna().sum()"
   ]
  },
  {
   "cell_type": "markdown",
   "id": "0ceff481",
   "metadata": {},
   "source": [
    "### Mapping Female to 1 and male to 0"
   ]
  },
  {
   "cell_type": "code",
   "execution_count": 16,
   "id": "da0552e5",
   "metadata": {},
   "outputs": [],
   "source": [
    "#Mapping Female to 1 and male to 0\n",
    "df_creditcard['CODE_GENDER'] = df_creditcard['CODE_GENDER'].map({'F':1, 'M':0}).astype(object)"
   ]
  },
  {
   "cell_type": "code",
   "execution_count": 17,
   "id": "a5940282",
   "metadata": {},
   "outputs": [
    {
     "data": {
      "text/plain": [
       "1    299610\n",
       "0    138947\n",
       "Name: CODE_GENDER, dtype: int64"
      ]
     },
     "execution_count": 17,
     "metadata": {},
     "output_type": "execute_result"
    }
   ],
   "source": [
    "df_creditcard['CODE_GENDER'].value_counts()"
   ]
  },
  {
   "cell_type": "markdown",
   "id": "27057501",
   "metadata": {},
   "source": [
    "### Counting values in FLAG_OWN_CAR column and checking for nulls"
   ]
  },
  {
   "cell_type": "code",
   "execution_count": 18,
   "id": "fdc9dfad",
   "metadata": {},
   "outputs": [
    {
     "name": "stdout",
     "output_type": "stream",
     "text": [
      "N    261672\n",
      "Y    155214\n",
      "Name: FLAG_OWN_CAR, dtype: int64\n",
      "\n",
      "Number of null values are 21671\n"
     ]
    }
   ],
   "source": [
    "# FLAG_OWN_CAR column\n",
    "print(df_creditcard['FLAG_OWN_CAR'].value_counts())\n",
    "print(\"\\nNumber of null values are\",df_creditcard['FLAG_OWN_CAR'].isna().sum())"
   ]
  },
  {
   "cell_type": "markdown",
   "id": "4278a7d9",
   "metadata": {},
   "source": [
    "### substituting nulls with maximum value that is N"
   ]
  },
  {
   "cell_type": "code",
   "execution_count": 19,
   "id": "bb5a55a3",
   "metadata": {},
   "outputs": [],
   "source": [
    "# substituting nulls with maximum value that is N\n",
    "df_creditcard['FLAG_OWN_CAR'].replace(to_replace=np.NaN,value='N',inplace=True)"
   ]
  },
  {
   "cell_type": "markdown",
   "id": "cad3c09a",
   "metadata": {},
   "source": [
    "### Graph of Percentage of Applications based on owning a car"
   ]
  },
  {
   "cell_type": "code",
   "execution_count": 20,
   "id": "4276d035",
   "metadata": {},
   "outputs": [
    {
     "data": {
      "image/png": "[encoded data removed]",
      "text/plain": [
       "<Figure size 432x288 with 1 Axes>"
      ]
     },
     "metadata": {},
     "output_type": "display_data"
    }
   ],
   "source": [
    "#Visulaization of FLAG_OWN_CAR column\n",
    "explode =[0.0, 0.15]\n",
    "plt.pie(df_creditcard['FLAG_OWN_CAR'].value_counts(), labels=['N', 'Y'], explode=explode, shadow= 0.2,autopct='%1.2f%%')\n",
    "plt.title('Percentage of Applications submitted based on Owning a Car')\n",
    "plt.show()"
   ]
  },
  {
   "cell_type": "code",
   "execution_count": 21,
   "id": "2509784f",
   "metadata": {},
   "outputs": [
    {
     "data": {
      "text/plain": [
       "N    283343\n",
       "Y    155214\n",
       "Name: FLAG_OWN_CAR, dtype: int64"
      ]
     },
     "execution_count": 21,
     "metadata": {},
     "output_type": "execute_result"
    }
   ],
   "source": [
    "df_creditcard['FLAG_OWN_CAR'].value_counts()"
   ]
  },
  {
   "cell_type": "code",
   "execution_count": 22,
   "id": "563e698e",
   "metadata": {},
   "outputs": [],
   "source": [
    "df_creditcard['FLAG_OWN_CAR'] = df_creditcard['FLAG_OWN_CAR'].map({'N':1, 'Y':0}).astype(int)"
   ]
  },
  {
   "cell_type": "code",
   "execution_count": 23,
   "id": "a5b88bc4",
   "metadata": {},
   "outputs": [
    {
     "data": {
      "text/plain": [
       "1    283343\n",
       "0    155214\n",
       "Name: FLAG_OWN_CAR, dtype: int64"
      ]
     },
     "execution_count": 23,
     "metadata": {},
     "output_type": "execute_result"
    }
   ],
   "source": [
    "df_creditcard['FLAG_OWN_CAR'].value_counts()"
   ]
  },
  {
   "cell_type": "markdown",
   "id": "3625a15f",
   "metadata": {},
   "source": [
    "### Now Based on owing a reality"
   ]
  },
  {
   "cell_type": "code",
   "execution_count": 24,
   "id": "13be8497",
   "metadata": {},
   "outputs": [
    {
     "name": "stdout",
     "output_type": "stream",
     "text": [
      "Y    289612\n",
      "N    127206\n",
      "Name: FLAG_OWN_REALTY, dtype: int64\n",
      "\n",
      "Number of null values are 21739\n"
     ]
    }
   ],
   "source": [
    "# Now Based on owing reality\n",
    "print(df_creditcard['FLAG_OWN_REALTY'].value_counts())\n",
    "print(\"\\nNumber of null values are\",df_creditcard['FLAG_OWN_REALTY'].isna().sum())"
   ]
  },
  {
   "cell_type": "code",
   "execution_count": 25,
   "id": "78e2b0f6",
   "metadata": {},
   "outputs": [
    {
     "data": {
      "text/plain": [
       "Y    289612\n",
       "N    127206\n",
       "Name: FLAG_OWN_REALTY, dtype: int64"
      ]
     },
     "execution_count": 25,
     "metadata": {},
     "output_type": "execute_result"
    }
   ],
   "source": [
    "df_creditcard['FLAG_OWN_REALTY'].value_counts()"
   ]
  },
  {
   "cell_type": "markdown",
   "id": "b1a09947",
   "metadata": {},
   "source": [
    "### Graph of Percentage of Applications based on real estate"
   ]
  },
  {
   "cell_type": "code",
   "execution_count": 26,
   "id": "657ca691",
   "metadata": {},
   "outputs": [
    {
     "data": {
      "image/png": "[encoded data removed]",
      "text/plain": [
       "<Figure size 432x288 with 1 Axes>"
      ]
     },
     "metadata": {},
     "output_type": "display_data"
    }
   ],
   "source": [
    "# Visulization based on owning a realty\n",
    "explode =[0.0, 0.15]\n",
    "plt.pie(df_creditcard['FLAG_OWN_REALTY'].value_counts(), labels=['Yes', 'No'],explode=explode,shadow= 0.2, autopct='%1.2f%%')\n",
    "plt.title('Percentage of Applications submitted based on owning a realty')\n",
    "plt.show()"
   ]
  },
  {
   "cell_type": "code",
   "execution_count": 27,
   "id": "b7cfdedb",
   "metadata": {},
   "outputs": [],
   "source": [
    "df_creditcard['FLAG_OWN_REALTY'].replace(to_replace=np.NaN,value='Y',inplace=True)"
   ]
  },
  {
   "cell_type": "code",
   "execution_count": 28,
   "id": "5bd2849c",
   "metadata": {},
   "outputs": [],
   "source": [
    "df_creditcard['FLAG_OWN_REALTY'] = df_creditcard['FLAG_OWN_REALTY'].map({'Y':1, 'N':0}).astype(object)"
   ]
  },
  {
   "cell_type": "code",
   "execution_count": 29,
   "id": "e553ea2c",
   "metadata": {},
   "outputs": [
    {
     "data": {
      "text/plain": [
       "1    311351\n",
       "0    127206\n",
       "Name: FLAG_OWN_REALTY, dtype: int64"
      ]
     },
     "execution_count": 29,
     "metadata": {},
     "output_type": "execute_result"
    }
   ],
   "source": [
    "df_creditcard['FLAG_OWN_REALTY'].value_counts()"
   ]
  },
  {
   "cell_type": "code",
   "execution_count": 30,
   "id": "4179d1fe",
   "metadata": {},
   "outputs": [
    {
     "data": {
      "text/plain": [
       "0"
      ]
     },
     "execution_count": 30,
     "metadata": {},
     "output_type": "execute_result"
    }
   ],
   "source": [
    "df_creditcard['FLAG_OWN_REALTY'].isna().sum()"
   ]
  },
  {
   "cell_type": "code",
   "execution_count": 31,
   "id": "350da9bf",
   "metadata": {},
   "outputs": [
    {
     "data": {
      "text/plain": [
       "1    311351\n",
       "0    127206\n",
       "Name: FLAG_OWN_REALTY, dtype: int64"
      ]
     },
     "execution_count": 31,
     "metadata": {},
     "output_type": "execute_result"
    }
   ],
   "source": [
    "df_creditcard['FLAG_OWN_REALTY'].value_counts()"
   ]
  },
  {
   "cell_type": "markdown",
   "id": "ee404b87",
   "metadata": {},
   "source": [
    "### Counting children - CNT_CHILDREN column"
   ]
  },
  {
   "cell_type": "code",
   "execution_count": 32,
   "id": "657dbee8",
   "metadata": {},
   "outputs": [
    {
     "data": {
      "text/plain": [
       "0.0     289135\n",
       "1.0      84224\n",
       "2.0      37881\n",
       "3.0       5117\n",
       "4.0        463\n",
       "5.0        133\n",
       "7.0          9\n",
       "9.0          5\n",
       "12.0         4\n",
       "6.0          4\n",
       "19.0         1\n",
       "Name: CNT_CHILDREN, dtype: int64"
      ]
     },
     "execution_count": 32,
     "metadata": {},
     "output_type": "execute_result"
    }
   ],
   "source": [
    "#Counting children - CNT_CHILDREN\n",
    "df_creditcard['CNT_CHILDREN'].value_counts()"
   ]
  },
  {
   "cell_type": "code",
   "execution_count": 33,
   "id": "5c5f4b08",
   "metadata": {},
   "outputs": [
    {
     "data": {
      "text/plain": [
       "21581"
      ]
     },
     "execution_count": 33,
     "metadata": {},
     "output_type": "execute_result"
    }
   ],
   "source": [
    "#This ordinal data, but no changes are been made because children can be any whole number in real-time\n",
    "#Checking for null value\n",
    "df_creditcard['CNT_CHILDREN'].isna().sum()"
   ]
  },
  {
   "cell_type": "code",
   "execution_count": 34,
   "id": "a5c9d526",
   "metadata": {},
   "outputs": [],
   "source": [
    "#Mapping missing values to 0 children\n",
    "df_creditcard['CNT_CHILDREN'].replace(to_replace=np.NaN,value=0,inplace=True)"
   ]
  },
  {
   "cell_type": "markdown",
   "id": "c3f4781e",
   "metadata": {},
   "source": [
    "### AMT_INCOME_TOTAL column"
   ]
  },
  {
   "cell_type": "code",
   "execution_count": 35,
   "id": "446f2990",
   "metadata": {},
   "outputs": [
    {
     "data": {
      "text/plain": [
       "135000.00    44739\n",
       "157500.00    37730\n",
       "180000.00    35950\n",
       "112500.00    35203\n",
       "225000.00    32648\n",
       "             ...  \n",
       "109603.35        1\n",
       "123916.50        1\n",
       "32139.00         1\n",
       "362911.50        1\n",
       "125730.00        1\n",
       "Name: AMT_INCOME_TOTAL, Length: 841, dtype: int64"
      ]
     },
     "execution_count": 35,
     "metadata": {},
     "output_type": "execute_result"
    }
   ],
   "source": [
    "#AMT_INCOME_TOTAL is a continuous value\n",
    "df_creditcard['AMT_INCOME_TOTAL'].value_counts()"
   ]
  },
  {
   "cell_type": "code",
   "execution_count": 36,
   "id": "4fa74583",
   "metadata": {},
   "outputs": [
    {
     "data": {
      "text/plain": [
       "21354"
      ]
     },
     "execution_count": 36,
     "metadata": {},
     "output_type": "execute_result"
    }
   ],
   "source": [
    "df_creditcard['AMT_INCOME_TOTAL'].isna().sum()"
   ]
  },
  {
   "cell_type": "markdown",
   "id": "cd4c22e8",
   "metadata": {},
   "source": [
    "### Plot visulaization of AMT_INCOME_TOTAL column"
   ]
  },
  {
   "cell_type": "code",
   "execution_count": 37,
   "id": "fe6ab2fd",
   "metadata": {},
   "outputs": [
    {
     "data": {
      "image/png": "[encoded data removed]",
      "text/plain": [
       "<Figure size 1584x504 with 1 Axes>"
      ]
     },
     "metadata": {
      "needs_background": "light"
     },
     "output_type": "display_data"
    }
   ],
   "source": [
    "#plot visulaization of AMT_INCOME_TOTAL column\n",
    "plt.figure(figsize=(22,7))\n",
    "plt.hist(df_creditcard['AMT_INCOME_TOTAL'],bins=20)\n",
    "plt.grid()\n",
    "plt.show()"
   ]
  },
  {
   "cell_type": "markdown",
   "id": "3e2e1491",
   "metadata": {},
   "source": [
    "### The visualization is slightly right skewed, so we are replcing null values with median of the AMT_INCOME_TOTAL column"
   ]
  },
  {
   "cell_type": "code",
   "execution_count": 38,
   "id": "24d33b50",
   "metadata": {},
   "outputs": [],
   "source": [
    "# The visualization is slightly right skewed, so we are replcing null values with median of the AMT_INCOME_TOTAL column\n",
    "df_creditcard['AMT_INCOME_TOTAL'].replace(to_replace=np.NaN,value=df_creditcard['AMT_INCOME_TOTAL'].median(),inplace=True)"
   ]
  },
  {
   "cell_type": "code",
   "execution_count": 39,
   "id": "c601072c",
   "metadata": {},
   "outputs": [
    {
     "data": {
      "text/plain": [
       "135000.00    44739\n",
       "157500.00    37730\n",
       "180000.00    35950\n",
       "112500.00    35203\n",
       "225000.00    32648\n",
       "             ...  \n",
       "109603.35        1\n",
       "123916.50        1\n",
       "32139.00         1\n",
       "362911.50        1\n",
       "125730.00        1\n",
       "Name: AMT_INCOME_TOTAL, Length: 841, dtype: int64"
      ]
     },
     "execution_count": 39,
     "metadata": {},
     "output_type": "execute_result"
    }
   ],
   "source": [
    "#After replacing with median values\n",
    "df_creditcard['AMT_INCOME_TOTAL'].value_counts()"
   ]
  },
  {
   "cell_type": "code",
   "execution_count": 40,
   "id": "7938a64c",
   "metadata": {},
   "outputs": [
    {
     "data": {
      "text/plain": [
       "Working                 214760\n",
       "Commercial associate     95771\n",
       "Pensioner                71770\n",
       "State servant            34214\n",
       "Student                      9\n",
       "Name: NAME_INCOME_TYPE, dtype: int64"
      ]
     },
     "execution_count": 40,
     "metadata": {},
     "output_type": "execute_result"
    }
   ],
   "source": [
    "#Validating NAME_INCOME_TYPE column\n",
    "df_creditcard['NAME_INCOME_TYPE'].value_counts()"
   ]
  },
  {
   "cell_type": "markdown",
   "id": "3a0b8f4a",
   "metadata": {},
   "source": [
    "### Visulization of NAME_INCOME_TYPE column"
   ]
  },
  {
   "cell_type": "code",
   "execution_count": 41,
   "id": "b526b4a7",
   "metadata": {},
   "outputs": [
    {
     "data": {
      "image/png": "[encoded data removed]",
      "text/plain": [
       "<Figure size 432x432 with 1 Axes>"
      ]
     },
     "metadata": {},
     "output_type": "display_data"
    }
   ],
   "source": [
    "#Visulization of NAME_INCOME_TYPE column\n",
    "plt.figure(figsize = (6,6))\n",
    "plt.pie(df_creditcard['NAME_INCOME_TYPE'].value_counts(), \n",
    "        labels=df_creditcard['NAME_INCOME_TYPE'].value_counts().index, autopct='%1.2f%%')\n",
    "plt.title('% of Applications submitted based on Income Type')\n",
    "plt.legend()\n",
    "plt.show()"
   ]
  },
  {
   "cell_type": "code",
   "execution_count": 42,
   "id": "d2ba97a1",
   "metadata": {},
   "outputs": [
    {
     "data": {
      "text/plain": [
       "22033"
      ]
     },
     "execution_count": 42,
     "metadata": {},
     "output_type": "execute_result"
    }
   ],
   "source": [
    "#Checking for null values\n",
    "df_creditcard['NAME_INCOME_TYPE'].isna().sum()"
   ]
  },
  {
   "cell_type": "markdown",
   "id": "16538b41",
   "metadata": {},
   "source": [
    "#### Here 22033 have null values, so we are putting them in 'Working category' rather than putting in No working as this would cause an impact in another way"
   ]
  },
  {
   "cell_type": "code",
   "execution_count": 43,
   "id": "4a6fd1fc",
   "metadata": {},
   "outputs": [],
   "source": [
    "# Here 22033 have null values, so we are putting them in 'Working category' rather than putting in No working as this would cause an impact in another way\n",
    "df_creditcard['NAME_INCOME_TYPE'].replace(to_replace=np.NaN,value='Working',inplace=True)"
   ]
  },
  {
   "cell_type": "markdown",
   "id": "17307b93",
   "metadata": {},
   "source": [
    "### We use one-hot encoding on NAME_INCOME_TYPE"
   ]
  },
  {
   "cell_type": "code",
   "execution_count": 44,
   "id": "c3ae8b42",
   "metadata": {},
   "outputs": [
    {
     "data": {
      "text/html": [
       "<div>\n",
       "<style scoped>\n",
       "    .dataframe tbody tr th:only-of-type {\n",
       "        vertical-align: middle;\n",
       "    }\n",
       "\n",
       "    .dataframe tbody tr th {\n",
       "        vertical-align: top;\n",
       "    }\n",
       "\n",
       "    .dataframe thead th {\n",
       "        text-align: right;\n",
       "    }\n",
       "</style>\n",
       "<table border=\"1\" class=\"dataframe\">\n",
       "  <thead>\n",
       "    <tr style=\"text-align: right;\">\n",
       "      <th></th>\n",
       "      <th>ID</th>\n",
       "      <th>CODE_GENDER</th>\n",
       "      <th>FLAG_OWN_CAR</th>\n",
       "      <th>FLAG_OWN_REALTY</th>\n",
       "      <th>CNT_CHILDREN</th>\n",
       "      <th>AMT_INCOME_TOTAL</th>\n",
       "      <th>NAME_EDUCATION_TYPE</th>\n",
       "      <th>NAME_FAMILY_STATUS</th>\n",
       "      <th>NAME_HOUSING_TYPE</th>\n",
       "      <th>DAYS_BIRTH</th>\n",
       "      <th>...</th>\n",
       "      <th>FLAG_WORK_PHONE</th>\n",
       "      <th>FLAG_PHONE</th>\n",
       "      <th>FLAG_EMAIL</th>\n",
       "      <th>OCCUPATION_TYPE</th>\n",
       "      <th>CNT_FAM_MEMBERS</th>\n",
       "      <th>NAME_INCOME_TYPE_Commercial associate</th>\n",
       "      <th>NAME_INCOME_TYPE_Pensioner</th>\n",
       "      <th>NAME_INCOME_TYPE_State servant</th>\n",
       "      <th>NAME_INCOME_TYPE_Student</th>\n",
       "      <th>NAME_INCOME_TYPE_Working</th>\n",
       "    </tr>\n",
       "  </thead>\n",
       "  <tbody>\n",
       "    <tr>\n",
       "      <th>0</th>\n",
       "      <td>5008804</td>\n",
       "      <td>0</td>\n",
       "      <td>0</td>\n",
       "      <td>1</td>\n",
       "      <td>0.0</td>\n",
       "      <td>427500.0</td>\n",
       "      <td>Higher education</td>\n",
       "      <td>Civil marriage</td>\n",
       "      <td>Rented apartment</td>\n",
       "      <td>-12005.0</td>\n",
       "      <td>...</td>\n",
       "      <td>1.0</td>\n",
       "      <td>0.0</td>\n",
       "      <td>0.0</td>\n",
       "      <td>NaN</td>\n",
       "      <td>2</td>\n",
       "      <td>0</td>\n",
       "      <td>0</td>\n",
       "      <td>0</td>\n",
       "      <td>0</td>\n",
       "      <td>1</td>\n",
       "    </tr>\n",
       "    <tr>\n",
       "      <th>1</th>\n",
       "      <td>5008805</td>\n",
       "      <td>0</td>\n",
       "      <td>0</td>\n",
       "      <td>1</td>\n",
       "      <td>0.0</td>\n",
       "      <td>427500.0</td>\n",
       "      <td>Higher education</td>\n",
       "      <td>Civil marriage</td>\n",
       "      <td>Rented apartment</td>\n",
       "      <td>-12005.0</td>\n",
       "      <td>...</td>\n",
       "      <td>1.0</td>\n",
       "      <td>0.0</td>\n",
       "      <td>0.0</td>\n",
       "      <td>NaN</td>\n",
       "      <td>2</td>\n",
       "      <td>0</td>\n",
       "      <td>0</td>\n",
       "      <td>0</td>\n",
       "      <td>0</td>\n",
       "      <td>1</td>\n",
       "    </tr>\n",
       "    <tr>\n",
       "      <th>2</th>\n",
       "      <td>5008806</td>\n",
       "      <td>0</td>\n",
       "      <td>0</td>\n",
       "      <td>1</td>\n",
       "      <td>0.0</td>\n",
       "      <td>112500.0</td>\n",
       "      <td>Secondary / secondary special</td>\n",
       "      <td>Married</td>\n",
       "      <td>House / apartment</td>\n",
       "      <td>-21474.0</td>\n",
       "      <td>...</td>\n",
       "      <td>0.0</td>\n",
       "      <td>0.0</td>\n",
       "      <td>0.0</td>\n",
       "      <td>Security staff</td>\n",
       "      <td>2</td>\n",
       "      <td>0</td>\n",
       "      <td>0</td>\n",
       "      <td>0</td>\n",
       "      <td>0</td>\n",
       "      <td>1</td>\n",
       "    </tr>\n",
       "    <tr>\n",
       "      <th>3</th>\n",
       "      <td>5008808</td>\n",
       "      <td>1</td>\n",
       "      <td>1</td>\n",
       "      <td>1</td>\n",
       "      <td>0.0</td>\n",
       "      <td>270000.0</td>\n",
       "      <td>Secondary / secondary special</td>\n",
       "      <td>Single / not married</td>\n",
       "      <td>House / apartment</td>\n",
       "      <td>-19110.0</td>\n",
       "      <td>...</td>\n",
       "      <td>0.0</td>\n",
       "      <td>1.0</td>\n",
       "      <td>1.0</td>\n",
       "      <td>Sales staff</td>\n",
       "      <td>1</td>\n",
       "      <td>1</td>\n",
       "      <td>0</td>\n",
       "      <td>0</td>\n",
       "      <td>0</td>\n",
       "      <td>0</td>\n",
       "    </tr>\n",
       "    <tr>\n",
       "      <th>4</th>\n",
       "      <td>5008809</td>\n",
       "      <td>1</td>\n",
       "      <td>1</td>\n",
       "      <td>1</td>\n",
       "      <td>0.0</td>\n",
       "      <td>270000.0</td>\n",
       "      <td>Secondary / secondary special</td>\n",
       "      <td>Single / not married</td>\n",
       "      <td>House / apartment</td>\n",
       "      <td>-19110.0</td>\n",
       "      <td>...</td>\n",
       "      <td>0.0</td>\n",
       "      <td>1.0</td>\n",
       "      <td>1.0</td>\n",
       "      <td>Sales staff</td>\n",
       "      <td>1</td>\n",
       "      <td>1</td>\n",
       "      <td>0</td>\n",
       "      <td>0</td>\n",
       "      <td>0</td>\n",
       "      <td>0</td>\n",
       "    </tr>\n",
       "  </tbody>\n",
       "</table>\n",
       "<p>5 rows × 22 columns</p>\n",
       "</div>"
      ],
      "text/plain": [
       "        ID CODE_GENDER  FLAG_OWN_CAR FLAG_OWN_REALTY  CNT_CHILDREN  \\\n",
       "0  5008804           0             0               1           0.0   \n",
       "1  5008805           0             0               1           0.0   \n",
       "2  5008806           0             0               1           0.0   \n",
       "3  5008808           1             1               1           0.0   \n",
       "4  5008809           1             1               1           0.0   \n",
       "\n",
       "   AMT_INCOME_TOTAL            NAME_EDUCATION_TYPE    NAME_FAMILY_STATUS  \\\n",
       "0          427500.0               Higher education        Civil marriage   \n",
       "1          427500.0               Higher education        Civil marriage   \n",
       "2          112500.0  Secondary / secondary special               Married   \n",
       "3          270000.0  Secondary / secondary special  Single / not married   \n",
       "4          270000.0  Secondary / secondary special  Single / not married   \n",
       "\n",
       "   NAME_HOUSING_TYPE  DAYS_BIRTH  ...  FLAG_WORK_PHONE  FLAG_PHONE  \\\n",
       "0   Rented apartment    -12005.0  ...              1.0         0.0   \n",
       "1   Rented apartment    -12005.0  ...              1.0         0.0   \n",
       "2  House / apartment    -21474.0  ...              0.0         0.0   \n",
       "3  House / apartment    -19110.0  ...              0.0         1.0   \n",
       "4  House / apartment    -19110.0  ...              0.0         1.0   \n",
       "\n",
       "   FLAG_EMAIL  OCCUPATION_TYPE  CNT_FAM_MEMBERS  \\\n",
       "0         0.0              NaN                2   \n",
       "1         0.0              NaN                2   \n",
       "2         0.0   Security staff                2   \n",
       "3         1.0      Sales staff                1   \n",
       "4         1.0      Sales staff                1   \n",
       "\n",
       "  NAME_INCOME_TYPE_Commercial associate  NAME_INCOME_TYPE_Pensioner  \\\n",
       "0                                     0                           0   \n",
       "1                                     0                           0   \n",
       "2                                     0                           0   \n",
       "3                                     1                           0   \n",
       "4                                     1                           0   \n",
       "\n",
       "   NAME_INCOME_TYPE_State servant  NAME_INCOME_TYPE_Student  \\\n",
       "0                               0                         0   \n",
       "1                               0                         0   \n",
       "2                               0                         0   \n",
       "3                               0                         0   \n",
       "4                               0                         0   \n",
       "\n",
       "   NAME_INCOME_TYPE_Working  \n",
       "0                         1  \n",
       "1                         1  \n",
       "2                         1  \n",
       "3                         0  \n",
       "4                         0  \n",
       "\n",
       "[5 rows x 22 columns]"
      ]
     },
     "execution_count": 44,
     "metadata": {},
     "output_type": "execute_result"
    }
   ],
   "source": [
    "#we use one-hot encoding on NAME_INCOME_TYPE\n",
    "cols = pd.get_dummies(df_creditcard['NAME_INCOME_TYPE'], prefix= 'NAME_INCOME_TYPE')\n",
    "df_creditcard[cols.columns] = cols\n",
    "df_creditcard.drop('NAME_INCOME_TYPE', axis = 1, inplace = True)\n",
    "df_creditcard.head()"
   ]
  },
  {
   "cell_type": "code",
   "execution_count": 45,
   "id": "7ea1210e",
   "metadata": {},
   "outputs": [
    {
     "data": {
      "text/plain": [
       "Secondary / secondary special    286031\n",
       "Higher education                 111433\n",
       "Incomplete higher                 13921\n",
       "Lower secondary                    3886\n",
       "Academic degree                     266\n",
       "Name: NAME_EDUCATION_TYPE, dtype: int64"
      ]
     },
     "execution_count": 45,
     "metadata": {},
     "output_type": "execute_result"
    }
   ],
   "source": [
    "#Checking for data in NAME_EDUCATION_TYPE column\n",
    "df_creditcard['NAME_EDUCATION_TYPE'].value_counts()"
   ]
  },
  {
   "cell_type": "markdown",
   "id": "60735aaf",
   "metadata": {},
   "source": [
    "### Visualization on the basis of Education Type"
   ]
  },
  {
   "cell_type": "code",
   "execution_count": 46,
   "id": "0ac215d4",
   "metadata": {},
   "outputs": [
    {
     "data": {
      "image/png": "[encoded data removed]",
      "text/plain": [
       "<Figure size 1368x432 with 1 Axes>"
      ]
     },
     "metadata": {
      "needs_background": "light"
     },
     "output_type": "display_data"
    }
   ],
   "source": [
    "#PLotting visulaization\n",
    "plt.figure(figsize=(19,6))\n",
    "sns.countplot(x='NAME_EDUCATION_TYPE',data=df_creditcard)\n",
    "plt.title('Count based on Education Type')\n",
    "plt.show()"
   ]
  },
  {
   "cell_type": "code",
   "execution_count": 47,
   "id": "756577d2",
   "metadata": {},
   "outputs": [
    {
     "data": {
      "text/plain": [
       "23020"
      ]
     },
     "execution_count": 47,
     "metadata": {},
     "output_type": "execute_result"
    }
   ],
   "source": [
    "#checking for null values\n",
    "df_creditcard['NAME_EDUCATION_TYPE'].isna().sum()"
   ]
  },
  {
   "cell_type": "code",
   "execution_count": 48,
   "id": "4fa8f4d9",
   "metadata": {},
   "outputs": [],
   "source": [
    "#Replcing null value with highest Education Type\n",
    "df_creditcard['NAME_EDUCATION_TYPE'].replace(to_replace=np.NaN,value='Secondary / secondary special',inplace=True)"
   ]
  },
  {
   "cell_type": "markdown",
   "id": "8257145e",
   "metadata": {},
   "source": [
    "### we use one-hot encoding on NAME_EDUCATION_TYPE"
   ]
  },
  {
   "cell_type": "code",
   "execution_count": 49,
   "id": "d9e55cc8",
   "metadata": {},
   "outputs": [
    {
     "data": {
      "text/html": [
       "<div>\n",
       "<style scoped>\n",
       "    .dataframe tbody tr th:only-of-type {\n",
       "        vertical-align: middle;\n",
       "    }\n",
       "\n",
       "    .dataframe tbody tr th {\n",
       "        vertical-align: top;\n",
       "    }\n",
       "\n",
       "    .dataframe thead th {\n",
       "        text-align: right;\n",
       "    }\n",
       "</style>\n",
       "<table border=\"1\" class=\"dataframe\">\n",
       "  <thead>\n",
       "    <tr style=\"text-align: right;\">\n",
       "      <th></th>\n",
       "      <th>ID</th>\n",
       "      <th>CODE_GENDER</th>\n",
       "      <th>FLAG_OWN_CAR</th>\n",
       "      <th>FLAG_OWN_REALTY</th>\n",
       "      <th>CNT_CHILDREN</th>\n",
       "      <th>AMT_INCOME_TOTAL</th>\n",
       "      <th>NAME_FAMILY_STATUS</th>\n",
       "      <th>NAME_HOUSING_TYPE</th>\n",
       "      <th>DAYS_BIRTH</th>\n",
       "      <th>DAYS_EMPLOYED</th>\n",
       "      <th>...</th>\n",
       "      <th>NAME_INCOME_TYPE_Commercial associate</th>\n",
       "      <th>NAME_INCOME_TYPE_Pensioner</th>\n",
       "      <th>NAME_INCOME_TYPE_State servant</th>\n",
       "      <th>NAME_INCOME_TYPE_Student</th>\n",
       "      <th>NAME_INCOME_TYPE_Working</th>\n",
       "      <th>NAME_EDUCATION_TYPE_Academic degree</th>\n",
       "      <th>NAME_EDUCATION_TYPE_Higher education</th>\n",
       "      <th>NAME_EDUCATION_TYPE_Incomplete higher</th>\n",
       "      <th>NAME_EDUCATION_TYPE_Lower secondary</th>\n",
       "      <th>NAME_EDUCATION_TYPE_Secondary / secondary special</th>\n",
       "    </tr>\n",
       "  </thead>\n",
       "  <tbody>\n",
       "    <tr>\n",
       "      <th>0</th>\n",
       "      <td>5008804</td>\n",
       "      <td>0</td>\n",
       "      <td>0</td>\n",
       "      <td>1</td>\n",
       "      <td>0.0</td>\n",
       "      <td>427500.0</td>\n",
       "      <td>Civil marriage</td>\n",
       "      <td>Rented apartment</td>\n",
       "      <td>-12005.0</td>\n",
       "      <td>-4542.0</td>\n",
       "      <td>...</td>\n",
       "      <td>0</td>\n",
       "      <td>0</td>\n",
       "      <td>0</td>\n",
       "      <td>0</td>\n",
       "      <td>1</td>\n",
       "      <td>0</td>\n",
       "      <td>1</td>\n",
       "      <td>0</td>\n",
       "      <td>0</td>\n",
       "      <td>0</td>\n",
       "    </tr>\n",
       "    <tr>\n",
       "      <th>1</th>\n",
       "      <td>5008805</td>\n",
       "      <td>0</td>\n",
       "      <td>0</td>\n",
       "      <td>1</td>\n",
       "      <td>0.0</td>\n",
       "      <td>427500.0</td>\n",
       "      <td>Civil marriage</td>\n",
       "      <td>Rented apartment</td>\n",
       "      <td>-12005.0</td>\n",
       "      <td>-4542.0</td>\n",
       "      <td>...</td>\n",
       "      <td>0</td>\n",
       "      <td>0</td>\n",
       "      <td>0</td>\n",
       "      <td>0</td>\n",
       "      <td>1</td>\n",
       "      <td>0</td>\n",
       "      <td>1</td>\n",
       "      <td>0</td>\n",
       "      <td>0</td>\n",
       "      <td>0</td>\n",
       "    </tr>\n",
       "    <tr>\n",
       "      <th>2</th>\n",
       "      <td>5008806</td>\n",
       "      <td>0</td>\n",
       "      <td>0</td>\n",
       "      <td>1</td>\n",
       "      <td>0.0</td>\n",
       "      <td>112500.0</td>\n",
       "      <td>Married</td>\n",
       "      <td>House / apartment</td>\n",
       "      <td>-21474.0</td>\n",
       "      <td>-1134.0</td>\n",
       "      <td>...</td>\n",
       "      <td>0</td>\n",
       "      <td>0</td>\n",
       "      <td>0</td>\n",
       "      <td>0</td>\n",
       "      <td>1</td>\n",
       "      <td>0</td>\n",
       "      <td>0</td>\n",
       "      <td>0</td>\n",
       "      <td>0</td>\n",
       "      <td>1</td>\n",
       "    </tr>\n",
       "    <tr>\n",
       "      <th>3</th>\n",
       "      <td>5008808</td>\n",
       "      <td>1</td>\n",
       "      <td>1</td>\n",
       "      <td>1</td>\n",
       "      <td>0.0</td>\n",
       "      <td>270000.0</td>\n",
       "      <td>Single / not married</td>\n",
       "      <td>House / apartment</td>\n",
       "      <td>-19110.0</td>\n",
       "      <td>-3051.0</td>\n",
       "      <td>...</td>\n",
       "      <td>1</td>\n",
       "      <td>0</td>\n",
       "      <td>0</td>\n",
       "      <td>0</td>\n",
       "      <td>0</td>\n",
       "      <td>0</td>\n",
       "      <td>0</td>\n",
       "      <td>0</td>\n",
       "      <td>0</td>\n",
       "      <td>1</td>\n",
       "    </tr>\n",
       "    <tr>\n",
       "      <th>4</th>\n",
       "      <td>5008809</td>\n",
       "      <td>1</td>\n",
       "      <td>1</td>\n",
       "      <td>1</td>\n",
       "      <td>0.0</td>\n",
       "      <td>270000.0</td>\n",
       "      <td>Single / not married</td>\n",
       "      <td>House / apartment</td>\n",
       "      <td>-19110.0</td>\n",
       "      <td>-3051.0</td>\n",
       "      <td>...</td>\n",
       "      <td>1</td>\n",
       "      <td>0</td>\n",
       "      <td>0</td>\n",
       "      <td>0</td>\n",
       "      <td>0</td>\n",
       "      <td>0</td>\n",
       "      <td>0</td>\n",
       "      <td>0</td>\n",
       "      <td>0</td>\n",
       "      <td>1</td>\n",
       "    </tr>\n",
       "  </tbody>\n",
       "</table>\n",
       "<p>5 rows × 26 columns</p>\n",
       "</div>"
      ],
      "text/plain": [
       "        ID CODE_GENDER  FLAG_OWN_CAR FLAG_OWN_REALTY  CNT_CHILDREN  \\\n",
       "0  5008804           0             0               1           0.0   \n",
       "1  5008805           0             0               1           0.0   \n",
       "2  5008806           0             0               1           0.0   \n",
       "3  5008808           1             1               1           0.0   \n",
       "4  5008809           1             1               1           0.0   \n",
       "\n",
       "   AMT_INCOME_TOTAL    NAME_FAMILY_STATUS  NAME_HOUSING_TYPE  DAYS_BIRTH  \\\n",
       "0          427500.0        Civil marriage   Rented apartment    -12005.0   \n",
       "1          427500.0        Civil marriage   Rented apartment    -12005.0   \n",
       "2          112500.0               Married  House / apartment    -21474.0   \n",
       "3          270000.0  Single / not married  House / apartment    -19110.0   \n",
       "4          270000.0  Single / not married  House / apartment    -19110.0   \n",
       "\n",
       "   DAYS_EMPLOYED  ...  NAME_INCOME_TYPE_Commercial associate  \\\n",
       "0        -4542.0  ...                                      0   \n",
       "1        -4542.0  ...                                      0   \n",
       "2        -1134.0  ...                                      0   \n",
       "3        -3051.0  ...                                      1   \n",
       "4        -3051.0  ...                                      1   \n",
       "\n",
       "   NAME_INCOME_TYPE_Pensioner  NAME_INCOME_TYPE_State servant  \\\n",
       "0                           0                               0   \n",
       "1                           0                               0   \n",
       "2                           0                               0   \n",
       "3                           0                               0   \n",
       "4                           0                               0   \n",
       "\n",
       "   NAME_INCOME_TYPE_Student NAME_INCOME_TYPE_Working  \\\n",
       "0                         0                        1   \n",
       "1                         0                        1   \n",
       "2                         0                        1   \n",
       "3                         0                        0   \n",
       "4                         0                        0   \n",
       "\n",
       "   NAME_EDUCATION_TYPE_Academic degree  NAME_EDUCATION_TYPE_Higher education  \\\n",
       "0                                    0                                     1   \n",
       "1                                    0                                     1   \n",
       "2                                    0                                     0   \n",
       "3                                    0                                     0   \n",
       "4                                    0                                     0   \n",
       "\n",
       "   NAME_EDUCATION_TYPE_Incomplete higher  NAME_EDUCATION_TYPE_Lower secondary  \\\n",
       "0                                      0                                    0   \n",
       "1                                      0                                    0   \n",
       "2                                      0                                    0   \n",
       "3                                      0                                    0   \n",
       "4                                      0                                    0   \n",
       "\n",
       "   NAME_EDUCATION_TYPE_Secondary / secondary special  \n",
       "0                                                  0  \n",
       "1                                                  0  \n",
       "2                                                  1  \n",
       "3                                                  1  \n",
       "4                                                  1  \n",
       "\n",
       "[5 rows x 26 columns]"
      ]
     },
     "execution_count": 49,
     "metadata": {},
     "output_type": "execute_result"
    }
   ],
   "source": [
    "#we use one-hot encoding on NAME_EDUCATION_TYPE\n",
    "cols = pd.get_dummies(df_creditcard['NAME_EDUCATION_TYPE'], prefix= 'NAME_EDUCATION_TYPE')\n",
    "df_creditcard[cols.columns] = cols\n",
    "df_creditcard.drop('NAME_EDUCATION_TYPE', axis = 1, inplace = True)\n",
    "df_creditcard.head()"
   ]
  },
  {
   "cell_type": "code",
   "execution_count": 50,
   "id": "5fbb58c6",
   "metadata": {},
   "outputs": [
    {
     "data": {
      "text/plain": [
       "Married                 284648\n",
       "Single / not married     52723\n",
       "Civil marriage           34583\n",
       "Separated                25811\n",
       "Widow                    18778\n",
       "Name: NAME_FAMILY_STATUS, dtype: int64"
      ]
     },
     "execution_count": 50,
     "metadata": {},
     "output_type": "execute_result"
    }
   ],
   "source": [
    "#Checking for NAME_FAMILY_STATUS columns\n",
    "df_creditcard['NAME_FAMILY_STATUS'].value_counts()"
   ]
  },
  {
   "cell_type": "markdown",
   "id": "0546145e",
   "metadata": {},
   "source": [
    "### Visualization on the basis of Family Status"
   ]
  },
  {
   "cell_type": "code",
   "execution_count": 51,
   "id": "42e7dbfc",
   "metadata": {},
   "outputs": [
    {
     "data": {
      "image/png": "[encoded data removed]",
      "text/plain": [
       "<Figure size 1368x432 with 1 Axes>"
      ]
     },
     "metadata": {
      "needs_background": "light"
     },
     "output_type": "display_data"
    }
   ],
   "source": [
    "#Visulization\n",
    "plt.figure(figsize=(19,6))\n",
    "sns.countplot(x='NAME_FAMILY_STATUS',data=df_creditcard)\n",
    "plt.title('Count based on Family Status')\n",
    "plt.show()"
   ]
  },
  {
   "cell_type": "code",
   "execution_count": 52,
   "id": "fd0bf14d",
   "metadata": {},
   "outputs": [
    {
     "data": {
      "text/plain": [
       "22014"
      ]
     },
     "execution_count": 52,
     "metadata": {},
     "output_type": "execute_result"
    }
   ],
   "source": [
    "#Checking for null values\n",
    "df_creditcard['NAME_FAMILY_STATUS'].isna().sum()"
   ]
  },
  {
   "cell_type": "code",
   "execution_count": 53,
   "id": "5cc7ce08",
   "metadata": {},
   "outputs": [],
   "source": [
    "#Replcing Null values with highest value- married\n",
    "df_creditcard['NAME_FAMILY_STATUS'].replace(to_replace=np.NaN,value='Married',inplace=True)"
   ]
  },
  {
   "cell_type": "code",
   "execution_count": 54,
   "id": "4347edb6",
   "metadata": {},
   "outputs": [
    {
     "data": {
      "text/plain": [
       "0"
      ]
     },
     "execution_count": 54,
     "metadata": {},
     "output_type": "execute_result"
    }
   ],
   "source": [
    "#Nulls after substituting\n",
    "df_creditcard['NAME_FAMILY_STATUS'].isna().sum()"
   ]
  },
  {
   "cell_type": "code",
   "execution_count": 55,
   "id": "5c6d9e6c",
   "metadata": {},
   "outputs": [
    {
     "data": {
      "text/html": [
       "<div>\n",
       "<style scoped>\n",
       "    .dataframe tbody tr th:only-of-type {\n",
       "        vertical-align: middle;\n",
       "    }\n",
       "\n",
       "    .dataframe tbody tr th {\n",
       "        vertical-align: top;\n",
       "    }\n",
       "\n",
       "    .dataframe thead th {\n",
       "        text-align: right;\n",
       "    }\n",
       "</style>\n",
       "<table border=\"1\" class=\"dataframe\">\n",
       "  <thead>\n",
       "    <tr style=\"text-align: right;\">\n",
       "      <th></th>\n",
       "      <th>ID</th>\n",
       "      <th>CODE_GENDER</th>\n",
       "      <th>FLAG_OWN_CAR</th>\n",
       "      <th>FLAG_OWN_REALTY</th>\n",
       "      <th>CNT_CHILDREN</th>\n",
       "      <th>AMT_INCOME_TOTAL</th>\n",
       "      <th>NAME_HOUSING_TYPE</th>\n",
       "      <th>DAYS_BIRTH</th>\n",
       "      <th>DAYS_EMPLOYED</th>\n",
       "      <th>FLAG_MOBIL</th>\n",
       "      <th>...</th>\n",
       "      <th>NAME_EDUCATION_TYPE_Academic degree</th>\n",
       "      <th>NAME_EDUCATION_TYPE_Higher education</th>\n",
       "      <th>NAME_EDUCATION_TYPE_Incomplete higher</th>\n",
       "      <th>NAME_EDUCATION_TYPE_Lower secondary</th>\n",
       "      <th>NAME_EDUCATION_TYPE_Secondary / secondary special</th>\n",
       "      <th>NAME_FAMILY_STATUS_Civil marriage</th>\n",
       "      <th>NAME_FAMILY_STATUS_Married</th>\n",
       "      <th>NAME_FAMILY_STATUS_Separated</th>\n",
       "      <th>NAME_FAMILY_STATUS_Single / not married</th>\n",
       "      <th>NAME_FAMILY_STATUS_Widow</th>\n",
       "    </tr>\n",
       "  </thead>\n",
       "  <tbody>\n",
       "    <tr>\n",
       "      <th>0</th>\n",
       "      <td>5008804</td>\n",
       "      <td>0</td>\n",
       "      <td>0</td>\n",
       "      <td>1</td>\n",
       "      <td>0.0</td>\n",
       "      <td>427500.0</td>\n",
       "      <td>Rented apartment</td>\n",
       "      <td>-12005.0</td>\n",
       "      <td>-4542.0</td>\n",
       "      <td>1.0</td>\n",
       "      <td>...</td>\n",
       "      <td>0</td>\n",
       "      <td>1</td>\n",
       "      <td>0</td>\n",
       "      <td>0</td>\n",
       "      <td>0</td>\n",
       "      <td>1</td>\n",
       "      <td>0</td>\n",
       "      <td>0</td>\n",
       "      <td>0</td>\n",
       "      <td>0</td>\n",
       "    </tr>\n",
       "    <tr>\n",
       "      <th>1</th>\n",
       "      <td>5008805</td>\n",
       "      <td>0</td>\n",
       "      <td>0</td>\n",
       "      <td>1</td>\n",
       "      <td>0.0</td>\n",
       "      <td>427500.0</td>\n",
       "      <td>Rented apartment</td>\n",
       "      <td>-12005.0</td>\n",
       "      <td>-4542.0</td>\n",
       "      <td>1.0</td>\n",
       "      <td>...</td>\n",
       "      <td>0</td>\n",
       "      <td>1</td>\n",
       "      <td>0</td>\n",
       "      <td>0</td>\n",
       "      <td>0</td>\n",
       "      <td>1</td>\n",
       "      <td>0</td>\n",
       "      <td>0</td>\n",
       "      <td>0</td>\n",
       "      <td>0</td>\n",
       "    </tr>\n",
       "    <tr>\n",
       "      <th>2</th>\n",
       "      <td>5008806</td>\n",
       "      <td>0</td>\n",
       "      <td>0</td>\n",
       "      <td>1</td>\n",
       "      <td>0.0</td>\n",
       "      <td>112500.0</td>\n",
       "      <td>House / apartment</td>\n",
       "      <td>-21474.0</td>\n",
       "      <td>-1134.0</td>\n",
       "      <td>1.0</td>\n",
       "      <td>...</td>\n",
       "      <td>0</td>\n",
       "      <td>0</td>\n",
       "      <td>0</td>\n",
       "      <td>0</td>\n",
       "      <td>1</td>\n",
       "      <td>0</td>\n",
       "      <td>1</td>\n",
       "      <td>0</td>\n",
       "      <td>0</td>\n",
       "      <td>0</td>\n",
       "    </tr>\n",
       "    <tr>\n",
       "      <th>3</th>\n",
       "      <td>5008808</td>\n",
       "      <td>1</td>\n",
       "      <td>1</td>\n",
       "      <td>1</td>\n",
       "      <td>0.0</td>\n",
       "      <td>270000.0</td>\n",
       "      <td>House / apartment</td>\n",
       "      <td>-19110.0</td>\n",
       "      <td>-3051.0</td>\n",
       "      <td>1.0</td>\n",
       "      <td>...</td>\n",
       "      <td>0</td>\n",
       "      <td>0</td>\n",
       "      <td>0</td>\n",
       "      <td>0</td>\n",
       "      <td>1</td>\n",
       "      <td>0</td>\n",
       "      <td>0</td>\n",
       "      <td>0</td>\n",
       "      <td>1</td>\n",
       "      <td>0</td>\n",
       "    </tr>\n",
       "    <tr>\n",
       "      <th>4</th>\n",
       "      <td>5008809</td>\n",
       "      <td>1</td>\n",
       "      <td>1</td>\n",
       "      <td>1</td>\n",
       "      <td>0.0</td>\n",
       "      <td>270000.0</td>\n",
       "      <td>House / apartment</td>\n",
       "      <td>-19110.0</td>\n",
       "      <td>-3051.0</td>\n",
       "      <td>1.0</td>\n",
       "      <td>...</td>\n",
       "      <td>0</td>\n",
       "      <td>0</td>\n",
       "      <td>0</td>\n",
       "      <td>0</td>\n",
       "      <td>1</td>\n",
       "      <td>0</td>\n",
       "      <td>0</td>\n",
       "      <td>0</td>\n",
       "      <td>1</td>\n",
       "      <td>0</td>\n",
       "    </tr>\n",
       "  </tbody>\n",
       "</table>\n",
       "<p>5 rows × 30 columns</p>\n",
       "</div>"
      ],
      "text/plain": [
       "        ID CODE_GENDER  FLAG_OWN_CAR FLAG_OWN_REALTY  CNT_CHILDREN  \\\n",
       "0  5008804           0             0               1           0.0   \n",
       "1  5008805           0             0               1           0.0   \n",
       "2  5008806           0             0               1           0.0   \n",
       "3  5008808           1             1               1           0.0   \n",
       "4  5008809           1             1               1           0.0   \n",
       "\n",
       "   AMT_INCOME_TOTAL  NAME_HOUSING_TYPE  DAYS_BIRTH  DAYS_EMPLOYED  FLAG_MOBIL  \\\n",
       "0          427500.0   Rented apartment    -12005.0        -4542.0         1.0   \n",
       "1          427500.0   Rented apartment    -12005.0        -4542.0         1.0   \n",
       "2          112500.0  House / apartment    -21474.0        -1134.0         1.0   \n",
       "3          270000.0  House / apartment    -19110.0        -3051.0         1.0   \n",
       "4          270000.0  House / apartment    -19110.0        -3051.0         1.0   \n",
       "\n",
       "   ...  NAME_EDUCATION_TYPE_Academic degree  \\\n",
       "0  ...                                    0   \n",
       "1  ...                                    0   \n",
       "2  ...                                    0   \n",
       "3  ...                                    0   \n",
       "4  ...                                    0   \n",
       "\n",
       "   NAME_EDUCATION_TYPE_Higher education  \\\n",
       "0                                     1   \n",
       "1                                     1   \n",
       "2                                     0   \n",
       "3                                     0   \n",
       "4                                     0   \n",
       "\n",
       "   NAME_EDUCATION_TYPE_Incomplete higher NAME_EDUCATION_TYPE_Lower secondary  \\\n",
       "0                                      0                                   0   \n",
       "1                                      0                                   0   \n",
       "2                                      0                                   0   \n",
       "3                                      0                                   0   \n",
       "4                                      0                                   0   \n",
       "\n",
       "   NAME_EDUCATION_TYPE_Secondary / secondary special  \\\n",
       "0                                                  0   \n",
       "1                                                  0   \n",
       "2                                                  1   \n",
       "3                                                  1   \n",
       "4                                                  1   \n",
       "\n",
       "   NAME_FAMILY_STATUS_Civil marriage  NAME_FAMILY_STATUS_Married  \\\n",
       "0                                  1                           0   \n",
       "1                                  1                           0   \n",
       "2                                  0                           1   \n",
       "3                                  0                           0   \n",
       "4                                  0                           0   \n",
       "\n",
       "   NAME_FAMILY_STATUS_Separated  NAME_FAMILY_STATUS_Single / not married  \\\n",
       "0                             0                                        0   \n",
       "1                             0                                        0   \n",
       "2                             0                                        0   \n",
       "3                             0                                        1   \n",
       "4                             0                                        1   \n",
       "\n",
       "   NAME_FAMILY_STATUS_Widow  \n",
       "0                         0  \n",
       "1                         0  \n",
       "2                         0  \n",
       "3                         0  \n",
       "4                         0  \n",
       "\n",
       "[5 rows x 30 columns]"
      ]
     },
     "execution_count": 55,
     "metadata": {},
     "output_type": "execute_result"
    }
   ],
   "source": [
    "#we use one-hot encoding on NAME_FAMILY_STATUS\n",
    "cols = pd.get_dummies(df_creditcard['NAME_FAMILY_STATUS'], prefix= 'NAME_FAMILY_STATUS')\n",
    "df_creditcard[cols.columns] = cols\n",
    "df_creditcard.drop('NAME_FAMILY_STATUS', axis = 1, inplace = True)\n",
    "df_creditcard.head()"
   ]
  },
  {
   "cell_type": "code",
   "execution_count": 56,
   "id": "36888f62",
   "metadata": {},
   "outputs": [
    {
     "data": {
      "text/plain": [
       "House / apartment      372961\n",
       "With parents            18078\n",
       "Municipal apartment     13549\n",
       "Rented apartment         5573\n",
       "Office apartment         3719\n",
       "Co-op apartment          1479\n",
       "Name: NAME_HOUSING_TYPE, dtype: int64"
      ]
     },
     "execution_count": 56,
     "metadata": {},
     "output_type": "execute_result"
    }
   ],
   "source": [
    "#NAME_HOUSING_TYPE column\n",
    "df_creditcard['NAME_HOUSING_TYPE'].value_counts()"
   ]
  },
  {
   "cell_type": "markdown",
   "id": "45e7618b",
   "metadata": {},
   "source": [
    "### Visualization on the basis of house type"
   ]
  },
  {
   "cell_type": "code",
   "execution_count": 57,
   "id": "51220221",
   "metadata": {},
   "outputs": [
    {
     "data": {
      "image/png": "[encoded data removed]",
      "text/plain": [
       "<Figure size 1368x432 with 1 Axes>"
      ]
     },
     "metadata": {
      "needs_background": "light"
     },
     "output_type": "display_data"
    }
   ],
   "source": [
    "#Visulization\n",
    "plt.figure(figsize=(19,6))\n",
    "sns.countplot(x='NAME_HOUSING_TYPE',data=df_creditcard)\n",
    "plt.title('Count based on Housing Type')\n",
    "plt.show()"
   ]
  },
  {
   "cell_type": "code",
   "execution_count": 58,
   "id": "bfa09aba",
   "metadata": {},
   "outputs": [
    {
     "data": {
      "text/plain": [
       "23198"
      ]
     },
     "execution_count": 58,
     "metadata": {},
     "output_type": "execute_result"
    }
   ],
   "source": [
    "# Checking for null values\n",
    "df_creditcard['NAME_HOUSING_TYPE'].isna().sum()"
   ]
  },
  {
   "cell_type": "code",
   "execution_count": 59,
   "id": "19bbffcf",
   "metadata": {},
   "outputs": [],
   "source": [
    "#Replcing null values with maximum modal value \n",
    "df_creditcard['NAME_HOUSING_TYPE'].replace(to_replace=np.NaN,value='House / apartment',inplace=True)"
   ]
  },
  {
   "cell_type": "code",
   "execution_count": 60,
   "id": "0f3e1179",
   "metadata": {},
   "outputs": [
    {
     "data": {
      "text/plain": [
       "0"
      ]
     },
     "execution_count": 60,
     "metadata": {},
     "output_type": "execute_result"
    }
   ],
   "source": [
    "# Checking for null values after substituting\n",
    "df_creditcard['NAME_HOUSING_TYPE'].isna().sum()"
   ]
  },
  {
   "cell_type": "code",
   "execution_count": 61,
   "id": "2d051e90",
   "metadata": {},
   "outputs": [
    {
     "data": {
      "text/html": [
       "<div>\n",
       "<style scoped>\n",
       "    .dataframe tbody tr th:only-of-type {\n",
       "        vertical-align: middle;\n",
       "    }\n",
       "\n",
       "    .dataframe tbody tr th {\n",
       "        vertical-align: top;\n",
       "    }\n",
       "\n",
       "    .dataframe thead th {\n",
       "        text-align: right;\n",
       "    }\n",
       "</style>\n",
       "<table border=\"1\" class=\"dataframe\">\n",
       "  <thead>\n",
       "    <tr style=\"text-align: right;\">\n",
       "      <th></th>\n",
       "      <th>ID</th>\n",
       "      <th>CODE_GENDER</th>\n",
       "      <th>FLAG_OWN_CAR</th>\n",
       "      <th>FLAG_OWN_REALTY</th>\n",
       "      <th>CNT_CHILDREN</th>\n",
       "      <th>AMT_INCOME_TOTAL</th>\n",
       "      <th>DAYS_BIRTH</th>\n",
       "      <th>DAYS_EMPLOYED</th>\n",
       "      <th>FLAG_MOBIL</th>\n",
       "      <th>FLAG_WORK_PHONE</th>\n",
       "      <th>...</th>\n",
       "      <th>NAME_FAMILY_STATUS_Married</th>\n",
       "      <th>NAME_FAMILY_STATUS_Separated</th>\n",
       "      <th>NAME_FAMILY_STATUS_Single / not married</th>\n",
       "      <th>NAME_FAMILY_STATUS_Widow</th>\n",
       "      <th>NAME_HOUSING_TYPE_Co-op apartment</th>\n",
       "      <th>NAME_HOUSING_TYPE_House / apartment</th>\n",
       "      <th>NAME_HOUSING_TYPE_Municipal apartment</th>\n",
       "      <th>NAME_HOUSING_TYPE_Office apartment</th>\n",
       "      <th>NAME_HOUSING_TYPE_Rented apartment</th>\n",
       "      <th>NAME_HOUSING_TYPE_With parents</th>\n",
       "    </tr>\n",
       "  </thead>\n",
       "  <tbody>\n",
       "    <tr>\n",
       "      <th>0</th>\n",
       "      <td>5008804</td>\n",
       "      <td>0</td>\n",
       "      <td>0</td>\n",
       "      <td>1</td>\n",
       "      <td>0.0</td>\n",
       "      <td>427500.0</td>\n",
       "      <td>-12005.0</td>\n",
       "      <td>-4542.0</td>\n",
       "      <td>1.0</td>\n",
       "      <td>1.0</td>\n",
       "      <td>...</td>\n",
       "      <td>0</td>\n",
       "      <td>0</td>\n",
       "      <td>0</td>\n",
       "      <td>0</td>\n",
       "      <td>0</td>\n",
       "      <td>0</td>\n",
       "      <td>0</td>\n",
       "      <td>0</td>\n",
       "      <td>1</td>\n",
       "      <td>0</td>\n",
       "    </tr>\n",
       "    <tr>\n",
       "      <th>1</th>\n",
       "      <td>5008805</td>\n",
       "      <td>0</td>\n",
       "      <td>0</td>\n",
       "      <td>1</td>\n",
       "      <td>0.0</td>\n",
       "      <td>427500.0</td>\n",
       "      <td>-12005.0</td>\n",
       "      <td>-4542.0</td>\n",
       "      <td>1.0</td>\n",
       "      <td>1.0</td>\n",
       "      <td>...</td>\n",
       "      <td>0</td>\n",
       "      <td>0</td>\n",
       "      <td>0</td>\n",
       "      <td>0</td>\n",
       "      <td>0</td>\n",
       "      <td>0</td>\n",
       "      <td>0</td>\n",
       "      <td>0</td>\n",
       "      <td>1</td>\n",
       "      <td>0</td>\n",
       "    </tr>\n",
       "    <tr>\n",
       "      <th>2</th>\n",
       "      <td>5008806</td>\n",
       "      <td>0</td>\n",
       "      <td>0</td>\n",
       "      <td>1</td>\n",
       "      <td>0.0</td>\n",
       "      <td>112500.0</td>\n",
       "      <td>-21474.0</td>\n",
       "      <td>-1134.0</td>\n",
       "      <td>1.0</td>\n",
       "      <td>0.0</td>\n",
       "      <td>...</td>\n",
       "      <td>1</td>\n",
       "      <td>0</td>\n",
       "      <td>0</td>\n",
       "      <td>0</td>\n",
       "      <td>0</td>\n",
       "      <td>1</td>\n",
       "      <td>0</td>\n",
       "      <td>0</td>\n",
       "      <td>0</td>\n",
       "      <td>0</td>\n",
       "    </tr>\n",
       "    <tr>\n",
       "      <th>3</th>\n",
       "      <td>5008808</td>\n",
       "      <td>1</td>\n",
       "      <td>1</td>\n",
       "      <td>1</td>\n",
       "      <td>0.0</td>\n",
       "      <td>270000.0</td>\n",
       "      <td>-19110.0</td>\n",
       "      <td>-3051.0</td>\n",
       "      <td>1.0</td>\n",
       "      <td>0.0</td>\n",
       "      <td>...</td>\n",
       "      <td>0</td>\n",
       "      <td>0</td>\n",
       "      <td>1</td>\n",
       "      <td>0</td>\n",
       "      <td>0</td>\n",
       "      <td>1</td>\n",
       "      <td>0</td>\n",
       "      <td>0</td>\n",
       "      <td>0</td>\n",
       "      <td>0</td>\n",
       "    </tr>\n",
       "    <tr>\n",
       "      <th>4</th>\n",
       "      <td>5008809</td>\n",
       "      <td>1</td>\n",
       "      <td>1</td>\n",
       "      <td>1</td>\n",
       "      <td>0.0</td>\n",
       "      <td>270000.0</td>\n",
       "      <td>-19110.0</td>\n",
       "      <td>-3051.0</td>\n",
       "      <td>1.0</td>\n",
       "      <td>0.0</td>\n",
       "      <td>...</td>\n",
       "      <td>0</td>\n",
       "      <td>0</td>\n",
       "      <td>1</td>\n",
       "      <td>0</td>\n",
       "      <td>0</td>\n",
       "      <td>1</td>\n",
       "      <td>0</td>\n",
       "      <td>0</td>\n",
       "      <td>0</td>\n",
       "      <td>0</td>\n",
       "    </tr>\n",
       "  </tbody>\n",
       "</table>\n",
       "<p>5 rows × 35 columns</p>\n",
       "</div>"
      ],
      "text/plain": [
       "        ID CODE_GENDER  FLAG_OWN_CAR FLAG_OWN_REALTY  CNT_CHILDREN  \\\n",
       "0  5008804           0             0               1           0.0   \n",
       "1  5008805           0             0               1           0.0   \n",
       "2  5008806           0             0               1           0.0   \n",
       "3  5008808           1             1               1           0.0   \n",
       "4  5008809           1             1               1           0.0   \n",
       "\n",
       "   AMT_INCOME_TOTAL  DAYS_BIRTH  DAYS_EMPLOYED  FLAG_MOBIL  FLAG_WORK_PHONE  \\\n",
       "0          427500.0    -12005.0        -4542.0         1.0              1.0   \n",
       "1          427500.0    -12005.0        -4542.0         1.0              1.0   \n",
       "2          112500.0    -21474.0        -1134.0         1.0              0.0   \n",
       "3          270000.0    -19110.0        -3051.0         1.0              0.0   \n",
       "4          270000.0    -19110.0        -3051.0         1.0              0.0   \n",
       "\n",
       "   ...  NAME_FAMILY_STATUS_Married  NAME_FAMILY_STATUS_Separated  \\\n",
       "0  ...                           0                             0   \n",
       "1  ...                           0                             0   \n",
       "2  ...                           1                             0   \n",
       "3  ...                           0                             0   \n",
       "4  ...                           0                             0   \n",
       "\n",
       "  NAME_FAMILY_STATUS_Single / not married  NAME_FAMILY_STATUS_Widow  \\\n",
       "0                                       0                         0   \n",
       "1                                       0                         0   \n",
       "2                                       0                         0   \n",
       "3                                       1                         0   \n",
       "4                                       1                         0   \n",
       "\n",
       "   NAME_HOUSING_TYPE_Co-op apartment  NAME_HOUSING_TYPE_House / apartment  \\\n",
       "0                                  0                                    0   \n",
       "1                                  0                                    0   \n",
       "2                                  0                                    1   \n",
       "3                                  0                                    1   \n",
       "4                                  0                                    1   \n",
       "\n",
       "   NAME_HOUSING_TYPE_Municipal apartment  NAME_HOUSING_TYPE_Office apartment  \\\n",
       "0                                      0                                   0   \n",
       "1                                      0                                   0   \n",
       "2                                      0                                   0   \n",
       "3                                      0                                   0   \n",
       "4                                      0                                   0   \n",
       "\n",
       "   NAME_HOUSING_TYPE_Rented apartment  NAME_HOUSING_TYPE_With parents  \n",
       "0                                   1                               0  \n",
       "1                                   1                               0  \n",
       "2                                   0                               0  \n",
       "3                                   0                               0  \n",
       "4                                   0                               0  \n",
       "\n",
       "[5 rows x 35 columns]"
      ]
     },
     "execution_count": 61,
     "metadata": {},
     "output_type": "execute_result"
    }
   ],
   "source": [
    "#Applying one-hot vector\n",
    "cols = pd.get_dummies(df_creditcard['NAME_HOUSING_TYPE'], prefix= 'NAME_HOUSING_TYPE')\n",
    "df_creditcard[cols.columns] = cols\n",
    "df_creditcard.drop('NAME_HOUSING_TYPE', axis = 1, inplace = True)\n",
    "df_creditcard.head()"
   ]
  },
  {
   "cell_type": "code",
   "execution_count": 62,
   "id": "5bc00c6a",
   "metadata": {},
   "outputs": [
    {
     "data": {
      "text/plain": [
       "-11707.0    150\n",
       "-14400.0    116\n",
       "-14178.0    116\n",
       "-14055.0    111\n",
       "-20107.0    106\n",
       "           ... \n",
       "-9304.0       1\n",
       "-18399.0      1\n",
       "-8098.0       1\n",
       "-9399.0       1\n",
       "-24802.0      1\n",
       "Name: DAYS_BIRTH, Length: 16331, dtype: int64"
      ]
     },
     "execution_count": 62,
     "metadata": {},
     "output_type": "execute_result"
    }
   ],
   "source": [
    "#Checking for Days_Birth \n",
    "df_creditcard['DAYS_BIRTH'].value_counts()"
   ]
  },
  {
   "cell_type": "code",
   "execution_count": 63,
   "id": "3684dcfc",
   "metadata": {},
   "outputs": [
    {
     "data": {
      "text/plain": [
       "21999"
      ]
     },
     "execution_count": 63,
     "metadata": {},
     "output_type": "execute_result"
    }
   ],
   "source": [
    "df_creditcard['DAYS_BIRTH'].isna().sum()"
   ]
  },
  {
   "cell_type": "markdown",
   "id": "26997192",
   "metadata": {},
   "source": [
    "### Count based on Days of Birth"
   ]
  },
  {
   "cell_type": "code",
   "execution_count": 64,
   "id": "43d595fd",
   "metadata": {},
   "outputs": [
    {
     "data": {
      "image/png": "[encoded data removed]",
      "text/plain": [
       "<Figure size 1368x432 with 1 Axes>"
      ]
     },
     "metadata": {
      "needs_background": "light"
     },
     "output_type": "display_data"
    }
   ],
   "source": [
    "#Visalization of DAYS_BIRTH column\n",
    "plt.figure(figsize=(19,6))\n",
    "plt.hist(df_creditcard['DAYS_BIRTH'],bins='sturges')\n",
    "plt.title('Count based Days Birth')\n",
    "plt.show()"
   ]
  },
  {
   "cell_type": "markdown",
   "id": "e2dfc73f",
   "metadata": {},
   "source": [
    "### Replacing null values with median as data is slightly skewed"
   ]
  },
  {
   "cell_type": "code",
   "execution_count": 65,
   "id": "f2d13bdc",
   "metadata": {},
   "outputs": [],
   "source": [
    "#Replacing null values with median as data is slightly skewed\n",
    "df_creditcard['DAYS_BIRTH'].replace(to_replace=np.NaN,value=df_creditcard['DAYS_BIRTH'].median(),inplace=True)"
   ]
  },
  {
   "cell_type": "code",
   "execution_count": 66,
   "id": "1caaa710",
   "metadata": {},
   "outputs": [
    {
     "data": {
      "text/plain": [
       "43.0    33951\n",
       "39.0    13347\n",
       "40.0    12559\n",
       "42.0    12286\n",
       "32.0    12125\n",
       "38.0    12070\n",
       "28.0    12060\n",
       "41.0    11957\n",
       "37.0    11863\n",
       "36.0    11764\n",
       "30.0    11704\n",
       "35.0    11617\n",
       "44.0    11541\n",
       "29.0    11501\n",
       "33.0    11454\n",
       "34.0    11285\n",
       "31.0    10787\n",
       "46.0    10271\n",
       "45.0    10169\n",
       "54.0     9985\n",
       "47.0     9712\n",
       "48.0     9510\n",
       "53.0     9372\n",
       "52.0     9347\n",
       "49.0     9342\n",
       "57.0     9280\n",
       "55.0     9278\n",
       "60.0     9207\n",
       "51.0     9193\n",
       "50.0     9015\n",
       "58.0     8794\n",
       "59.0     8737\n",
       "56.0     8643\n",
       "27.0     8394\n",
       "61.0     7949\n",
       "63.0     7418\n",
       "62.0     7259\n",
       "64.0     6444\n",
       "65.0     5408\n",
       "26.0     5171\n",
       "25.0     4373\n",
       "24.0     3379\n",
       "23.0     3154\n",
       "66.0     2361\n",
       "67.0     1543\n",
       "22.0      982\n",
       "68.0      911\n",
       "69.0       55\n",
       "21.0       30\n",
       "Name: YEARS, dtype: int64"
      ]
     },
     "execution_count": 66,
     "metadata": {},
     "output_type": "execute_result"
    }
   ],
   "source": [
    "#Converting DAYS_BIRTH into YEARS\n",
    "df_creditcard['DAYS_BIRTH'] = round(df_creditcard['DAYS_BIRTH']/-365,0)\n",
    "df_creditcard.rename(columns={'DAYS_BIRTH':'YEARS'}, inplace=True)\n",
    "df_creditcard['YEARS'].value_counts()"
   ]
  },
  {
   "cell_type": "code",
   "execution_count": 67,
   "id": "3e077ace",
   "metadata": {},
   "outputs": [
    {
     "data": {
      "text/plain": [
       " 365243.0    71716\n",
       "-218.0         245\n",
       "-1678.0        235\n",
       "-231.0         231\n",
       "-430.0         230\n",
       "             ...  \n",
       "-5793.0          1\n",
       "-6142.0          1\n",
       "-6856.0          1\n",
       "-9466.0          1\n",
       "-14208.0         1\n",
       "Name: DAYS_EMPLOYED, Length: 9302, dtype: int64"
      ]
     },
     "execution_count": 67,
     "metadata": {},
     "output_type": "execute_result"
    }
   ],
   "source": [
    "df_creditcard['DAYS_EMPLOYED'].value_counts()"
   ]
  },
  {
   "cell_type": "code",
   "execution_count": 68,
   "id": "1eaf01bc",
   "metadata": {},
   "outputs": [],
   "source": [
    "#We have to remove values which are positive,positive values show that they are unemployed\n",
    "#Checking for values greater than 0\n",
    "#Checking unique values greater than 0\n",
    "df_creditcard[df_creditcard['DAYS_EMPLOYED']>0]['DAYS_EMPLOYED'].unique()\n",
    "#replcing with 0\n",
    "df_creditcard['DAYS_EMPLOYED'].replace(365243, 0, inplace=True)"
   ]
  },
  {
   "cell_type": "code",
   "execution_count": 69,
   "id": "d5420047",
   "metadata": {},
   "outputs": [
    {
     "data": {
      "text/plain": [
       "21636"
      ]
     },
     "execution_count": 69,
     "metadata": {},
     "output_type": "execute_result"
    }
   ],
   "source": [
    "#Checking for null values\n",
    "df_creditcard['DAYS_EMPLOYED'].isna().sum()"
   ]
  },
  {
   "cell_type": "markdown",
   "id": "1ea9a9fd",
   "metadata": {},
   "source": [
    "### Visalization of DAYS_EMPLOYED column"
   ]
  },
  {
   "cell_type": "code",
   "execution_count": 70,
   "id": "4a21d1b0",
   "metadata": {},
   "outputs": [
    {
     "data": {
      "image/png": "[encoded data removed]",
      "text/plain": [
       "<Figure size 1368x432 with 1 Axes>"
      ]
     },
     "metadata": {
      "needs_background": "light"
     },
     "output_type": "display_data"
    }
   ],
   "source": [
    "#Visalization of DAYS_EMPLOYED column\n",
    "plt.figure(figsize=(19,6))\n",
    "plt.hist(df_creditcard['DAYS_EMPLOYED'],bins='sturges')\n",
    "plt.title('Count based Days Employed')\n",
    "plt.show()"
   ]
  },
  {
   "cell_type": "markdown",
   "id": "67e290f3",
   "metadata": {},
   "source": [
    "### Replacing null values with median as data is slightly skewed"
   ]
  },
  {
   "cell_type": "code",
   "execution_count": 71,
   "id": "b7958898",
   "metadata": {},
   "outputs": [],
   "source": [
    "#Replacing null values with median as data is slightly skewed\n",
    "df_creditcard['DAYS_EMPLOYED'].replace(to_replace=np.NaN,value=df_creditcard['DAYS_EMPLOYED'].median(),inplace=True)"
   ]
  },
  {
   "cell_type": "code",
   "execution_count": 72,
   "id": "6d4b698d",
   "metadata": {},
   "outputs": [],
   "source": [
    "##Converting 'DAYS_EMPLOYED' values from Day to Years\n",
    "df_creditcard['DAYS_EMPLOYED'] = abs(round(df_creditcard['DAYS_EMPLOYED']/-365,0))\n",
    "df_creditcard.rename(columns={'DAYS_EMPLOYED':'YEARS_EMPLOYED'}, inplace=True) "
   ]
  },
  {
   "cell_type": "markdown",
   "id": "2158e407",
   "metadata": {},
   "source": [
    "### Count based Years Employed"
   ]
  },
  {
   "cell_type": "code",
   "execution_count": 73,
   "id": "98303769",
   "metadata": {},
   "outputs": [
    {
     "data": {
      "image/png": "[encoded data removed]",
      "text/plain": [
       "<Figure size 1368x432 with 1 Axes>"
      ]
     },
     "metadata": {
      "needs_background": "light"
     },
     "output_type": "display_data"
    }
   ],
   "source": [
    "#Visulization after converting to years\n",
    "plt.figure(figsize=(19,6))\n",
    "plt.hist(df_creditcard['YEARS_EMPLOYED'],bins='sturges')\n",
    "plt.title('Count based Years Employed')\n",
    "plt.show()"
   ]
  },
  {
   "cell_type": "code",
   "execution_count": 74,
   "id": "837d7d94",
   "metadata": {},
   "outputs": [
    {
     "data": {
      "text/plain": [
       "1.0    416527\n",
       "Name: FLAG_MOBIL, dtype: int64"
      ]
     },
     "execution_count": 74,
     "metadata": {},
     "output_type": "execute_result"
    }
   ],
   "source": [
    "#FLAG_MOBIL Column\n",
    "df_creditcard['FLAG_MOBIL'].value_counts()"
   ]
  },
  {
   "cell_type": "code",
   "execution_count": 75,
   "id": "34636b56",
   "metadata": {},
   "outputs": [
    {
     "data": {
      "text/plain": [
       "22030"
      ]
     },
     "execution_count": 75,
     "metadata": {},
     "output_type": "execute_result"
    }
   ],
   "source": [
    "df_creditcard['FLAG_MOBIL'].isna().sum()"
   ]
  },
  {
   "cell_type": "markdown",
   "id": "21da6c1f",
   "metadata": {},
   "source": [
    "### All the values of this column are 1, so dropping the column all together"
   ]
  },
  {
   "cell_type": "code",
   "execution_count": 76,
   "id": "f1a1fa2c",
   "metadata": {},
   "outputs": [],
   "source": [
    "#All the values of this column are 1, so dropping the column all together\n",
    "df_creditcard.drop('FLAG_MOBIL', axis=1, inplace=True)"
   ]
  },
  {
   "cell_type": "code",
   "execution_count": 77,
   "id": "af0feace",
   "metadata": {},
   "outputs": [
    {
     "data": {
      "text/plain": [
       "0.0    331298\n",
       "1.0     85725\n",
       "Name: FLAG_WORK_PHONE, dtype: int64"
      ]
     },
     "execution_count": 77,
     "metadata": {},
     "output_type": "execute_result"
    }
   ],
   "source": [
    "# FLAG_WORK_PHONE Column\n",
    "df_creditcard['FLAG_WORK_PHONE'].value_counts()"
   ]
  },
  {
   "cell_type": "markdown",
   "id": "6d1ecd8a",
   "metadata": {},
   "source": [
    "### Visulization of FLAG_WORK_PHONE"
   ]
  },
  {
   "cell_type": "code",
   "execution_count": 78,
   "id": "63a94d14",
   "metadata": {},
   "outputs": [
    {
     "data": {
      "image/png": "[encoded data removed]",
      "text/plain": [
       "<Figure size 432x432 with 1 Axes>"
      ]
     },
     "metadata": {},
     "output_type": "display_data"
    }
   ],
   "source": [
    "#Visulization of FLAG_WORK_PHONE\n",
    "plt.figure(figsize=(6,6))\n",
    "explode =[0.0, 0.15]\n",
    "plt.pie(df_creditcard['FLAG_WORK_PHONE'].value_counts(), labels=['0', '1'], explode=explode, shadow= 0.2,autopct='%1.2f%%')\n",
    "plt.title('Percentage of Applications submitted based work Phone')\n",
    "plt.show()"
   ]
  },
  {
   "cell_type": "code",
   "execution_count": 79,
   "id": "ebe5285d",
   "metadata": {},
   "outputs": [
    {
     "data": {
      "text/plain": [
       "21534"
      ]
     },
     "execution_count": 79,
     "metadata": {},
     "output_type": "execute_result"
    }
   ],
   "source": [
    "df_creditcard['FLAG_WORK_PHONE'].isna().sum()"
   ]
  },
  {
   "cell_type": "code",
   "execution_count": 80,
   "id": "56c181a6",
   "metadata": {},
   "outputs": [
    {
     "data": {
      "text/plain": [
       "0"
      ]
     },
     "execution_count": 80,
     "metadata": {},
     "output_type": "execute_result"
    }
   ],
   "source": [
    "#Replcing null values with 0\n",
    "df_creditcard['FLAG_WORK_PHONE'].replace(to_replace=np.NaN,value='0',inplace=True)\n",
    "#Checking values after replcing\n",
    "df_creditcard['FLAG_WORK_PHONE'].isna().sum()"
   ]
  },
  {
   "cell_type": "code",
   "execution_count": 81,
   "id": "f79c5ff4",
   "metadata": {},
   "outputs": [
    {
     "data": {
      "text/plain": [
       "0.0    297661\n",
       "1.0    120076\n",
       "Name: FLAG_PHONE, dtype: int64"
      ]
     },
     "execution_count": 81,
     "metadata": {},
     "output_type": "execute_result"
    }
   ],
   "source": [
    "#FLAG_PHONE\n",
    "df_creditcard['FLAG_PHONE'].value_counts()"
   ]
  },
  {
   "cell_type": "markdown",
   "id": "c8dc9cca",
   "metadata": {},
   "source": [
    "### Visulization of FLAG_PHONE"
   ]
  },
  {
   "cell_type": "code",
   "execution_count": 82,
   "id": "20f22d60",
   "metadata": {},
   "outputs": [
    {
     "data": {
      "image/png": "[encoded data removed]",
      "text/plain": [
       "<Figure size 504x504 with 1 Axes>"
      ]
     },
     "metadata": {},
     "output_type": "display_data"
    }
   ],
   "source": [
    "#Visulization of FLAG_PHONE\n",
    "plt.figure(figsize=(7,7))\n",
    "explode =[0.0, 0.15]\n",
    "plt.pie(df_creditcard['FLAG_PHONE'].value_counts(), labels=['0', '1'], explode=explode, shadow= 0.2,autopct='%1.2f%%')\n",
    "plt.title('Percentage of Applications submitted based on Phone')\n",
    "plt.show()"
   ]
  },
  {
   "cell_type": "code",
   "execution_count": 83,
   "id": "80ae8852",
   "metadata": {},
   "outputs": [
    {
     "data": {
      "text/plain": [
       "20820"
      ]
     },
     "execution_count": 83,
     "metadata": {},
     "output_type": "execute_result"
    }
   ],
   "source": [
    "df_creditcard['FLAG_PHONE'].isna().sum()"
   ]
  },
  {
   "cell_type": "code",
   "execution_count": 84,
   "id": "e333ffb9",
   "metadata": {},
   "outputs": [
    {
     "data": {
      "text/plain": [
       "0"
      ]
     },
     "execution_count": 84,
     "metadata": {},
     "output_type": "execute_result"
    }
   ],
   "source": [
    "#Replcing null values with 0\n",
    "df_creditcard['FLAG_PHONE'].replace(to_replace=np.NaN,value='0',inplace=True)\n",
    "#Checking values after replcing\n",
    "df_creditcard['FLAG_PHONE'].isna().sum()"
   ]
  },
  {
   "cell_type": "code",
   "execution_count": 85,
   "id": "1c90f1a1",
   "metadata": {},
   "outputs": [
    {
     "data": {
      "text/plain": [
       "0.0    372529\n",
       "1.0     45374\n",
       "Name: FLAG_EMAIL, dtype: int64"
      ]
     },
     "execution_count": 85,
     "metadata": {},
     "output_type": "execute_result"
    }
   ],
   "source": [
    "#Checking for Email\n",
    "df_creditcard['FLAG_EMAIL'].value_counts()"
   ]
  },
  {
   "cell_type": "markdown",
   "id": "3936650d",
   "metadata": {},
   "source": [
    "### Visulization of FLAG_EMAIL"
   ]
  },
  {
   "cell_type": "code",
   "execution_count": 86,
   "id": "21b5d904",
   "metadata": {},
   "outputs": [
    {
     "data": {
      "image/png": "[encoded data removed]",
      "text/plain": [
       "<Figure size 504x504 with 1 Axes>"
      ]
     },
     "metadata": {},
     "output_type": "display_data"
    }
   ],
   "source": [
    "#Visulization of FLAG_EMAIL\n",
    "plt.figure(figsize=(7,7))\n",
    "explode =[0.0, 0.15]\n",
    "plt.pie(df_creditcard['FLAG_EMAIL'].value_counts(), labels=['0', '1'], explode=explode, shadow= 0.2,autopct='%1.2f%%')\n",
    "plt.title('Percentage of Applications submitted based on Email')\n",
    "plt.show()"
   ]
  },
  {
   "cell_type": "code",
   "execution_count": 87,
   "id": "008c4109",
   "metadata": {},
   "outputs": [
    {
     "data": {
      "text/plain": [
       "20654"
      ]
     },
     "execution_count": 87,
     "metadata": {},
     "output_type": "execute_result"
    }
   ],
   "source": [
    "df_creditcard['FLAG_EMAIL'].isna().sum()"
   ]
  },
  {
   "cell_type": "code",
   "execution_count": 88,
   "id": "a26e15d4",
   "metadata": {},
   "outputs": [
    {
     "data": {
      "text/plain": [
       "0"
      ]
     },
     "execution_count": 88,
     "metadata": {},
     "output_type": "execute_result"
    }
   ],
   "source": [
    "#Replcing null values with 0\n",
    "df_creditcard['FLAG_EMAIL'].replace(to_replace=np.NaN,value='0',inplace=True)\n",
    "#Checking values after replcing\n",
    "df_creditcard['FLAG_EMAIL'].isna().sum()"
   ]
  },
  {
   "cell_type": "code",
   "execution_count": 89,
   "id": "55442b44",
   "metadata": {},
   "outputs": [
    {
     "data": {
      "text/plain": [
       "Laborers                 78151\n",
       "Core staff               42934\n",
       "Sales staff              41000\n",
       "Managers                 35406\n",
       "Drivers                  26073\n",
       "High skill tech staff    17253\n",
       "Accountants              15939\n",
       "Medicine staff           13512\n",
       "Cooking staff             8055\n",
       "Security staff            7979\n",
       "Cleaning staff            5839\n",
       "Private service staff     3456\n",
       "Low-skill Laborers        2140\n",
       "Secretaries               2043\n",
       "Waiters/barmen staff      1654\n",
       "Realty agents             1041\n",
       "HR staff                   774\n",
       "IT staff                   583\n",
       "Name: OCCUPATION_TYPE, dtype: int64"
      ]
     },
     "execution_count": 89,
     "metadata": {},
     "output_type": "execute_result"
    }
   ],
   "source": [
    "#OCCUPATION_TYPE column\n",
    "df_creditcard['OCCUPATION_TYPE'].value_counts()"
   ]
  },
  {
   "cell_type": "code",
   "execution_count": 90,
   "id": "b56e23ea",
   "metadata": {},
   "outputs": [
    {
     "data": {
      "text/plain": [
       "134725"
      ]
     },
     "execution_count": 90,
     "metadata": {},
     "output_type": "execute_result"
    }
   ],
   "source": [
    "df_creditcard['OCCUPATION_TYPE'].isna().sum()"
   ]
  },
  {
   "cell_type": "code",
   "execution_count": 91,
   "id": "4a50fd1a",
   "metadata": {},
   "outputs": [
    {
     "name": "stdout",
     "output_type": "stream",
     "text": [
      "Missing % 30.72006603474577\n"
     ]
    }
   ],
   "source": [
    "#Percentage of missing values in occupation type \n",
    "print(\"Missing %\",(df_creditcard['OCCUPATION_TYPE'].isna().sum()/df_creditcard.shape[0]*100))"
   ]
  },
  {
   "cell_type": "markdown",
   "id": "3f8ee81d",
   "metadata": {},
   "source": [
    "### we are dropping the column OCCUPATION_TYPE as the column values are little less significant when comes to determining if a person is defaulter"
   ]
  },
  {
   "cell_type": "code",
   "execution_count": 92,
   "id": "37e6c907",
   "metadata": {},
   "outputs": [],
   "source": [
    "# we are dropping the column OCCUPATION_TYPE as the column values are little less significant when comes to determining if a person is defaulter.\n",
    "df_creditcard.drop('OCCUPATION_TYPE', axis=1, inplace=True)"
   ]
  },
  {
   "cell_type": "code",
   "execution_count": 93,
   "id": "aa7590fe",
   "metadata": {},
   "outputs": [
    {
     "data": {
      "text/plain": [
       "2     233891\n",
       "1      84492\n",
       "3      77128\n",
       "4      37356\n",
       "5       5081\n",
       "6        459\n",
       "7        124\n",
       "9          9\n",
       "11         5\n",
       "14         4\n",
       "8          4\n",
       "15         3\n",
       "20         1\n",
       "Name: CNT_FAM_MEMBERS, dtype: int64"
      ]
     },
     "execution_count": 93,
     "metadata": {},
     "output_type": "execute_result"
    }
   ],
   "source": [
    "#CNT_FAM_MEMBERS column\n",
    "df_creditcard['CNT_FAM_MEMBERS'].value_counts()"
   ]
  },
  {
   "cell_type": "code",
   "execution_count": 94,
   "id": "3594f049",
   "metadata": {},
   "outputs": [
    {
     "data": {
      "text/plain": [
       "0"
      ]
     },
     "execution_count": 94,
     "metadata": {},
     "output_type": "execute_result"
    }
   ],
   "source": [
    "#Checking for missing values- no missing values\n",
    "df_creditcard['CNT_FAM_MEMBERS'].isna().sum()"
   ]
  },
  {
   "cell_type": "code",
   "execution_count": 95,
   "id": "c16e31bd",
   "metadata": {},
   "outputs": [
    {
     "data": {
      "text/plain": [
       "ID                                                   0\n",
       "CODE_GENDER                                          0\n",
       "FLAG_OWN_CAR                                         0\n",
       "FLAG_OWN_REALTY                                      0\n",
       "CNT_CHILDREN                                         0\n",
       "AMT_INCOME_TOTAL                                     0\n",
       "YEARS                                                0\n",
       "YEARS_EMPLOYED                                       0\n",
       "FLAG_WORK_PHONE                                      0\n",
       "FLAG_PHONE                                           0\n",
       "FLAG_EMAIL                                           0\n",
       "CNT_FAM_MEMBERS                                      0\n",
       "NAME_INCOME_TYPE_Commercial associate                0\n",
       "NAME_INCOME_TYPE_Pensioner                           0\n",
       "NAME_INCOME_TYPE_State servant                       0\n",
       "NAME_INCOME_TYPE_Student                             0\n",
       "NAME_INCOME_TYPE_Working                             0\n",
       "NAME_EDUCATION_TYPE_Academic degree                  0\n",
       "NAME_EDUCATION_TYPE_Higher education                 0\n",
       "NAME_EDUCATION_TYPE_Incomplete higher                0\n",
       "NAME_EDUCATION_TYPE_Lower secondary                  0\n",
       "NAME_EDUCATION_TYPE_Secondary / secondary special    0\n",
       "NAME_FAMILY_STATUS_Civil marriage                    0\n",
       "NAME_FAMILY_STATUS_Married                           0\n",
       "NAME_FAMILY_STATUS_Separated                         0\n",
       "NAME_FAMILY_STATUS_Single / not married              0\n",
       "NAME_FAMILY_STATUS_Widow                             0\n",
       "NAME_HOUSING_TYPE_Co-op apartment                    0\n",
       "NAME_HOUSING_TYPE_House / apartment                  0\n",
       "NAME_HOUSING_TYPE_Municipal apartment                0\n",
       "NAME_HOUSING_TYPE_Office apartment                   0\n",
       "NAME_HOUSING_TYPE_Rented apartment                   0\n",
       "NAME_HOUSING_TYPE_With parents                       0\n",
       "dtype: int64"
      ]
     },
     "execution_count": 95,
     "metadata": {},
     "output_type": "execute_result"
    }
   ],
   "source": [
    "df_creditcard.isna().sum()"
   ]
  },
  {
   "cell_type": "code",
   "execution_count": 96,
   "id": "2a08e0be",
   "metadata": {},
   "outputs": [
    {
     "data": {
      "text/plain": [
       "(1048575, 3)"
      ]
     },
     "execution_count": 96,
     "metadata": {},
     "output_type": "execute_result"
    }
   ],
   "source": [
    "#Now working on df_cardrecord\n",
    "df_cardrecord.shape"
   ]
  },
  {
   "cell_type": "code",
   "execution_count": 97,
   "id": "a6353087",
   "metadata": {},
   "outputs": [
    {
     "data": {
      "text/html": [
       "<div>\n",
       "<style scoped>\n",
       "    .dataframe tbody tr th:only-of-type {\n",
       "        vertical-align: middle;\n",
       "    }\n",
       "\n",
       "    .dataframe tbody tr th {\n",
       "        vertical-align: top;\n",
       "    }\n",
       "\n",
       "    .dataframe thead th {\n",
       "        text-align: right;\n",
       "    }\n",
       "</style>\n",
       "<table border=\"1\" class=\"dataframe\">\n",
       "  <thead>\n",
       "    <tr style=\"text-align: right;\">\n",
       "      <th></th>\n",
       "      <th>ID</th>\n",
       "      <th>MONTHS_BALANCE</th>\n",
       "      <th>STATUS</th>\n",
       "    </tr>\n",
       "  </thead>\n",
       "  <tbody>\n",
       "    <tr>\n",
       "      <th>0</th>\n",
       "      <td>5001711</td>\n",
       "      <td>0</td>\n",
       "      <td>X</td>\n",
       "    </tr>\n",
       "    <tr>\n",
       "      <th>1</th>\n",
       "      <td>5001711</td>\n",
       "      <td>-1</td>\n",
       "      <td>0</td>\n",
       "    </tr>\n",
       "    <tr>\n",
       "      <th>2</th>\n",
       "      <td>5001711</td>\n",
       "      <td>-2</td>\n",
       "      <td>0</td>\n",
       "    </tr>\n",
       "    <tr>\n",
       "      <th>3</th>\n",
       "      <td>5001711</td>\n",
       "      <td>-3</td>\n",
       "      <td>0</td>\n",
       "    </tr>\n",
       "    <tr>\n",
       "      <th>4</th>\n",
       "      <td>5001712</td>\n",
       "      <td>0</td>\n",
       "      <td>C</td>\n",
       "    </tr>\n",
       "  </tbody>\n",
       "</table>\n",
       "</div>"
      ],
      "text/plain": [
       "        ID  MONTHS_BALANCE STATUS\n",
       "0  5001711               0      X\n",
       "1  5001711              -1      0\n",
       "2  5001711              -2      0\n",
       "3  5001711              -3      0\n",
       "4  5001712               0      C"
      ]
     },
     "execution_count": 97,
     "metadata": {},
     "output_type": "execute_result"
    }
   ],
   "source": [
    "df_cardrecord.head()"
   ]
  },
  {
   "cell_type": "code",
   "execution_count": 98,
   "id": "9c66f73c",
   "metadata": {},
   "outputs": [
    {
     "data": {
      "text/plain": [
       "ID                0\n",
       "MONTHS_BALANCE    0\n",
       "STATUS            0\n",
       "dtype: int64"
      ]
     },
     "execution_count": 98,
     "metadata": {},
     "output_type": "execute_result"
    }
   ],
   "source": [
    "#Checking for nulls\n",
    "df_cardrecord.isnull().sum()"
   ]
  },
  {
   "cell_type": "code",
   "execution_count": 99,
   "id": "82f62dde",
   "metadata": {},
   "outputs": [
    {
     "data": {
      "text/plain": [
       "C    442031\n",
       "0    383120\n",
       "X    209230\n",
       "1     11090\n",
       "5      1693\n",
       "2       868\n",
       "3       320\n",
       "4       223\n",
       "Name: STATUS, dtype: int64"
      ]
     },
     "execution_count": 99,
     "metadata": {},
     "output_type": "execute_result"
    }
   ],
   "source": [
    "#Checking the Status column\n",
    "df_cardrecord['STATUS'].value_counts()"
   ]
  },
  {
   "cell_type": "code",
   "execution_count": 100,
   "id": "ccda4775",
   "metadata": {},
   "outputs": [
    {
     "data": {
      "text/plain": [
       "0    98.646353\n",
       "1     1.353647\n",
       "Name: STATUS, dtype: float64"
      ]
     },
     "execution_count": 100,
     "metadata": {},
     "output_type": "execute_result"
    }
   ],
   "source": [
    "#Let's Assume that 0: Good Client and 1: Bad client\n",
    "df_cardrecord['STATUS'].replace(['C', 'X'],0, inplace=True)\n",
    "df_cardrecord['STATUS'].replace(['2','3','4','5'],1, inplace=True)\n",
    "df_cardrecord['STATUS'] = df_cardrecord['STATUS'].astype('int')\n",
    "df_cardrecord['STATUS'].value_counts(normalize=True)*100"
   ]
  },
  {
   "cell_type": "code",
   "execution_count": 101,
   "id": "efd1c7c6",
   "metadata": {},
   "outputs": [],
   "source": [
    "#Grouping by column and storing in another dataframe\n",
    "df_cardrecord_trans = df_cardrecord.groupby('ID').agg(max).reset_index()"
   ]
  },
  {
   "cell_type": "code",
   "execution_count": 102,
   "id": "5e3aaa12",
   "metadata": {},
   "outputs": [
    {
     "data": {
      "text/html": [
       "<div>\n",
       "<style scoped>\n",
       "    .dataframe tbody tr th:only-of-type {\n",
       "        vertical-align: middle;\n",
       "    }\n",
       "\n",
       "    .dataframe tbody tr th {\n",
       "        vertical-align: top;\n",
       "    }\n",
       "\n",
       "    .dataframe thead th {\n",
       "        text-align: right;\n",
       "    }\n",
       "</style>\n",
       "<table border=\"1\" class=\"dataframe\">\n",
       "  <thead>\n",
       "    <tr style=\"text-align: right;\">\n",
       "      <th></th>\n",
       "      <th>ID</th>\n",
       "      <th>STATUS</th>\n",
       "    </tr>\n",
       "  </thead>\n",
       "  <tbody>\n",
       "    <tr>\n",
       "      <th>0</th>\n",
       "      <td>5001711</td>\n",
       "      <td>0</td>\n",
       "    </tr>\n",
       "    <tr>\n",
       "      <th>1</th>\n",
       "      <td>5001712</td>\n",
       "      <td>0</td>\n",
       "    </tr>\n",
       "    <tr>\n",
       "      <th>2</th>\n",
       "      <td>5001713</td>\n",
       "      <td>0</td>\n",
       "    </tr>\n",
       "    <tr>\n",
       "      <th>3</th>\n",
       "      <td>5001714</td>\n",
       "      <td>0</td>\n",
       "    </tr>\n",
       "    <tr>\n",
       "      <th>4</th>\n",
       "      <td>5001715</td>\n",
       "      <td>0</td>\n",
       "    </tr>\n",
       "  </tbody>\n",
       "</table>\n",
       "</div>"
      ],
      "text/plain": [
       "        ID  STATUS\n",
       "0  5001711       0\n",
       "1  5001712       0\n",
       "2  5001713       0\n",
       "3  5001714       0\n",
       "4  5001715       0"
      ]
     },
     "execution_count": 102,
     "metadata": {},
     "output_type": "execute_result"
    }
   ],
   "source": [
    "#we are dropping the month balance\n",
    "df_cardrecord_trans.drop('MONTHS_BALANCE', axis=1, inplace=True)\n",
    "df_cardrecord_trans.head()"
   ]
  },
  {
   "cell_type": "code",
   "execution_count": 103,
   "id": "0a100dd5",
   "metadata": {},
   "outputs": [
    {
     "data": {
      "text/plain": [
       "0    88.365771\n",
       "1    11.634229\n",
       "Name: STATUS, dtype: float64"
      ]
     },
     "execution_count": 103,
     "metadata": {},
     "output_type": "execute_result"
    }
   ],
   "source": [
    "#Normalizing Status column\n",
    "df_cardrecord_trans['STATUS'].value_counts(normalize=True)*100"
   ]
  },
  {
   "cell_type": "code",
   "execution_count": 104,
   "id": "6b48c22c",
   "metadata": {},
   "outputs": [
    {
     "data": {
      "text/html": [
       "<div>\n",
       "<style scoped>\n",
       "    .dataframe tbody tr th:only-of-type {\n",
       "        vertical-align: middle;\n",
       "    }\n",
       "\n",
       "    .dataframe tbody tr th {\n",
       "        vertical-align: top;\n",
       "    }\n",
       "\n",
       "    .dataframe thead th {\n",
       "        text-align: right;\n",
       "    }\n",
       "</style>\n",
       "<table border=\"1\" class=\"dataframe\">\n",
       "  <thead>\n",
       "    <tr style=\"text-align: right;\">\n",
       "      <th></th>\n",
       "      <th>ID</th>\n",
       "      <th>CODE_GENDER</th>\n",
       "      <th>FLAG_OWN_CAR</th>\n",
       "      <th>FLAG_OWN_REALTY</th>\n",
       "      <th>CNT_CHILDREN</th>\n",
       "      <th>AMT_INCOME_TOTAL</th>\n",
       "      <th>YEARS</th>\n",
       "      <th>YEARS_EMPLOYED</th>\n",
       "      <th>FLAG_WORK_PHONE</th>\n",
       "      <th>FLAG_PHONE</th>\n",
       "      <th>...</th>\n",
       "      <th>NAME_FAMILY_STATUS_Separated</th>\n",
       "      <th>NAME_FAMILY_STATUS_Single / not married</th>\n",
       "      <th>NAME_FAMILY_STATUS_Widow</th>\n",
       "      <th>NAME_HOUSING_TYPE_Co-op apartment</th>\n",
       "      <th>NAME_HOUSING_TYPE_House / apartment</th>\n",
       "      <th>NAME_HOUSING_TYPE_Municipal apartment</th>\n",
       "      <th>NAME_HOUSING_TYPE_Office apartment</th>\n",
       "      <th>NAME_HOUSING_TYPE_Rented apartment</th>\n",
       "      <th>NAME_HOUSING_TYPE_With parents</th>\n",
       "      <th>STATUS</th>\n",
       "    </tr>\n",
       "  </thead>\n",
       "  <tbody>\n",
       "    <tr>\n",
       "      <th>0</th>\n",
       "      <td>5008804</td>\n",
       "      <td>0</td>\n",
       "      <td>0</td>\n",
       "      <td>1</td>\n",
       "      <td>0.0</td>\n",
       "      <td>427500.0</td>\n",
       "      <td>33.0</td>\n",
       "      <td>12.0</td>\n",
       "      <td>1.0</td>\n",
       "      <td>0.0</td>\n",
       "      <td>...</td>\n",
       "      <td>0</td>\n",
       "      <td>0</td>\n",
       "      <td>0</td>\n",
       "      <td>0</td>\n",
       "      <td>0</td>\n",
       "      <td>0</td>\n",
       "      <td>0</td>\n",
       "      <td>1</td>\n",
       "      <td>0</td>\n",
       "      <td>1</td>\n",
       "    </tr>\n",
       "    <tr>\n",
       "      <th>1</th>\n",
       "      <td>5008805</td>\n",
       "      <td>0</td>\n",
       "      <td>0</td>\n",
       "      <td>1</td>\n",
       "      <td>0.0</td>\n",
       "      <td>427500.0</td>\n",
       "      <td>33.0</td>\n",
       "      <td>12.0</td>\n",
       "      <td>1.0</td>\n",
       "      <td>0.0</td>\n",
       "      <td>...</td>\n",
       "      <td>0</td>\n",
       "      <td>0</td>\n",
       "      <td>0</td>\n",
       "      <td>0</td>\n",
       "      <td>0</td>\n",
       "      <td>0</td>\n",
       "      <td>0</td>\n",
       "      <td>1</td>\n",
       "      <td>0</td>\n",
       "      <td>1</td>\n",
       "    </tr>\n",
       "    <tr>\n",
       "      <th>2</th>\n",
       "      <td>5008806</td>\n",
       "      <td>0</td>\n",
       "      <td>0</td>\n",
       "      <td>1</td>\n",
       "      <td>0.0</td>\n",
       "      <td>112500.0</td>\n",
       "      <td>59.0</td>\n",
       "      <td>3.0</td>\n",
       "      <td>0.0</td>\n",
       "      <td>0.0</td>\n",
       "      <td>...</td>\n",
       "      <td>0</td>\n",
       "      <td>0</td>\n",
       "      <td>0</td>\n",
       "      <td>0</td>\n",
       "      <td>1</td>\n",
       "      <td>0</td>\n",
       "      <td>0</td>\n",
       "      <td>0</td>\n",
       "      <td>0</td>\n",
       "      <td>0</td>\n",
       "    </tr>\n",
       "    <tr>\n",
       "      <th>3</th>\n",
       "      <td>5008808</td>\n",
       "      <td>1</td>\n",
       "      <td>1</td>\n",
       "      <td>1</td>\n",
       "      <td>0.0</td>\n",
       "      <td>270000.0</td>\n",
       "      <td>52.0</td>\n",
       "      <td>8.0</td>\n",
       "      <td>0.0</td>\n",
       "      <td>1.0</td>\n",
       "      <td>...</td>\n",
       "      <td>0</td>\n",
       "      <td>1</td>\n",
       "      <td>0</td>\n",
       "      <td>0</td>\n",
       "      <td>1</td>\n",
       "      <td>0</td>\n",
       "      <td>0</td>\n",
       "      <td>0</td>\n",
       "      <td>0</td>\n",
       "      <td>0</td>\n",
       "    </tr>\n",
       "    <tr>\n",
       "      <th>4</th>\n",
       "      <td>5008809</td>\n",
       "      <td>1</td>\n",
       "      <td>1</td>\n",
       "      <td>1</td>\n",
       "      <td>0.0</td>\n",
       "      <td>270000.0</td>\n",
       "      <td>52.0</td>\n",
       "      <td>8.0</td>\n",
       "      <td>0.0</td>\n",
       "      <td>1.0</td>\n",
       "      <td>...</td>\n",
       "      <td>0</td>\n",
       "      <td>1</td>\n",
       "      <td>0</td>\n",
       "      <td>0</td>\n",
       "      <td>1</td>\n",
       "      <td>0</td>\n",
       "      <td>0</td>\n",
       "      <td>0</td>\n",
       "      <td>0</td>\n",
       "      <td>0</td>\n",
       "    </tr>\n",
       "  </tbody>\n",
       "</table>\n",
       "<p>5 rows × 34 columns</p>\n",
       "</div>"
      ],
      "text/plain": [
       "        ID CODE_GENDER  FLAG_OWN_CAR FLAG_OWN_REALTY  CNT_CHILDREN  \\\n",
       "0  5008804           0             0               1           0.0   \n",
       "1  5008805           0             0               1           0.0   \n",
       "2  5008806           0             0               1           0.0   \n",
       "3  5008808           1             1               1           0.0   \n",
       "4  5008809           1             1               1           0.0   \n",
       "\n",
       "   AMT_INCOME_TOTAL  YEARS  YEARS_EMPLOYED FLAG_WORK_PHONE FLAG_PHONE  ...  \\\n",
       "0          427500.0   33.0            12.0             1.0        0.0  ...   \n",
       "1          427500.0   33.0            12.0             1.0        0.0  ...   \n",
       "2          112500.0   59.0             3.0             0.0        0.0  ...   \n",
       "3          270000.0   52.0             8.0             0.0        1.0  ...   \n",
       "4          270000.0   52.0             8.0             0.0        1.0  ...   \n",
       "\n",
       "  NAME_FAMILY_STATUS_Separated  NAME_FAMILY_STATUS_Single / not married  \\\n",
       "0                            0                                        0   \n",
       "1                            0                                        0   \n",
       "2                            0                                        0   \n",
       "3                            0                                        1   \n",
       "4                            0                                        1   \n",
       "\n",
       "   NAME_FAMILY_STATUS_Widow  NAME_HOUSING_TYPE_Co-op apartment  \\\n",
       "0                         0                                  0   \n",
       "1                         0                                  0   \n",
       "2                         0                                  0   \n",
       "3                         0                                  0   \n",
       "4                         0                                  0   \n",
       "\n",
       "   NAME_HOUSING_TYPE_House / apartment  NAME_HOUSING_TYPE_Municipal apartment  \\\n",
       "0                                    0                                      0   \n",
       "1                                    0                                      0   \n",
       "2                                    1                                      0   \n",
       "3                                    1                                      0   \n",
       "4                                    1                                      0   \n",
       "\n",
       "   NAME_HOUSING_TYPE_Office apartment  NAME_HOUSING_TYPE_Rented apartment  \\\n",
       "0                                   0                                   1   \n",
       "1                                   0                                   1   \n",
       "2                                   0                                   0   \n",
       "3                                   0                                   0   \n",
       "4                                   0                                   0   \n",
       "\n",
       "   NAME_HOUSING_TYPE_With parents  STATUS  \n",
       "0                               0       1  \n",
       "1                               0       1  \n",
       "2                               0       0  \n",
       "3                               0       0  \n",
       "4                               0       0  \n",
       "\n",
       "[5 rows x 34 columns]"
      ]
     },
     "execution_count": 104,
     "metadata": {},
     "output_type": "execute_result"
    }
   ],
   "source": [
    "#Now merging both the dataframes on ID using Inner Join\n",
    "df_classification = pd.merge(df_creditcard, df_cardrecord_trans, on='ID', how='inner')\n",
    "df_classification.head()"
   ]
  },
  {
   "cell_type": "code",
   "execution_count": 105,
   "id": "0b3b97c5",
   "metadata": {},
   "outputs": [
    {
     "name": "stdout",
     "output_type": "stream",
     "text": [
      "Number of rows after merging 36457\n",
      "Number of Columns after merging 34\n"
     ]
    }
   ],
   "source": [
    "#Checking the number of rows and columns after merging\n",
    "print(\"Number of rows after merging\",df_classification.shape[0])\n",
    "print(\"Number of Columns after merging\",df_classification.shape[1])"
   ]
  },
  {
   "cell_type": "code",
   "execution_count": 106,
   "id": "134b565b",
   "metadata": {},
   "outputs": [],
   "source": [
    "#We are dropping ID as they are unique values \n",
    "df_classification.drop('ID',axis=1, inplace=True)"
   ]
  },
  {
   "cell_type": "code",
   "execution_count": 107,
   "id": "123f92db",
   "metadata": {},
   "outputs": [
    {
     "data": {
      "text/plain": [
       "26109"
      ]
     },
     "execution_count": 107,
     "metadata": {},
     "output_type": "execute_result"
    }
   ],
   "source": [
    "#Checking if there are any duplicates\n",
    "len(df_classification) - len(df_classification.drop_duplicates())"
   ]
  },
  {
   "cell_type": "code",
   "execution_count": 108,
   "id": "fa76fd06",
   "metadata": {},
   "outputs": [
    {
     "data": {
      "text/plain": [
       "(10348, 33)"
      ]
     },
     "execution_count": 108,
     "metadata": {},
     "output_type": "execute_result"
    }
   ],
   "source": [
    "#Dropping duplicate records and checking shape\n",
    "df_classification = df_classification.drop_duplicates()\n",
    "df_classification.reset_index(drop=True ,inplace=True)\n",
    "df_classification.shape"
   ]
  },
  {
   "cell_type": "code",
   "execution_count": 109,
   "id": "abd355b9",
   "metadata": {},
   "outputs": [
    {
     "data": {
      "text/plain": [
       "CODE_GENDER                                          0\n",
       "FLAG_OWN_CAR                                         0\n",
       "FLAG_OWN_REALTY                                      0\n",
       "CNT_CHILDREN                                         0\n",
       "AMT_INCOME_TOTAL                                     0\n",
       "YEARS                                                0\n",
       "YEARS_EMPLOYED                                       0\n",
       "FLAG_WORK_PHONE                                      0\n",
       "FLAG_PHONE                                           0\n",
       "FLAG_EMAIL                                           0\n",
       "CNT_FAM_MEMBERS                                      0\n",
       "NAME_INCOME_TYPE_Commercial associate                0\n",
       "NAME_INCOME_TYPE_Pensioner                           0\n",
       "NAME_INCOME_TYPE_State servant                       0\n",
       "NAME_INCOME_TYPE_Student                             0\n",
       "NAME_INCOME_TYPE_Working                             0\n",
       "NAME_EDUCATION_TYPE_Academic degree                  0\n",
       "NAME_EDUCATION_TYPE_Higher education                 0\n",
       "NAME_EDUCATION_TYPE_Incomplete higher                0\n",
       "NAME_EDUCATION_TYPE_Lower secondary                  0\n",
       "NAME_EDUCATION_TYPE_Secondary / secondary special    0\n",
       "NAME_FAMILY_STATUS_Civil marriage                    0\n",
       "NAME_FAMILY_STATUS_Married                           0\n",
       "NAME_FAMILY_STATUS_Separated                         0\n",
       "NAME_FAMILY_STATUS_Single / not married              0\n",
       "NAME_FAMILY_STATUS_Widow                             0\n",
       "NAME_HOUSING_TYPE_Co-op apartment                    0\n",
       "NAME_HOUSING_TYPE_House / apartment                  0\n",
       "NAME_HOUSING_TYPE_Municipal apartment                0\n",
       "NAME_HOUSING_TYPE_Office apartment                   0\n",
       "NAME_HOUSING_TYPE_Rented apartment                   0\n",
       "NAME_HOUSING_TYPE_With parents                       0\n",
       "STATUS                                               0\n",
       "dtype: int64"
      ]
     },
     "execution_count": 109,
     "metadata": {},
     "output_type": "execute_result"
    }
   ],
   "source": [
    "#Checking for nulls\n",
    "df_classification.isnull().sum()"
   ]
  },
  {
   "cell_type": "code",
   "execution_count": 110,
   "id": "66c02236",
   "metadata": {},
   "outputs": [
    {
     "data": {
      "text/plain": [
       "0    78.536915\n",
       "1    21.463085\n",
       "Name: STATUS, dtype: float64"
      ]
     },
     "execution_count": 110,
     "metadata": {},
     "output_type": "execute_result"
    }
   ],
   "source": [
    "df_classification['STATUS'].value_counts(normalize=True)*100"
   ]
  },
  {
   "cell_type": "code",
   "execution_count": 111,
   "id": "d5fec681",
   "metadata": {},
   "outputs": [],
   "source": [
    "df_classification =df_classification.sample(n=3000)"
   ]
  },
  {
   "cell_type": "code",
   "execution_count": 112,
   "id": "0fbc5a03",
   "metadata": {},
   "outputs": [
    {
     "data": {
      "text/plain": [
       "(3000, 33)"
      ]
     },
     "execution_count": 112,
     "metadata": {},
     "output_type": "execute_result"
    }
   ],
   "source": [
    "df_classification.shape"
   ]
  },
  {
   "cell_type": "markdown",
   "id": "464b54cd",
   "metadata": {},
   "source": [
    "# KNN Classifier"
   ]
  },
  {
   "cell_type": "markdown",
   "id": "568caf46",
   "metadata": {},
   "source": [
    "# ``MinMaxScaler``\n",
    "$$x_{new} = \\frac{x - x_{min}}{x_{max}- x_{min}}$$"
   ]
  },
  {
   "cell_type": "markdown",
   "id": "06161ad8",
   "metadata": {},
   "source": [
    "### First used grid search in order to find out the best parameters and then fit the model using those scores and then print out test and train scores"
   ]
  },
  {
   "cell_type": "code",
   "execution_count": 113,
   "id": "184d19d9",
   "metadata": {},
   "outputs": [],
   "source": [
    "#We take the 'STATUS' as the target column and est all as the feature columns\n",
    "X = df_classification.drop('STATUS', axis = 1)\n",
    "y = df_classification['STATUS']\n",
    "\n",
    "#We split the training and test data; we take the test data as 20% and the rest 80% as teh training data\n",
    "X_train, X_test, y_train, y_test = train_test_split(X, y, random_state = 0, test_size = 0.2)\n",
    "\n",
    "#using min max scaler we scale the values and then transform the values\n",
    "scaler = MinMaxScaler()\n",
    "X_train = scaler.fit_transform(X_train)\n",
    "X_test = scaler.transform(X_test)"
   ]
  },
  {
   "cell_type": "code",
   "execution_count": 114,
   "id": "8c8aa795",
   "metadata": {},
   "outputs": [
    {
     "data": {
      "text/plain": [
       "KNeighborsClassifier()"
      ]
     },
     "execution_count": 114,
     "metadata": {},
     "output_type": "execute_result"
    }
   ],
   "source": [
    "#Using KNN Classification, we are not applying any parameter , so by default it takes k as 5\n",
    "knn = KNeighborsClassifier()\n",
    "knn.fit(X_train,y_train)"
   ]
  },
  {
   "cell_type": "code",
   "execution_count": 115,
   "id": "b9f903f1",
   "metadata": {},
   "outputs": [],
   "source": [
    "#Predicting y using X_test\n",
    "y_pred=knn.predict(X_test)"
   ]
  },
  {
   "cell_type": "code",
   "execution_count": 116,
   "id": "be253844",
   "metadata": {},
   "outputs": [
    {
     "name": "stdout",
     "output_type": "stream",
     "text": [
      "The accuracy for KNN-default is 0.7883333333333333\n"
     ]
    }
   ],
   "source": [
    "#Testing the accuracy score\n",
    "print('The accuracy for KNN-default is',accuracy_score(y_test, y_pred))"
   ]
  },
  {
   "cell_type": "code",
   "execution_count": 117,
   "id": "ec971f62",
   "metadata": {},
   "outputs": [],
   "source": [
    "#We use grid search and best parameters to see the best n value for KNN\n",
    "param_dist={\n",
    "    \"weights\":[\"uniform\"],\n",
    "    \"n_neighbors\":[1,2,3,4,5,6,7,8,9,10],\n",
    "    \"metric\":[\"minkowski\", \"manhattan\",\"euclidean\",\"cosine\"]\n",
    "}"
   ]
  },
  {
   "cell_type": "code",
   "execution_count": 118,
   "id": "94b76fc3",
   "metadata": {},
   "outputs": [],
   "source": [
    "grid=GridSearchCV(knn, param_grid=param_dist, cv=5, n_jobs=-1)"
   ]
  },
  {
   "cell_type": "code",
   "execution_count": 119,
   "id": "f52f9c0c",
   "metadata": {},
   "outputs": [
    {
     "data": {
      "text/plain": [
       "GridSearchCV(cv=5, estimator=KNeighborsClassifier(), n_jobs=-1,\n",
       "             param_grid={'metric': ['minkowski', 'manhattan', 'euclidean',\n",
       "                                    'cosine'],\n",
       "                         'n_neighbors': [1, 2, 3, 4, 5, 6, 7, 8, 9, 10],\n",
       "                         'weights': ['uniform']})"
      ]
     },
     "execution_count": 119,
     "metadata": {},
     "output_type": "execute_result"
    }
   ],
   "source": [
    "grid.fit(X_train,y_train)"
   ]
  },
  {
   "cell_type": "code",
   "execution_count": 120,
   "id": "336ce177",
   "metadata": {},
   "outputs": [
    {
     "data": {
      "text/plain": [
       "KNeighborsClassifier(metric='cosine', n_neighbors=10)"
      ]
     },
     "execution_count": 120,
     "metadata": {},
     "output_type": "execute_result"
    }
   ],
   "source": [
    "#Taking the best n_neighbor using grid method\n",
    "grid.best_estimator_"
   ]
  },
  {
   "cell_type": "code",
   "execution_count": 121,
   "id": "a8a21ad8",
   "metadata": {},
   "outputs": [
    {
     "data": {
      "text/plain": [
       "0.7837500000000001"
      ]
     },
     "execution_count": 121,
     "metadata": {},
     "output_type": "execute_result"
    }
   ],
   "source": [
    "#Taking the best score using grid method\n",
    "grid.best_score_"
   ]
  },
  {
   "cell_type": "code",
   "execution_count": 122,
   "id": "8257b906",
   "metadata": {},
   "outputs": [
    {
     "data": {
      "text/plain": [
       "{'metric': 'cosine', 'n_neighbors': 10, 'weights': 'uniform'}"
      ]
     },
     "execution_count": 122,
     "metadata": {},
     "output_type": "execute_result"
    }
   ],
   "source": [
    "#hyper parameter tunning\n",
    "grid.best_params_"
   ]
  },
  {
   "cell_type": "code",
   "execution_count": 123,
   "id": "270093ec",
   "metadata": {},
   "outputs": [
    {
     "name": "stdout",
     "output_type": "stream",
     "text": [
      "Train score: 0.7858\n",
      "Test score: 0.8050\n"
     ]
    }
   ],
   "source": [
    "# now fitting the model with best parameters\n",
    "knn = KNeighborsClassifier(metric='manhattan', n_neighbors=10, weights='uniform')\n",
    "knn.fit(X_train,y_train)\n",
    "print('Train score: {:.4f}'.format(knn.score(X_train, y_train)))\n",
    "print('Test score: {:.4f}'.format(knn.score(X_test, y_test)))"
   ]
  },
  {
   "cell_type": "markdown",
   "id": "a6715993",
   "metadata": {},
   "source": [
    "### We can also do it using the graph "
   ]
  },
  {
   "cell_type": "code",
   "execution_count": 124,
   "id": "6e72059a",
   "metadata": {},
   "outputs": [],
   "source": [
    "#Taking the train and test data set and using min max scalar\n",
    "X = df_classification.drop('STATUS', axis = 1)\n",
    "y = df_classification['STATUS']\n",
    "\n",
    "X_train, X_test, y_train, y_test = train_test_split(X, y, random_state = 0, test_size = 0.2)\n",
    "\n",
    "scaler = MinMaxScaler()\n",
    "X_train = scaler.fit_transform(X_train)\n",
    "X_test = scaler.transform(X_test)"
   ]
  },
  {
   "cell_type": "code",
   "execution_count": 125,
   "id": "e66a88a3",
   "metadata": {},
   "outputs": [
    {
     "data": {
      "text/plain": [
       "array([[1., 1., 0., ..., 0., 1., 0.],\n",
       "       [0., 0., 0., ..., 0., 0., 0.],\n",
       "       [1., 1., 1., ..., 0., 0., 0.],\n",
       "       ...,\n",
       "       [0., 0., 0., ..., 0., 0., 0.],\n",
       "       [0., 1., 0., ..., 0., 0., 1.],\n",
       "       [0., 0., 0., ..., 0., 0., 0.]])"
      ]
     },
     "execution_count": 125,
     "metadata": {},
     "output_type": "execute_result"
    }
   ],
   "source": [
    "X_train"
   ]
  },
  {
   "cell_type": "code",
   "execution_count": 126,
   "id": "ef21bd85",
   "metadata": {},
   "outputs": [],
   "source": [
    "#Checking the best n_neighbour value \n",
    "train_score_array = []\n",
    "test_score_array = []\n",
    "\n",
    "for k in range(1,20):\n",
    "    knn = KNeighborsClassifier(k)\n",
    "    knn.fit(X_train, y_train)\n",
    "    train_score_array.append(knn.score(X_train, y_train))\n",
    "    test_score_array.append(knn.score(X_test, y_test))"
   ]
  },
  {
   "cell_type": "code",
   "execution_count": 127,
   "id": "6f986516",
   "metadata": {},
   "outputs": [
    {
     "data": {
      "text/plain": [
       "<matplotlib.legend.Legend at 0x22f390dacd0>"
      ]
     },
     "execution_count": 127,
     "metadata": {},
     "output_type": "execute_result"
    },
    {
     "data": {
      "image/png": "[encoded data removed]",
      "text/plain": [
       "<Figure size 1440x360 with 1 Axes>"
      ]
     },
     "metadata": {
      "needs_background": "light"
     },
     "output_type": "display_data"
    }
   ],
   "source": [
    "#Plotting the graph and visulaizing the best n_neighbour parameter\n",
    "x_axis = range(1,20)\n",
    "%matplotlib inline\n",
    "\n",
    "plt.subplots(figsize = (20,5))\n",
    "plt.plot(x_axis, train_score_array, label = 'Train Score', c = 'g')\n",
    "plt.plot(x_axis, test_score_array, label = 'Test Score', c='b')\n",
    "plt.xlabel('n_neighbors')\n",
    "plt.ylabel('Accuracy')\n",
    "plt.grid()\n",
    "plt.legend()"
   ]
  },
  {
   "cell_type": "markdown",
   "id": "ca5b2ea7",
   "metadata": {},
   "source": [
    "From the above graph, we can see that the best score is coming at 8 neighbors. Therefore, our best score can't be 16 neighbors as shown earlier by gridsearch"
   ]
  },
  {
   "cell_type": "code",
   "execution_count": 128,
   "id": "f313e359",
   "metadata": {},
   "outputs": [
    {
     "name": "stdout",
     "output_type": "stream",
     "text": [
      "Train score: 0.7875\n",
      "Test score: 0.8050\n"
     ]
    }
   ],
   "source": [
    "#From the above grph we see that the best value of n_neighbour(k) = 10; substituting k =10 in KNN and va;idating the train and test score \n",
    "knn = KNeighborsClassifier(10)\n",
    "knn.fit(X_train, y_train)\n",
    "print('Train score: {:.4f}'.format(knn.score(X_train, y_train)))\n",
    "print('Test score: {:.4f}'.format(knn.score(X_test, y_test)))"
   ]
  },
  {
   "cell_type": "code",
   "execution_count": 129,
   "id": "c1b2dc47",
   "metadata": {},
   "outputs": [],
   "source": [
    "#Predicting y based on X test data\n",
    "y_pred_knn =knn.predict(X_test)"
   ]
  },
  {
   "cell_type": "code",
   "execution_count": 130,
   "id": "4309d58c",
   "metadata": {},
   "outputs": [
    {
     "data": {
      "text/plain": [
       "0.805"
      ]
     },
     "execution_count": 130,
     "metadata": {},
     "output_type": "execute_result"
    }
   ],
   "source": [
    "#Calculating accuracy score\n",
    "accuracy_score(y_pred_knn,y_test)"
   ]
  },
  {
   "cell_type": "code",
   "execution_count": 131,
   "id": "4fc6d6a7",
   "metadata": {},
   "outputs": [
    {
     "name": "stdout",
     "output_type": "stream",
     "text": [
      "              precision    recall  f1-score   support\n",
      "\n",
      "           0       1.00      0.81      0.89       599\n",
      "           1       0.00      0.00      0.00         1\n",
      "\n",
      "    accuracy                           0.81       600\n",
      "   macro avg       0.50      0.40      0.45       600\n",
      "weighted avg       1.00      0.81      0.89       600\n",
      "\n"
     ]
    }
   ],
   "source": [
    "#Printing Classification re[port]\n",
    "import warnings\n",
    "warnings.filterwarnings('ignore')\n",
    "print(classification_report(y_pred_knn,y_test))"
   ]
  },
  {
   "cell_type": "code",
   "execution_count": 132,
   "id": "899b8c66",
   "metadata": {},
   "outputs": [
    {
     "name": "stdout",
     "output_type": "stream",
     "text": [
      "[[483 116]\n",
      " [  1   0]]\n"
     ]
    }
   ],
   "source": [
    "#printing confusion matrix\n",
    "print(confusion_matrix(y_pred_knn,y_test))"
   ]
  },
  {
   "cell_type": "markdown",
   "id": "0f170beb",
   "metadata": {},
   "source": [
    "# Logistic Regression"
   ]
  },
  {
   "cell_type": "markdown",
   "id": "7fc68dde",
   "metadata": {},
   "source": [
    "### 'STATUS' is out target column and rest are feture columns; Splitting data into train and test datasets and applying Min Max Scaler\n"
   ]
  },
  {
   "cell_type": "code",
   "execution_count": 133,
   "id": "d09c0a0d",
   "metadata": {},
   "outputs": [],
   "source": [
    "#'STATUS' is out target column and rest are feture columns; Splitting data into train and test datasets and applying Min Max Scaler\n",
    "\n",
    "X = df_classification.drop('STATUS', axis = 1)\n",
    "y = df_classification['STATUS']\n",
    "\n",
    "X_train, X_test, y_train, y_test = train_test_split(X, y, random_state = 0, test_size = 0.2)\n",
    "\n",
    "scaler = StandardScaler()\n",
    "X_train = scaler.fit_transform(X_train)\n",
    "X_test = scaler.transform(X_test)"
   ]
  },
  {
   "cell_type": "code",
   "execution_count": 134,
   "id": "0531d1a1",
   "metadata": {},
   "outputs": [],
   "source": [
    "from sklearn.linear_model import LogisticRegression\n",
    "\n",
    "c_range = [0.001, 0.01, 0.1, 1, 10, 100, 1000]\n",
    "train_score_l1 = []\n",
    "train_score_l2 = []\n",
    "test_score_l1 = []\n",
    "test_score_l2 = []\n",
    "\n",
    "for c in c_range:\n",
    "    log_l1 = LogisticRegression(penalty = 'l1', C = c, solver = 'liblinear', max_iter = 500)\n",
    "    log_l2 = LogisticRegression(penalty = 'l2', C = c, solver = 'lbfgs', max_iter = 500)\n",
    "    log_l1.fit(X_train, y_train)\n",
    "    log_l2.fit(X_train, y_train)\n",
    "    train_score_l1.append(log_l1.score(X_train, y_train))\n",
    "    train_score_l2.append(log_l2.score(X_train, y_train))\n",
    "    test_score_l1.append(log_l1.score(X_test, y_test))\n",
    "    test_score_l2.append(log_l2.score(X_test, y_test))"
   ]
  },
  {
   "cell_type": "code",
   "execution_count": 135,
   "id": "5c1258c1",
   "metadata": {},
   "outputs": [
    {
     "data": {
      "image/png": "[encoded data removed]",
      "text/plain": [
       "<Figure size 1080x360 with 1 Axes>"
      ]
     },
     "metadata": {
      "needs_background": "light"
     },
     "output_type": "display_data"
    }
   ],
   "source": [
    "import matplotlib.pyplot as plt\n",
    "%matplotlib inline\n",
    "\n",
    "plt.subplots(figsize = (15,5))\n",
    "plt.plot(c_range, train_score_l1, label = 'Train score, penalty = l1')\n",
    "plt.plot(c_range, test_score_l1, label = 'Test score, penalty = l1')\n",
    "plt.plot(c_range, train_score_l2, label = 'Train score, penalty = l2')\n",
    "plt.plot(c_range, test_score_l2, label = 'Test score, penalty = l2')\n",
    "plt.legend()\n",
    "plt.xlabel('Regularization parameter: C')\n",
    "plt.ylabel('Accuracy')\n",
    "plt.xscale('log')"
   ]
  },
  {
   "cell_type": "markdown",
   "id": "d8f5c1fb",
   "metadata": {},
   "source": [
    "### The best c parameter as per graph is c=0.01"
   ]
  },
  {
   "cell_type": "code",
   "execution_count": 136,
   "id": "4d7ad88a",
   "metadata": {},
   "outputs": [
    {
     "data": {
      "text/plain": [
       "GridSearchCV(cv=5, estimator=LogisticRegression(max_iter=1000, random_state=0),\n",
       "             param_grid={'C': [0.01, 0.1, 1, 10, 100]}, scoring='roc_auc')"
      ]
     },
     "execution_count": 136,
     "metadata": {},
     "output_type": "execute_result"
    }
   ],
   "source": [
    "#Using hypterparameter tuning\n",
    "param_grid = {'C': [0.01, 0.1, 1, 10, 100]}\n",
    "lreg = LogisticRegression(random_state = 0, max_iter = 1000)\n",
    "grid_lreg = GridSearchCV(lreg, param_grid, cv =5, scoring= 'roc_auc')\n",
    "grid_lreg.fit(X_train, y_train)"
   ]
  },
  {
   "cell_type": "code",
   "execution_count": 137,
   "id": "44c600bd",
   "metadata": {},
   "outputs": [
    {
     "data": {
      "text/plain": [
       "0.519654816186948"
      ]
     },
     "execution_count": 137,
     "metadata": {},
     "output_type": "execute_result"
    }
   ],
   "source": [
    "#Predicting the score\n",
    "grid_lreg.score(X_test, y_test)"
   ]
  },
  {
   "cell_type": "code",
   "execution_count": 138,
   "id": "3cbde00d",
   "metadata": {},
   "outputs": [
    {
     "name": "stdout",
     "output_type": "stream",
     "text": [
      "accuracy_score:  0.805\n",
      "roc_auc_score:  0.519654816186948\n"
     ]
    }
   ],
   "source": [
    "from sklearn.metrics import accuracy_score, roc_auc_score\n",
    "\n",
    "#Predicting y\n",
    "y_pred = grid_lreg.predict(X_test)\n",
    "print('accuracy_score: ', accuracy_score(y_test, y_pred))\n",
    "print('roc_auc_score: ', roc_auc_score(y_test, grid_lreg.predict_proba(X_test)[:,1]))"
   ]
  },
  {
   "cell_type": "code",
   "execution_count": 139,
   "id": "c1afc01f",
   "metadata": {},
   "outputs": [],
   "source": [
    "#Predicting Y\n",
    "y_pred_lreg =grid_lreg.predict(X_test)"
   ]
  },
  {
   "cell_type": "code",
   "execution_count": 142,
   "id": "0a35f418",
   "metadata": {},
   "outputs": [
    {
     "name": "stdout",
     "output_type": "stream",
     "text": [
      "              precision    recall  f1-score   support\n",
      "\n",
      "           0       1.00      0.81      0.89       599\n",
      "           1       0.00      0.00      0.00         1\n",
      "\n",
      "    accuracy                           0.81       600\n",
      "   macro avg       0.50      0.40      0.45       600\n",
      "weighted avg       1.00      0.81      0.89       600\n",
      "\n"
     ]
    }
   ],
   "source": [
    "#Printing Classification report\n",
    "import warnings\n",
    "warnings.filterwarnings('ignore')\n",
    "print(classification_report(y_pred_lreg,y_test))"
   ]
  },
  {
   "cell_type": "code",
   "execution_count": 143,
   "id": "529eeafc",
   "metadata": {},
   "outputs": [
    {
     "name": "stdout",
     "output_type": "stream",
     "text": [
      "[[483 116]\n",
      " [  1   0]]\n"
     ]
    }
   ],
   "source": [
    "#Confusion matrix\n",
    "print(confusion_matrix(y_pred_lreg,y_test))"
   ]
  },
  {
   "cell_type": "markdown",
   "id": "be067757",
   "metadata": {},
   "source": [
    "## LinearSVC"
   ]
  },
  {
   "cell_type": "markdown",
   "id": "d781d7e7",
   "metadata": {},
   "source": [
    "### Splitting data into train and test and applying min max scalar"
   ]
  },
  {
   "cell_type": "code",
   "execution_count": 144,
   "id": "2a866d59",
   "metadata": {},
   "outputs": [],
   "source": [
    "#Splitting data into train and test and applying min max scalar\n",
    "X = df_classification.drop('STATUS', axis = 1)\n",
    "y = df_classification['STATUS']\n",
    "\n",
    "X_train, X_test, y_train, y_test = train_test_split(X, y, random_state = 0, test_size = 0.2)\n",
    "\n",
    "scaler = MinMaxScaler()\n",
    "X_train = scaler.fit_transform(X_train)\n",
    "X_test = scaler.transform(X_test)"
   ]
  },
  {
   "cell_type": "code",
   "execution_count": 145,
   "id": "fcb556e0",
   "metadata": {},
   "outputs": [
    {
     "data": {
      "text/plain": [
       "LinearSVC()"
      ]
     },
     "execution_count": 145,
     "metadata": {},
     "output_type": "execute_result"
    }
   ],
   "source": [
    "#Appying Linear SVC and fitting training data\n",
    "svc = LinearSVC()\n",
    "svc.fit(X_train,y_train)"
   ]
  },
  {
   "cell_type": "code",
   "execution_count": 146,
   "id": "176c4763",
   "metadata": {},
   "outputs": [],
   "source": [
    "#Predicting y using test dataset\n",
    "y_pred=svc.predict(X_test)"
   ]
  },
  {
   "cell_type": "code",
   "execution_count": 147,
   "id": "955f27ff",
   "metadata": {},
   "outputs": [
    {
     "data": {
      "text/plain": [
       "0.8066666666666666"
      ]
     },
     "execution_count": 147,
     "metadata": {},
     "output_type": "execute_result"
    }
   ],
   "source": [
    "#Predicting accuracy\n",
    "accuracy_score(y_test, y_pred)"
   ]
  },
  {
   "cell_type": "code",
   "execution_count": 148,
   "id": "85e27afa",
   "metadata": {},
   "outputs": [],
   "source": [
    "#Predicting the y values\n",
    "y_pred_svc =svc.predict(X_test)"
   ]
  },
  {
   "cell_type": "code",
   "execution_count": 150,
   "id": "f2567932",
   "metadata": {
    "scrolled": true
   },
   "outputs": [
    {
     "name": "stdout",
     "output_type": "stream",
     "text": [
      "              precision    recall  f1-score   support\n",
      "\n",
      "           0       1.00      0.81      0.89       600\n",
      "           1       0.00      0.00      0.00         0\n",
      "\n",
      "    accuracy                           0.81       600\n",
      "   macro avg       0.50      0.40      0.45       600\n",
      "weighted avg       1.00      0.81      0.89       600\n",
      "\n"
     ]
    }
   ],
   "source": [
    "#Printing Classification report\n",
    "print(classification_report(y_pred_svc,y_test))"
   ]
  },
  {
   "cell_type": "code",
   "execution_count": 152,
   "id": "4015925b",
   "metadata": {},
   "outputs": [
    {
     "name": "stdout",
     "output_type": "stream",
     "text": [
      "[[484 116]\n",
      " [  0   0]]\n"
     ]
    }
   ],
   "source": [
    "#printing confusion matrix\n",
    "print(confusion_matrix(y_pred_svc,y_test))"
   ]
  },
  {
   "cell_type": "markdown",
   "id": "16f1a874",
   "metadata": {},
   "source": [
    "#### Applying hyper-tuning\n",
    "#### We are using Grid Search with CV"
   ]
  },
  {
   "cell_type": "code",
   "execution_count": 153,
   "id": "7a1bf280",
   "metadata": {},
   "outputs": [
    {
     "name": "stdout",
     "output_type": "stream",
     "text": [
      "Best score on validation set: 0.78\n",
      "Best parameters:  {'C': 0.001, 'gamma': 0.001}\n"
     ]
    }
   ],
   "source": [
    "#Applying hyper-tuning\n",
    "# We are using Grid Search with CV\n",
    "from sklearn.model_selection import cross_val_score\n",
    "from sklearn.svm import SVC\n",
    "scaler = MinMaxScaler()\n",
    "X_train = scaler.fit_transform(X_train)\n",
    "X_test = scaler.transform(X_test)\n",
    "\n",
    "best_score = 0\n",
    "for gamma in [0.001, 0.01, 0.1, 1, 10, 100]:\n",
    "    for C in [0.001, 0.01, 0.1, 1, 10, 100]:\n",
    "        # for each combination of parameters,\n",
    "        # train an SVC\n",
    "        svm = SVC(gamma=gamma, C=C)\n",
    "        # perform cross-validation\n",
    "        scores = cross_val_score(svm, X_train, y_train, cv=5)\n",
    "        # compute mean cross-validation accuracy\n",
    "        score = np.mean(scores)\n",
    "        # if we got a better score, store the score and parameters\n",
    "        if score > best_score:\n",
    "            best_score = score\n",
    "            best_parameters = {'C': C, 'gamma': gamma}\n",
    "            \n",
    "# rebuild a model on the combined training and validation set\n",
    "svm = SVC(**best_parameters)\n",
    "svm.fit(X_train, y_train)\n",
    "print(\"Best score on validation set: {:.2f}\".format(best_score))\n",
    "print(\"Best parameters: \", best_parameters)\n"
   ]
  },
  {
   "cell_type": "code",
   "execution_count": 154,
   "id": "cc9ea131",
   "metadata": {},
   "outputs": [
    {
     "name": "stdout",
     "output_type": "stream",
     "text": [
      "0.8066666666666666\n"
     ]
    }
   ],
   "source": [
    "test_score = svm.score(X_test, y_test)\n",
    "print(test_score)"
   ]
  },
  {
   "cell_type": "code",
   "execution_count": 155,
   "id": "2c44e956",
   "metadata": {},
   "outputs": [
    {
     "name": "stdout",
     "output_type": "stream",
     "text": [
      "Parameter grid:\n",
      "{'C': [0.001, 0.01, 0.1, 1, 10, 100], 'gamma': [0.001, 0.01, 0.1, 1, 10, 100]}\n"
     ]
    }
   ],
   "source": [
    "param_grid = {'C': [0.001, 0.01, 0.1, 1, 10, 100],\n",
    "              'gamma': [0.001, 0.01, 0.1, 1, 10, 100]}\n",
    "print(\"Parameter grid:\\n{}\".format(param_grid))"
   ]
  },
  {
   "cell_type": "code",
   "execution_count": 156,
   "id": "eefab197",
   "metadata": {},
   "outputs": [],
   "source": [
    "grid_search = GridSearchCV(SVC(), param_grid, cv=5, return_train_score=True)"
   ]
  },
  {
   "cell_type": "code",
   "execution_count": 157,
   "id": "91f73bee",
   "metadata": {},
   "outputs": [
    {
     "data": {
      "text/plain": [
       "GridSearchCV(cv=5, estimator=SVC(),\n",
       "             param_grid={'C': [0.001, 0.01, 0.1, 1, 10, 100],\n",
       "                         'gamma': [0.001, 0.01, 0.1, 1, 10, 100]},\n",
       "             return_train_score=True)"
      ]
     },
     "execution_count": 157,
     "metadata": {},
     "output_type": "execute_result"
    }
   ],
   "source": [
    "grid_search.fit(X_train, y_train)"
   ]
  },
  {
   "cell_type": "code",
   "execution_count": 158,
   "id": "33c79639",
   "metadata": {},
   "outputs": [
    {
     "name": "stdout",
     "output_type": "stream",
     "text": [
      "Best parameters: {'C': 0.001, 'gamma': 0.001}\n",
      "Best cross-validation score: 0.78\n"
     ]
    }
   ],
   "source": [
    "print(\"Best parameters: {}\".format(grid_search.best_params_))\n",
    "print(\"Best cross-validation score: {:.2f}\".format(grid_search.best_score_))"
   ]
  },
  {
   "cell_type": "code",
   "execution_count": 159,
   "id": "29f65973",
   "metadata": {},
   "outputs": [
    {
     "name": "stdout",
     "output_type": "stream",
     "text": [
      "Train score: 0.7850\n",
      "Test score: 0.8067\n"
     ]
    }
   ],
   "source": [
    "#finding train and test scores for best parameters\n",
    "svm = SVC(gamma=0.001, C=0.001)\n",
    "svm.fit(X_train, y_train)\n",
    "\n",
    "print('Train score: {:.4f}'.format(svm.score(X_train, y_train)))\n",
    "print('Test score: {:.4f}'.format(svm.score(X_test, y_test)))"
   ]
  },
  {
   "cell_type": "code",
   "execution_count": 160,
   "id": "28a23f06",
   "metadata": {},
   "outputs": [
    {
     "data": {
      "text/plain": [
       "0.8066666666666666"
      ]
     },
     "execution_count": 160,
     "metadata": {},
     "output_type": "execute_result"
    }
   ],
   "source": [
    "y_pred_sv =svm.predict(X_test)\n",
    "accuracy_score(y_pred_sv,y_test)"
   ]
  },
  {
   "cell_type": "code",
   "execution_count": 162,
   "id": "9a92e175",
   "metadata": {},
   "outputs": [
    {
     "name": "stdout",
     "output_type": "stream",
     "text": [
      "              precision    recall  f1-score   support\n",
      "\n",
      "           0       1.00      0.81      0.89       600\n",
      "           1       0.00      0.00      0.00         0\n",
      "\n",
      "    accuracy                           0.81       600\n",
      "   macro avg       0.50      0.40      0.45       600\n",
      "weighted avg       1.00      0.81      0.89       600\n",
      "\n"
     ]
    }
   ],
   "source": [
    "#Classification report\n",
    "import warnings\n",
    "warnings.filterwarnings('ignore')\n",
    "print(classification_report(y_pred_sv,y_test))"
   ]
  },
  {
   "cell_type": "code",
   "execution_count": 164,
   "id": "65ed0fa3",
   "metadata": {},
   "outputs": [
    {
     "name": "stdout",
     "output_type": "stream",
     "text": [
      "[[484 116]\n",
      " [  0   0]]\n"
     ]
    }
   ],
   "source": [
    "#Confusion matrix\n",
    "print(confusion_matrix(y_pred_sv,y_test))"
   ]
  },
  {
   "cell_type": "markdown",
   "id": "975339ac",
   "metadata": {},
   "source": [
    "## SVC with kernel trick"
   ]
  },
  {
   "cell_type": "markdown",
   "id": "60a067c9",
   "metadata": {},
   "source": [
    "### ``kernel = 'poly'``"
   ]
  },
  {
   "cell_type": "code",
   "execution_count": 165,
   "id": "f62298d8",
   "metadata": {},
   "outputs": [],
   "source": [
    "# splitting into train and test data\n",
    "X = df_classification.drop('STATUS', axis = 1)\n",
    "y = df_classification['STATUS']\n",
    "\n",
    "X_train, X_test, y_train, y_test = train_test_split(X, y, random_state = 0, test_size = 0.2)\n",
    "\n",
    "scaler = MinMaxScaler()\n",
    "X_train = scaler.fit_transform(X_train)\n",
    "X_test = scaler.transform(X_test)"
   ]
  },
  {
   "cell_type": "code",
   "execution_count": 166,
   "id": "3c731e5c",
   "metadata": {},
   "outputs": [
    {
     "data": {
      "text/plain": [
       "0.805"
      ]
     },
     "execution_count": 166,
     "metadata": {},
     "output_type": "execute_result"
    }
   ],
   "source": [
    "clf = SVC(kernel = 'poly')\n",
    "clf.fit(X_train,y_train)\n",
    "y_pred=clf.predict(X_test)\n",
    "accuracy_score(y_test, y_pred)"
   ]
  },
  {
   "cell_type": "code",
   "execution_count": 167,
   "id": "4edbb5dc",
   "metadata": {},
   "outputs": [],
   "source": [
    "param_dist={\n",
    "    \"max_iter\":[10,50,100,150,200,250,300,350,400,450,500],\n",
    "    \"C\":[0.001, 0.01, 0.1, 1, 10],\n",
    "    \"gamma\":[0.001, 0.01, 0.1, 1, 10]\n",
    "}"
   ]
  },
  {
   "cell_type": "code",
   "execution_count": 168,
   "id": "cb535911",
   "metadata": {},
   "outputs": [],
   "source": [
    "from sklearn.model_selection import GridSearchCV\n",
    "grid_poly=GridSearchCV(clf, param_grid=param_dist, cv=5, n_jobs=-1)"
   ]
  },
  {
   "cell_type": "code",
   "execution_count": 169,
   "id": "bb090d5e",
   "metadata": {},
   "outputs": [
    {
     "data": {
      "text/plain": [
       "GridSearchCV(cv=5, estimator=SVC(kernel='poly'), n_jobs=-1,\n",
       "             param_grid={'C': [0.001, 0.01, 0.1, 1, 10],\n",
       "                         'gamma': [0.001, 0.01, 0.1, 1, 10],\n",
       "                         'max_iter': [10, 50, 100, 150, 200, 250, 300, 350, 400,\n",
       "                                      450, 500]})"
      ]
     },
     "execution_count": 169,
     "metadata": {},
     "output_type": "execute_result"
    }
   ],
   "source": [
    "grid_poly.fit(X_train,y_train)"
   ]
  },
  {
   "cell_type": "code",
   "execution_count": 170,
   "id": "7adbab91",
   "metadata": {},
   "outputs": [
    {
     "data": {
      "text/plain": [
       "SVC(C=0.001, gamma=0.001, kernel='poly', max_iter=450)"
      ]
     },
     "execution_count": 170,
     "metadata": {},
     "output_type": "execute_result"
    }
   ],
   "source": [
    "grid_poly.best_estimator_"
   ]
  },
  {
   "cell_type": "code",
   "execution_count": 171,
   "id": "64fbd7ab",
   "metadata": {},
   "outputs": [
    {
     "data": {
      "text/plain": [
       "0.7849999999999999"
      ]
     },
     "execution_count": 171,
     "metadata": {},
     "output_type": "execute_result"
    }
   ],
   "source": [
    "grid_poly.best_score_"
   ]
  },
  {
   "cell_type": "code",
   "execution_count": 172,
   "id": "fe8b4685",
   "metadata": {},
   "outputs": [
    {
     "name": "stdout",
     "output_type": "stream",
     "text": [
      "Best parameters: {'C': 0.001, 'gamma': 0.001, 'max_iter': 450}\n",
      "Best cross-validation score: 0.78\n"
     ]
    }
   ],
   "source": [
    "# printing the best parameters\n",
    "print(\"Best parameters: {}\".format(grid_poly.best_params_))\n",
    "print(\"Best cross-validation score: {:.2f}\".format(grid_poly.best_score_))"
   ]
  },
  {
   "cell_type": "code",
   "execution_count": 173,
   "id": "ef2f88c4",
   "metadata": {},
   "outputs": [],
   "source": [
    "#Predicting y from X_test\n",
    "y_pred_grid_poly =grid_poly.predict(X_test)"
   ]
  },
  {
   "cell_type": "code",
   "execution_count": 174,
   "id": "6787ba22",
   "metadata": {},
   "outputs": [
    {
     "data": {
      "text/plain": [
       "0.27166666666666667"
      ]
     },
     "execution_count": 174,
     "metadata": {},
     "output_type": "execute_result"
    }
   ],
   "source": [
    "#Accuracy Score\n",
    "accuracy_score(y_pred_grid_poly,y_test)"
   ]
  },
  {
   "cell_type": "code",
   "execution_count": 175,
   "id": "25027728",
   "metadata": {},
   "outputs": [
    {
     "name": "stdout",
     "output_type": "stream",
     "text": [
      "              precision    recall  f1-score   support\n",
      "\n",
      "           0       0.12      0.85      0.21        67\n",
      "           1       0.91      0.20      0.33       533\n",
      "\n",
      "    accuracy                           0.27       600\n",
      "   macro avg       0.52      0.52      0.27       600\n",
      "weighted avg       0.82      0.27      0.31       600\n",
      "\n"
     ]
    }
   ],
   "source": [
    "#Classification report\n",
    "print(classification_report(y_pred_grid_poly,y_test))"
   ]
  },
  {
   "cell_type": "code",
   "execution_count": 176,
   "id": "2f2df28e",
   "metadata": {},
   "outputs": [
    {
     "name": "stdout",
     "output_type": "stream",
     "text": [
      "[[ 57  10]\n",
      " [427 106]]\n"
     ]
    }
   ],
   "source": [
    "#Confusion Matrix\n",
    "print(confusion_matrix(y_pred_grid_poly,y_test))"
   ]
  },
  {
   "cell_type": "markdown",
   "id": "45088884",
   "metadata": {},
   "source": [
    "# Svc Kernel -rbf"
   ]
  },
  {
   "cell_type": "markdown",
   "id": "848eb2e4",
   "metadata": {},
   "source": [
    "### splitting the dataset into train and test and applying min max scalar"
   ]
  },
  {
   "cell_type": "code",
   "execution_count": 177,
   "id": "6ca87670",
   "metadata": {},
   "outputs": [],
   "source": [
    "# splitting the dataset into train and test and applying min max scalar\n",
    "X = df_classification.drop('STATUS', axis = 1)\n",
    "y = df_classification['STATUS']\n",
    "\n",
    "X_train, X_test, y_train, y_test = train_test_split(X, y, random_state = 0, test_size = 0.2)\n",
    "\n",
    "scaler = MinMaxScaler()\n",
    "X_train = scaler.fit_transform(X_train)\n",
    "X_test = scaler.transform(X_test)"
   ]
  },
  {
   "cell_type": "markdown",
   "id": "0b390f46",
   "metadata": {},
   "source": [
    "Accuracy score"
   ]
  },
  {
   "cell_type": "code",
   "execution_count": 178,
   "id": "c173466d",
   "metadata": {},
   "outputs": [
    {
     "data": {
      "text/plain": [
       "0.8066666666666666"
      ]
     },
     "execution_count": 178,
     "metadata": {},
     "output_type": "execute_result"
    }
   ],
   "source": [
    "# accuracy score\n",
    "clf_rbf = SVC(kernel = 'rbf')\n",
    "clf_rbf.fit(X_train,y_train)\n",
    "y_pred=clf_rbf.predict(X_test)\n",
    "accuracy_score(y_test, y_pred)"
   ]
  },
  {
   "cell_type": "code",
   "execution_count": 179,
   "id": "8de0a2ef",
   "metadata": {},
   "outputs": [
    {
     "name": "stdout",
     "output_type": "stream",
     "text": [
      "SVC(C=0.001, gamma=0.001, max_iter=450)\n",
      "0.7849999999999999\n"
     ]
    }
   ],
   "source": [
    "import warnings\n",
    "warnings.filterwarnings('ignore', 'Solver terminated early.*')\n",
    "param_dist={\n",
    "    \"max_iter\":[10,50,100,150,200,250,300,350,400,450,500],\n",
    "    \"C\":[0.001, 0.01, 0.1, 1, 10],\n",
    "    \"gamma\":[0.001, 0.01, 0.1, 1, 10]\n",
    "}\n",
    "grid=GridSearchCV(clf_rbf, param_grid=param_dist, cv=5, n_jobs=-1)\n",
    "grid.fit(X_train,y_train)\n",
    "print(grid.best_estimator_)\n",
    "print(grid.best_score_)"
   ]
  },
  {
   "cell_type": "code",
   "execution_count": 180,
   "id": "49c71365",
   "metadata": {},
   "outputs": [
    {
     "name": "stdout",
     "output_type": "stream",
     "text": [
      "Best parameters: {'C': 0.001, 'gamma': 0.001, 'max_iter': 450}\n"
     ]
    }
   ],
   "source": [
    "print(\"Best parameters: {}\".format(grid.best_params_))"
   ]
  },
  {
   "cell_type": "code",
   "execution_count": 181,
   "id": "d9993340",
   "metadata": {},
   "outputs": [],
   "source": [
    "#Predicting y values\n",
    "y_pred_grid =grid.predict(X_test)"
   ]
  },
  {
   "cell_type": "code",
   "execution_count": 182,
   "id": "91f28a8f",
   "metadata": {},
   "outputs": [
    {
     "data": {
      "text/plain": [
       "0.3883333333333333"
      ]
     },
     "execution_count": 182,
     "metadata": {},
     "output_type": "execute_result"
    }
   ],
   "source": [
    "#Accuracy Score\n",
    "accuracy_score(y_pred_grid,y_test)"
   ]
  },
  {
   "cell_type": "code",
   "execution_count": 183,
   "id": "efca4e7b",
   "metadata": {},
   "outputs": [
    {
     "name": "stdout",
     "output_type": "stream",
     "text": [
      "              precision    recall  f1-score   support\n",
      "\n",
      "           0       0.31      0.82      0.45       183\n",
      "           1       0.72      0.20      0.31       417\n",
      "\n",
      "    accuracy                           0.39       600\n",
      "   macro avg       0.51      0.51      0.38       600\n",
      "weighted avg       0.59      0.39      0.35       600\n",
      "\n"
     ]
    }
   ],
   "source": [
    "#Classification Report\n",
    "import warnings\n",
    "warnings.filterwarnings('ignore')\n",
    "print(classification_report(y_pred_grid,y_test))"
   ]
  },
  {
   "cell_type": "code",
   "execution_count": 184,
   "id": "e79ee009",
   "metadata": {},
   "outputs": [
    {
     "name": "stdout",
     "output_type": "stream",
     "text": [
      "[[150  33]\n",
      " [334  83]]\n"
     ]
    }
   ],
   "source": [
    "#Confusion Matrix\n",
    "print(confusion_matrix(y_pred_grid,y_test))"
   ]
  },
  {
   "cell_type": "markdown",
   "id": "f0ad71f4",
   "metadata": {},
   "source": [
    "# SVC Kernel -Linear"
   ]
  },
  {
   "cell_type": "code",
   "execution_count": 185,
   "id": "3e54ece5",
   "metadata": {},
   "outputs": [
    {
     "data": {
      "text/plain": [
       "0.8066666666666666"
      ]
     },
     "execution_count": 185,
     "metadata": {},
     "output_type": "execute_result"
    }
   ],
   "source": [
    "X = df_classification.drop('STATUS', axis = 1)\n",
    "y = df_classification['STATUS']\n",
    "\n",
    "X_train, X_test, y_train, y_test = train_test_split(X, y, random_state = 0, test_size = 0.2)\n",
    "\n",
    "scaler = MinMaxScaler()\n",
    "X_train = scaler.fit_transform(X_train)\n",
    "X_test = scaler.transform(X_test)\n",
    "clf_lin = SVC(kernel = 'linear')\n",
    "clf_lin.fit(X_train,y_train)\n",
    "y_pred=clf_lin.predict(X_test)\n",
    "accuracy_score(y_test, y_pred)"
   ]
  },
  {
   "cell_type": "markdown",
   "id": "4257cad5",
   "metadata": {},
   "source": [
    "### Using Hyper Tuning"
   ]
  },
  {
   "cell_type": "code",
   "execution_count": 186,
   "id": "f0fa2a0f",
   "metadata": {},
   "outputs": [
    {
     "name": "stdout",
     "output_type": "stream",
     "text": [
      "SVC(C=0.001, gamma=0.001, kernel='linear', max_iter=450)\n",
      "0.7849999999999999\n",
      "Best parameters: {'C': 0.001, 'gamma': 0.001, 'max_iter': 450}\n"
     ]
    }
   ],
   "source": [
    "#Using Hyper Tuning\n",
    "import warnings\n",
    "warnings.filterwarnings('ignore', 'Solver terminated early.*')\n",
    "param_dist={\n",
    "    \"max_iter\":[10,50,100,150,200,250,300,350,400,450,500],\n",
    "    \"C\":[0.001, 0.01, 0.1, 1, 10],\n",
    "    \"gamma\":[0.001, 0.01, 0.1, 1, 10]\n",
    "}\n",
    "grid_svc_hp=GridSearchCV(clf_lin, param_grid=param_dist, cv=5, n_jobs=-1)\n",
    "grid_svc_hp.fit(X_train,y_train)\n",
    "print(grid_svc_hp.best_estimator_)\n",
    "print(grid_svc_hp.best_score_)\n",
    "print(\"Best parameters: {}\".format(grid_svc_hp.best_params_))"
   ]
  },
  {
   "cell_type": "code",
   "execution_count": 187,
   "id": "9dd91fa0",
   "metadata": {},
   "outputs": [],
   "source": [
    "#Predicting y\n",
    "y_pred_svc_hp =grid_svc_hp.predict(X_test)"
   ]
  },
  {
   "cell_type": "code",
   "execution_count": 188,
   "id": "ce5c5885",
   "metadata": {},
   "outputs": [
    {
     "data": {
      "text/plain": [
       "0.6166666666666667"
      ]
     },
     "execution_count": 188,
     "metadata": {},
     "output_type": "execute_result"
    }
   ],
   "source": [
    "#Accuracy Score\n",
    "accuracy_score(y_pred_svc_hp,y_test)"
   ]
  },
  {
   "cell_type": "code",
   "execution_count": 189,
   "id": "c6d0cc6d",
   "metadata": {},
   "outputs": [
    {
     "name": "stdout",
     "output_type": "stream",
     "text": [
      "              precision    recall  f1-score   support\n",
      "\n",
      "           0       0.70      0.80      0.75       422\n",
      "           1       0.28      0.18      0.22       178\n",
      "\n",
      "    accuracy                           0.62       600\n",
      "   macro avg       0.49      0.49      0.48       600\n",
      "weighted avg       0.57      0.62      0.59       600\n",
      "\n"
     ]
    }
   ],
   "source": [
    "#Classification Report\n",
    "import warnings\n",
    "warnings.filterwarnings('ignore')\n",
    "print(classification_report(y_pred_svc_hp,y_test))"
   ]
  },
  {
   "cell_type": "code",
   "execution_count": 190,
   "id": "1bc03fce",
   "metadata": {},
   "outputs": [
    {
     "name": "stdout",
     "output_type": "stream",
     "text": [
      "[[338  84]\n",
      " [146  32]]\n"
     ]
    }
   ],
   "source": [
    "#Confusion Report\n",
    "print(confusion_matrix(y_pred_svc_hp,y_test))"
   ]
  },
  {
   "cell_type": "markdown",
   "id": "74e21421",
   "metadata": {},
   "source": [
    "# Decision Tree"
   ]
  },
  {
   "cell_type": "markdown",
   "id": "e6c72da2",
   "metadata": {},
   "source": [
    "### splitting data into train and test and applied grid search in order to find out the best estimator"
   ]
  },
  {
   "cell_type": "code",
   "execution_count": 191,
   "id": "1c04d5b2",
   "metadata": {},
   "outputs": [],
   "source": [
    "# splitting data into train and test\n",
    "X_train, X_test, y_train, y_test = train_test_split(X, y, random_state = 0)"
   ]
  },
  {
   "cell_type": "code",
   "execution_count": 192,
   "id": "864931c9",
   "metadata": {},
   "outputs": [
    {
     "data": {
      "text/plain": [
       "DecisionTreeClassifier()"
      ]
     },
     "execution_count": 192,
     "metadata": {},
     "output_type": "execute_result"
    }
   ],
   "source": [
    "tree = DecisionTreeClassifier()\n",
    "tree.fit(X_train,y_train)"
   ]
  },
  {
   "cell_type": "code",
   "execution_count": 193,
   "id": "e24661ea",
   "metadata": {},
   "outputs": [],
   "source": [
    "y_pred=tree.predict(X_test)"
   ]
  },
  {
   "cell_type": "code",
   "execution_count": 194,
   "id": "0a0c01df",
   "metadata": {},
   "outputs": [
    {
     "data": {
      "text/plain": [
       "0.6933333333333334"
      ]
     },
     "execution_count": 194,
     "metadata": {},
     "output_type": "execute_result"
    }
   ],
   "source": [
    "from sklearn.metrics import accuracy_score\n",
    "accuracy_score(y_test, y_pred)"
   ]
  },
  {
   "cell_type": "code",
   "execution_count": 195,
   "id": "f946d681",
   "metadata": {},
   "outputs": [],
   "source": [
    "#Predicting y without hyper parameter tuning\n",
    "y_pred_tree =tree.predict(X_test)"
   ]
  },
  {
   "cell_type": "code",
   "execution_count": 196,
   "id": "d331a705",
   "metadata": {},
   "outputs": [
    {
     "data": {
      "text/plain": [
       "0.6933333333333334"
      ]
     },
     "execution_count": 196,
     "metadata": {},
     "output_type": "execute_result"
    }
   ],
   "source": [
    "#Accuracy Score\n",
    "accuracy_score(y_pred_tree,y_test)"
   ]
  },
  {
   "cell_type": "code",
   "execution_count": 197,
   "id": "4a556b4e",
   "metadata": {},
   "outputs": [
    {
     "name": "stdout",
     "output_type": "stream",
     "text": [
      "              precision    recall  f1-score   support\n",
      "\n",
      "           0       0.81      0.81      0.81       604\n",
      "           1       0.20      0.20      0.20       146\n",
      "\n",
      "    accuracy                           0.69       750\n",
      "   macro avg       0.51      0.51      0.51       750\n",
      "weighted avg       0.69      0.69      0.69       750\n",
      "\n"
     ]
    }
   ],
   "source": [
    "#Classification Report\n",
    "import warnings\n",
    "warnings.filterwarnings('ignore')\n",
    "print(classification_report(y_pred_tree,y_test))"
   ]
  },
  {
   "cell_type": "code",
   "execution_count": 198,
   "id": "bf284d41",
   "metadata": {},
   "outputs": [
    {
     "name": "stdout",
     "output_type": "stream",
     "text": [
      "[[491 113]\n",
      " [117  29]]\n"
     ]
    }
   ],
   "source": [
    "#Confusion report\n",
    "print(confusion_matrix(y_pred_tree,y_test))"
   ]
  },
  {
   "cell_type": "markdown",
   "id": "c68452a5",
   "metadata": {},
   "source": [
    "### Decision Tree with Hyper-parameters"
   ]
  },
  {
   "cell_type": "code",
   "execution_count": 199,
   "id": "2ab1989a",
   "metadata": {},
   "outputs": [],
   "source": [
    "param_dist={\n",
    "    \"criterion\":[\"gini\",\"entropy\"],\n",
    "    \"max_depth\":[1,2,3,4,5,6,7]\n",
    "}"
   ]
  },
  {
   "cell_type": "code",
   "execution_count": 200,
   "id": "359a65c3",
   "metadata": {},
   "outputs": [],
   "source": [
    "from sklearn.model_selection import GridSearchCV\n",
    "grid_tree=GridSearchCV(tree, param_grid=param_dist, cv=10, n_jobs=-1)\n"
   ]
  },
  {
   "cell_type": "code",
   "execution_count": 201,
   "id": "10133f63",
   "metadata": {},
   "outputs": [
    {
     "data": {
      "text/plain": [
       "GridSearchCV(cv=10, estimator=DecisionTreeClassifier(), n_jobs=-1,\n",
       "             param_grid={'criterion': ['gini', 'entropy'],\n",
       "                         'max_depth': [1, 2, 3, 4, 5, 6, 7]})"
      ]
     },
     "execution_count": 201,
     "metadata": {},
     "output_type": "execute_result"
    }
   ],
   "source": [
    "grid_tree.fit(X_train,y_train)"
   ]
  },
  {
   "cell_type": "code",
   "execution_count": 202,
   "id": "1991aaf4",
   "metadata": {},
   "outputs": [
    {
     "data": {
      "text/plain": [
       "DecisionTreeClassifier(max_depth=1)"
      ]
     },
     "execution_count": 202,
     "metadata": {},
     "output_type": "execute_result"
    }
   ],
   "source": [
    "grid_tree.best_estimator_"
   ]
  },
  {
   "cell_type": "code",
   "execution_count": 203,
   "id": "fb069807",
   "metadata": {},
   "outputs": [
    {
     "data": {
      "text/plain": [
       "0.7822222222222222"
      ]
     },
     "execution_count": 203,
     "metadata": {},
     "output_type": "execute_result"
    }
   ],
   "source": [
    "grid_tree.best_score_"
   ]
  },
  {
   "cell_type": "code",
   "execution_count": 204,
   "id": "809fbb56",
   "metadata": {},
   "outputs": [
    {
     "data": {
      "text/plain": [
       "{'criterion': 'gini', 'max_depth': 1}"
      ]
     },
     "execution_count": 204,
     "metadata": {},
     "output_type": "execute_result"
    }
   ],
   "source": [
    "#hyper parameter tunning\n",
    "grid_tree.best_params_"
   ]
  },
  {
   "cell_type": "code",
   "execution_count": 205,
   "id": "ce135d69",
   "metadata": {},
   "outputs": [
    {
     "name": "stdout",
     "output_type": "stream",
     "text": [
      "Accuracy on training set: 0.782\n",
      "Accuracy on test set: 0.811\n"
     ]
    }
   ],
   "source": [
    "dtree = DecisionTreeClassifier(max_depth=1, criterion = 'gini')\n",
    "dtree.fit(X_train, y_train)\n",
    "\n",
    "print(\"Accuracy on training set: {:.3f}\".format(dtree.score(X_train, y_train)))\n",
    "print(\"Accuracy on test set: {:.3f}\".format(dtree.score(X_test, y_test)))"
   ]
  },
  {
   "cell_type": "code",
   "execution_count": 207,
   "id": "47ec3f5f",
   "metadata": {},
   "outputs": [],
   "source": [
    "# Predicting y\n",
    "y_pred_dtree =dtree.predict(X_test)"
   ]
  },
  {
   "cell_type": "code",
   "execution_count": 208,
   "id": "14803fb4",
   "metadata": {},
   "outputs": [
    {
     "data": {
      "text/plain": [
       "0.8106666666666666"
      ]
     },
     "execution_count": 208,
     "metadata": {},
     "output_type": "execute_result"
    }
   ],
   "source": [
    "#Accuracy Score\n",
    "accuracy_score(y_pred_dtree,y_test)"
   ]
  },
  {
   "cell_type": "code",
   "execution_count": 210,
   "id": "c33e04f2",
   "metadata": {},
   "outputs": [
    {
     "name": "stdout",
     "output_type": "stream",
     "text": [
      "              precision    recall  f1-score   support\n",
      "\n",
      "           0       1.00      0.81      0.90       750\n",
      "           1       0.00      0.00      0.00         0\n",
      "\n",
      "    accuracy                           0.81       750\n",
      "   macro avg       0.50      0.41      0.45       750\n",
      "weighted avg       1.00      0.81      0.90       750\n",
      "\n"
     ]
    }
   ],
   "source": [
    "#Classification report\n",
    "import warnings\n",
    "warnings.filterwarnings('ignore')\n",
    "print(classification_report(y_pred_dtree,y_test))"
   ]
  },
  {
   "cell_type": "code",
   "execution_count": 211,
   "id": "445e8896",
   "metadata": {},
   "outputs": [
    {
     "name": "stdout",
     "output_type": "stream",
     "text": [
      "[[608 142]\n",
      " [  0   0]]\n"
     ]
    }
   ],
   "source": [
    "#Confusion matrix\n",
    "print(confusion_matrix(y_pred_dtree,y_test))"
   ]
  },
  {
   "cell_type": "markdown",
   "id": "f103f7e4",
   "metadata": {},
   "source": [
    "### Decision Tree Diagram"
   ]
  },
  {
   "cell_type": "code",
   "execution_count": 212,
   "id": "4039a565",
   "metadata": {},
   "outputs": [
    {
     "data": {
      "text/plain": [
       "[Text(167.4, 163.07999999999998, 'X[4] <= 209250.0\\ngini = 0.341\\nsamples = 2250\\nvalue = [1760, 490]'),\n",
       " Text(83.7, 54.360000000000014, 'gini = 0.321\\nsamples = 1578\\nvalue = [1261, 317]'),\n",
       " Text(251.10000000000002, 54.360000000000014, 'gini = 0.382\\nsamples = 672\\nvalue = [499, 173]')]"
      ]
     },
     "execution_count": 212,
     "metadata": {},
     "output_type": "execute_result"
    },
    {
     "data": {
      "image/png": "[encoded data removed]",
      "text/plain": [
       "<Figure size 432x288 with 1 Axes>"
      ]
     },
     "metadata": {
      "needs_background": "light"
     },
     "output_type": "display_data"
    }
   ],
   "source": [
    "from sklearn import tree\n",
    "tree.plot_tree(dtree)"
   ]
  },
  {
   "cell_type": "markdown",
   "id": "13653636",
   "metadata": {},
   "source": [
    "# Softmax Regression"
   ]
  },
  {
   "cell_type": "code",
   "execution_count": 213,
   "id": "99ac1d33",
   "metadata": {},
   "outputs": [],
   "source": [
    "X = df_classification.drop('STATUS', axis = 1)\n",
    "y = df_classification['STATUS']\n",
    "\n",
    "X_train, X_test, y_train, y_test = train_test_split(X, y, random_state = 0, test_size = 0.2)\n",
    "\n",
    "scaler = MinMaxScaler()\n",
    "X_train = scaler.fit_transform(X_train)\n",
    "X_test = scaler.transform(X_test)"
   ]
  },
  {
   "cell_type": "code",
   "execution_count": 214,
   "id": "eec18955",
   "metadata": {},
   "outputs": [
    {
     "name": "stdout",
     "output_type": "stream",
     "text": [
      "Train score: 0.7850\n",
      "Test score: 0.8067\n"
     ]
    }
   ],
   "source": [
    "softmax_reg = LogisticRegression(multi_class=\"multinomial\",solver=\"lbfgs\", C=10, max_iter=1000)\n",
    "softmax_reg.fit(X_train, y_train)\n",
    "\n",
    "\n",
    "print('Train score: {:.4f}'.format(softmax_reg.score(X_train, y_train)))\n",
    "print('Test score: {:.4f}'.format(softmax_reg.score(X_test, y_test)))"
   ]
  },
  {
   "cell_type": "code",
   "execution_count": 215,
   "id": "613acd5d",
   "metadata": {},
   "outputs": [],
   "source": [
    "y_pred=softmax_reg.predict(X_test)"
   ]
  },
  {
   "cell_type": "code",
   "execution_count": 216,
   "id": "8f5a6cfd",
   "metadata": {},
   "outputs": [
    {
     "data": {
      "text/plain": [
       "0.8066666666666666"
      ]
     },
     "execution_count": 216,
     "metadata": {},
     "output_type": "execute_result"
    }
   ],
   "source": [
    "from sklearn.metrics import accuracy_score\n",
    "accuracy_score(y_test, y_pred)"
   ]
  },
  {
   "cell_type": "code",
   "execution_count": 217,
   "id": "43eccaef",
   "metadata": {},
   "outputs": [
    {
     "name": "stdout",
     "output_type": "stream",
     "text": [
      "              precision    recall  f1-score   support\n",
      "\n",
      "           0       1.00      0.81      0.89       600\n",
      "           1       0.00      0.00      0.00         0\n",
      "\n",
      "    accuracy                           0.81       600\n",
      "   macro avg       0.50      0.40      0.45       600\n",
      "weighted avg       1.00      0.81      0.89       600\n",
      "\n"
     ]
    }
   ],
   "source": [
    "#Classification report\n",
    "import warnings\n",
    "warnings.filterwarnings('ignore')\n",
    "print(classification_report(y_pred,y_test))"
   ]
  },
  {
   "cell_type": "code",
   "execution_count": 218,
   "id": "13a2304c",
   "metadata": {},
   "outputs": [
    {
     "name": "stdout",
     "output_type": "stream",
     "text": [
      "[[484 116]\n",
      " [  0   0]]\n"
     ]
    }
   ],
   "source": [
    "#Confusion matrix\n",
    "print(confusion_matrix(y_pred,y_test))"
   ]
  },
  {
   "cell_type": "markdown",
   "id": "570fc132",
   "metadata": {},
   "source": [
    "### We have KNN classification, Logistic Regression, Linear Support Vector Machine, Kerenilzed Support Vector Machine (rbf, poly, and linear), Decision Tree Classifier. The cumulative results are given below\n"
   ]
  },
  {
   "cell_type": "code",
   "execution_count": 1,
   "id": "69f17ba6",
   "metadata": {},
   "outputs": [
    {
     "ename": "NameError",
     "evalue": "name 'pd' is not defined",
     "output_type": "error",
     "traceback": [
      "\u001b[1;31m---------------------------------------------------------------------------\u001b[0m",
      "\u001b[1;31mNameError\u001b[0m                                 Traceback (most recent call last)",
      "\u001b[1;32m~\\AppData\\Local\\Temp/ipykernel_22840/2122824931.py\u001b[0m in \u001b[0;36m<module>\u001b[1;34m\u001b[0m\n\u001b[0;32m      1\u001b[0m \u001b[1;31m#Combined Results\u001b[0m\u001b[1;33m\u001b[0m\u001b[1;33m\u001b[0m\u001b[1;33m\u001b[0m\u001b[0m\n\u001b[1;32m----> 2\u001b[1;33m \u001b[0mdf\u001b[0m \u001b[1;33m=\u001b[0m \u001b[0mpd\u001b[0m\u001b[1;33m.\u001b[0m\u001b[0mread_excel\u001b[0m\u001b[1;33m(\u001b[0m\u001b[1;34m'Results.xlsx'\u001b[0m\u001b[1;33m)\u001b[0m\u001b[1;33m\u001b[0m\u001b[1;33m\u001b[0m\u001b[0m\n\u001b[0m\u001b[0;32m      3\u001b[0m \u001b[0mprint\u001b[0m \u001b[1;33m(\u001b[0m\u001b[0mdf\u001b[0m\u001b[1;33m)\u001b[0m\u001b[1;33m\u001b[0m\u001b[1;33m\u001b[0m\u001b[0m\n",
      "\u001b[1;31mNameError\u001b[0m: name 'pd' is not defined"
     ]
    }
   ],
   "source": [
    "#Combined Results\n",
    "df = pd.read_excel('Results.xlsx')\n",
    "print (df)"
   ]
  },
  {
   "cell_type": "code",
   "execution_count": 224,
   "id": "1f3236de",
   "metadata": {},
   "outputs": [
    {
     "name": "stdout",
     "output_type": "stream",
     "text": [
      "              precision    recall  f1-score   support\n",
      "\n",
      "           0       0.12      0.85      0.21        67\n",
      "           1       0.91      0.20      0.33       533\n",
      "\n",
      "    accuracy                           0.27       600\n",
      "   macro avg       0.52      0.52      0.27       600\n",
      "weighted avg       0.82      0.27      0.31       600\n",
      "\n",
      "[[ 57  10]\n",
      " [427 106]]\n"
     ]
    }
   ],
   "source": [
    "#From above we see that the best recall score is for SVC Poly with hyper parameter tuning\n",
    "print(classification_report(y_pred_grid_poly,y_test))\n",
    "print(confusion_matrix(y_pred_grid_poly,y_test))"
   ]
  },
  {
   "cell_type": "markdown",
   "id": "6bdb1ffd",
   "metadata": {},
   "source": [
    "# Project Report"
   ]
  },
  {
   "cell_type": "markdown",
   "id": "edbc170a",
   "metadata": {},
   "source": [
    "# Project 1\n",
    "\n",
    "### Dataset\n",
    "For our Project we took two datasets and for Classification, we took the dataset of Credit Card Application from Kaggle.\n",
    "There were two CSV files: Credit_card_application.csv and credit_record.csv which we combined to create one dataset.\n",
    "\n",
    "These are the insights of the combined dataset before pre processing\n",
    "\n",
    "- There were total 21 columns \n",
    "- There were 438558 instances (rows)\n",
    "- There were 6 Categorical columns.\n",
    "- There were 3 Oridanl Columns.\n",
    "- 5%-10% of the dataset was missing.\n",
    "\n",
    "The dataset was huge. We imputed the dataset with median and mean after checking the skewness of the dataset. We visualized\n",
    "the dataset using bar charts, histogram and pie charts.\n",
    "\n",
    "### Cleaning Process:\n",
    "\n",
    "The dataset was huge therefore, it took a lot of preprocessing. The values were imputed on the basis of mean and median after visualizing and checking the skewness. We imputed categorical/ordinal values on the basis of count. In the end, we took a sample of 3000 rows out of 38558 dataset because it was huge.\n",
    " \n",
    "\n",
    "### Classification models:\n",
    "\n",
    "We ran different types of classification models such as:\n",
    "\n",
    "#### Knn Classifier:\n",
    "\n",
    "- We ran Knn Classifier on Grid Search and the best parameters that we received KNeighborsClassifier(metric='manhattan',       - n_neighbors=10)\n",
    "- we received the train and test scores as follows:\n",
    "- Train score: 0.7817\n",
    "- Test score: 0.7933\n",
    "\n",
    "#### Logistic Regressor:\n",
    "- We ran Logistic Regressor on Grid Search and the best parameters that we received is - GridSearchCV(cv=5,estimator=LogisticRegression(max_iter=1000, random_state=0), param_grid={'C': [0.01, 0.1, 1, 10, 100]}, scoring='roc_auc')\n",
    "\n",
    "- we received scores as follows:\n",
    "- accuracy_score:  0.815\n",
    "- roc_auc_score:  0.46424031393356546\n",
    "\n",
    "#### Linear SVC:\n",
    "- We ran Linear SVC on Grid Search and the best parameters that we received is Best parameters: {'C': 0.001, 'gamma': 0.001}\n",
    "- Best cross-validation score: 0.78.\n",
    "- we received the train and test scores as follows:\n",
    "- Train score: 0.7779\n",
    "- Test score: 0.8150\n",
    "\n",
    "#### SVC Kernel Poly:\n",
    "- We ran GridSearchCV on SVC kernel Poly in order to find the best parameters. We received these as follows:\n",
    "- Best parameters: {'C': 0.001, 'gamma': 0.001}\n",
    "- Best cross-validation score: 0.78\n",
    "\n",
    "#### SVC rbf:\n",
    "- We ran GridSearchCV on SVC rbf in order to find the best parameters. We received these as follows:\n",
    "- SVC(C=0.001, gamma=0.001, max_iter=450)\n",
    "- best score: 0.7779166666666667\n",
    "\n",
    "#### SVC Kernel -  linear:\n",
    "We hyper tuned this model in order to find the best parameters\n",
    "- best score: 0.7779166666666667\n",
    "- Best parameters: {'C': 0.001, 'gamma': 0.001}\n",
    "\n",
    "#### Decision Tree :\n",
    "We ran Grid Search on Decision Tree in order to find the maximum depth and best parameters\n",
    "- Best Parameters:  {'criterion': 'gini', 'max_depth': 3}\n",
    "- Accuracy on training set: 0.776\n",
    "- Accuracy on test set: 0.812\n",
    "\n",
    "We have KNN classification, Logistic Regression, Linear Support Vector Machine, Kerenilzed Support Vector Machine (rbf, poly, and linear), Decision Tree Classifier. The best accuracy score as per recall is for SVC POLY with hyperparamter tuning.\\\n",
    "\n",
    "Confusion Matrix\n",
    "[[ 57  10]\n",
    " [427 106]]\n",
    " \n",
    "106 good clients were predicted correctly\n"
   ]
  },
  {
   "cell_type": "markdown",
   "id": "87a1e6e1",
   "metadata": {},
   "source": [
    "### We have avoided visualization for the models as it's breaking the code"
   ]
  }
 ],
 "metadata": {
  "kernelspec": {
   "display_name": "Python 3",
   "language": "python",
   "name": "python3"
  },
  "language_info": {
   "codemirror_mode": {
    "name": "ipython",
    "version": 3
   },
   "file_extension": ".py",
   "mimetype": "text/x-python",
   "name": "python",
   "nbconvert_exporter": "python",
   "pygments_lexer": "ipython3",
   "version": "3.8.8"
  }
 },
 "nbformat": 4,
 "nbformat_minor": 5
}
